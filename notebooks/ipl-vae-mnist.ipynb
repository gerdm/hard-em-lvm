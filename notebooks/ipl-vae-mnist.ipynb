{
 "cells": [
  {
   "cell_type": "code",
   "execution_count": 107,
   "id": "f9bac700-d0a6-4d8f-b56b-07e4408eed1f",
   "metadata": {},
   "outputs": [],
   "source": [
    "import os\n",
    "import sys\n",
    "sys.path.append(\"..\")"
   ]
  },
  {
   "cell_type": "code",
   "execution_count": 108,
   "id": "98018491-8052-48a7-9aa3-2bccadd29ab1",
   "metadata": {},
   "outputs": [],
   "source": [
    "os.environ[\"TPU_CHIPS_PER_HOST_BOUNDS\"] = \"1,1,1\"\n",
    "os.environ[\"TPU_HOST_BOUNDS\"] = \"1,1,1\"\n",
    "# Different per process:\n",
    "os.environ[\"TPU_VISIBLE_DEVICES\"] = \"0\" # \"1\", \"2\", \"3\""
   ]
  },
  {
   "cell_type": "markdown",
   "id": "39f59e32-39ee-48c1-863e-4d172f74ae6e",
   "metadata": {},
   "source": [
    "\n",
    "# IPL-VAE: MNIST"
   ]
  },
  {
   "cell_type": "code",
   "execution_count": 3,
   "id": "4294a7ed-9188-424a-af93-4019a6faaadd",
   "metadata": {},
   "outputs": [
    {
     "name": "stderr",
     "output_type": "stream",
     "text": [
      "2022-09-26 08:34:44.780014: W tensorflow/stream_executor/platform/default/dso_loader.cc:64] Could not load dynamic library 'libcudart.so.11.0'; dlerror: libcudart.so.11.0: cannot open shared object file: No such file or directory; LD_LIBRARY_PATH: :/usr/local/lib\n",
      "2022-09-26 08:34:44.804349: E tensorflow/stream_executor/cuda/cuda_blas.cc:2981] Unable to register cuBLAS factory: Attempting to register factory for plugin cuBLAS when one has already been registered\n",
      "2022-09-26 08:34:45.458213: W tensorflow/stream_executor/platform/default/dso_loader.cc:64] Could not load dynamic library 'libnvinfer.so.7'; dlerror: libnvinfer.so.7: cannot open shared object file: No such file or directory; LD_LIBRARY_PATH: :/usr/local/lib\n",
      "2022-09-26 08:34:45.458329: W tensorflow/stream_executor/platform/default/dso_loader.cc:64] Could not load dynamic library 'libnvinfer_plugin.so.7'; dlerror: libnvinfer_plugin.so.7: cannot open shared object file: No such file or directory; LD_LIBRARY_PATH: :/usr/local/lib\n",
      "2022-09-26 08:34:45.458338: W tensorflow/compiler/tf2tensorrt/utils/py_utils.cc:38] TF-TRT Warning: Cannot dlopen some TensorRT libraries. If you would like to use Nvidia GPU with TensorRT, please make sure the missing libraries mentioned above are installed properly.\n"
     ]
    }
   ],
   "source": [
    "import jax\n",
    "import optax\n",
    "import distrax\n",
    "import flax.linen as nn\n",
    "import jax.numpy as jnp\n",
    "import matplotlib.pyplot as plt\n",
    "from flax.training import train_state\n",
    "from functools import partial\n",
    "from tqdm.notebook import tqdm\n",
    "from typing import Callable\n",
    "from torchvision.datasets import MNIST\n",
    "\n",
    "import vae\n",
    "import ipl_vae as linvae"
   ]
  },
  {
   "cell_type": "code",
   "execution_count": 4,
   "id": "7fb83285-fb04-49fe-8407-8906cad64f93",
   "metadata": {},
   "outputs": [],
   "source": [
    "from tensorflow_probability.substrates import jax as tfp\n",
    "tfd = tfp.distributions"
   ]
  },
  {
   "cell_type": "code",
   "execution_count": 5,
   "id": "d4b436de-580b-4e3e-bfbf-5b8fd0410e6f",
   "metadata": {},
   "outputs": [],
   "source": [
    "%config InlineBackend.figure_format = \"retina\"\n",
    "%load_ext autoreload\n",
    "%autoreload 2\n",
    "jnp.set_printoptions(suppress=True, precision=5, linewidth=120)"
   ]
  },
  {
   "cell_type": "markdown",
   "id": "18004784-30cb-4b6c-9097-28a0c041b48c",
   "metadata": {},
   "source": [
    "## Create train dataset"
   ]
  },
  {
   "cell_type": "code",
   "execution_count": 208,
   "id": "1dd6578f-d7e6-45db-902a-0fe82fbd9c6a",
   "metadata": {},
   "outputs": [],
   "source": [
    "root = \"/tmp/mnist\"\n",
    "mnist_train = MNIST(root, download=True, train=True)\n",
    "mnist_test = MNIST(root, download=True, train=False)"
   ]
  },
  {
   "cell_type": "code",
   "execution_count": 209,
   "id": "d5ca76f1-8cef-4581-ad4b-1f82500ecf80",
   "metadata": {},
   "outputs": [],
   "source": [
    "key = jax.random.PRNGKey(314)\n",
    "key_fa_param, key_sample, key = jax.random.split(key, 3)\n",
    "key_vae, key_iplvae = jax.random.split(key)"
   ]
  },
  {
   "cell_type": "code",
   "execution_count": 212,
   "id": "d1af1168-c3e2-4e99-8c0b-869b1591f565",
   "metadata": {},
   "outputs": [
    {
     "data": {
      "text/plain": [
       "(1000, 784)"
      ]
     },
     "execution_count": 212,
     "metadata": {},
     "output_type": "execute_result"
    }
   ],
   "source": [
    "n_train = 1000\n",
    "n_test = 500\n",
    "\n",
    "y_train = jnp.array(mnist_train.targets)\n",
    "\n",
    "X_train = jnp.array(mnist_train.data)[:n_train + n_test]\n",
    "X_train = X_train.reshape(-1, 28 ** 2)\n",
    "\n",
    "y_train = y_train[:n_train + n_test]\n",
    "dim_output = len(jnp.unique(y_train))\n",
    "\n",
    "num_train, dim_obs = X_train.shape\n",
    "# \"Gaussanised\" MNIST\n",
    "# X_train = X_train[..., None]\n",
    "xmax = X_train.max()\n",
    "\n",
    "X_train = X_train / xmax\n",
    "\n",
    "xmean = X_train.mean()\n",
    "xstd = X_train.std()\n",
    "X_train = (X_train - xmean) / xstd\n",
    "\n",
    "y_ohe_train = jax.nn.one_hot(y_train, dim_output)\n",
    "num_samples = len(X_train)\n",
    "\n",
    "X_test = X_train[-n_test:]\n",
    "y_test = y_train[-n_test:]\n",
    "y_ohe_test = y_ohe_train[-n_test:]\n",
    "\n",
    "X_train = X_train[:-n_test]\n",
    "y_train = y_train[:-n_test]\n",
    "y_ohe_train = y_ohe_train[:-n_test]\n",
    "\n",
    "\n",
    "X_train.shape"
   ]
  },
  {
   "cell_type": "markdown",
   "id": "e0d9b676-3158-40cc-b0fa-afb45133f36d",
   "metadata": {},
   "source": [
    "## IPL - VAE"
   ]
  },
  {
   "cell_type": "code",
   "execution_count": 213,
   "id": "abec87b9-0fe1-411e-98c8-7101b210fa97",
   "metadata": {},
   "outputs": [],
   "source": [
    "key_ipl, key_init_params = jax.random.split(key_iplvae, 2)"
   ]
  },
  {
   "cell_type": "code",
   "execution_count": 214,
   "id": "2712c586-6814-4b4b-8ef6-fa97aa5ed373",
   "metadata": {},
   "outputs": [],
   "source": [
    "class FADecoder(nn.Module):\n",
    "    \"\"\"\n",
    "    Parameterise the generative model\n",
    "    p(x,z) = p(x|z) * p(z)\n",
    "    as a Factor Analysis (FA) model\n",
    "    \"\"\"\n",
    "    dim_obs: int\n",
    "    dim_latent: int\n",
    "    normal_init: Callable = nn.initializers.normal()\n",
    "    uniform_init: Callable = nn.initializers.uniform()\n",
    "\n",
    "    \n",
    "    def setup(self):\n",
    "        self.b = self.param(\"b\", self.normal_init, (self.dim_obs,))\n",
    "        self.A = self.param(\"A\", self.normal_init, (self.dim_obs, self.dim_latent))\n",
    "        # self.logPsi = self.param(\"logPsi\", self.normal_init, (self.dim_obs, self.dim_latent))\n",
    "        self.logPsi = self.param(\"logPsi\", self.normal_init, (self.dim_obs,))\n",
    "\n",
    "\n",
    "    def eval_mean(self, z):\n",
    "        mean_x = jnp.einsum(\"...m,dm->...d\", z, self.A)+ self.b\n",
    "        return mean_x\n",
    "    \n",
    "    def eval_diag_cov(self, z):\n",
    "        # logvar_x = jnp.einsum(\"...m,dm->...d\", z, self.logPsi)\n",
    "\n",
    "        zeros = jnp.zeros((self.dim_obs, self.dim_latent))\n",
    "        logvar_x = logvar_x = jnp.einsum(\"...m,dm->...d\", z, zeros) + self.logPsi\n",
    "\n",
    "        return logvar_x\n",
    "\n",
    "\n",
    "    def __call__(self, z):\n",
    "        mean_x = self.eval_mean(z)\n",
    "        logvar_x = self.eval_diag_cov(z)\n",
    "        \n",
    "        return mean_x, logvar_x\n",
    "\n",
    "    \n",
    "class Decoder(nn.Module):\n",
    "    \"\"\"\n",
    "    Parameterise the generative model\n",
    "    p(x,z) = p(x|z) * p(z)\n",
    "    as a \n",
    "    \"\"\"\n",
    "    dim_obs: int\n",
    "    dim_latent: int = 20\n",
    "    \n",
    "    @nn.compact\n",
    "    def __call__(self, z):\n",
    "        x = nn.Dense(100)(z)\n",
    "        x = nn.relu(x)\n",
    "        mean_x = nn.Dense(self.dim_obs)(x)\n",
    "        logvar_x = nn.Dense(self.dim_obs)(x)\n",
    "        return mean_x, logvar_x"
   ]
  },
  {
   "cell_type": "code",
   "execution_count": 215,
   "id": "2112e0dd-09a7-40dd-8a9d-ecf4dbae177f",
   "metadata": {},
   "outputs": [],
   "source": [
    "@partial(jax.vmap, in_axes=(None, None, 1), out_axes=1)\n",
    "def jmp_part (f, primals, tangents):\n",
    "    \"\"\"\n",
    "    Jacobian Matrix Product (JMP) is the product of\n",
    "    Jacobian Vector Product (JVP).\n",
    "    \n",
    "    We assume f: R^L -> R^M. This operation can be\n",
    "    computed in in O(L^2) time.\n",
    "    \"\"\"\n",
    "    return jax.jvp(f, (primals,), (tangents,))\n",
    "\n",
    "def jmp(f, primals, tangents):\n",
    "    fx, jac_mat = jmp_part(f, primals, tangents)\n",
    "    return fx[:, 0], jac_mat\n",
    "\n",
    "\n",
    "@partial(jax.jit, static_argnames='dim')\n",
    "def fill_lower_tri(v, dim):\n",
    "    \"\"\"\n",
    "    Fill a vector with lower triangular (without diagonal)\n",
    "    values into a square matrix.\n",
    "\n",
    "    Source: https://github.com/google/jax/discussions/10146\n",
    "    \"\"\"\n",
    "    idx = jnp.tril_indices(dim, k=-1)\n",
    "    return jnp.zeros((dim, dim), dtype=v.dtype).at[idx].set(v)"
   ]
  },
  {
   "cell_type": "code",
   "execution_count": 235,
   "id": "672ebcdb-8e80-4816-9a1c-3e1684af0f3d",
   "metadata": {},
   "outputs": [],
   "source": [
    "class IPL:\n",
    "    def __init__(self, prior_mu, prior_Sigma, decoder, n_iterations=1):\n",
    "        self.prior_mu = prior_mu\n",
    "        self.prior_Sigma = prior_Sigma\n",
    "        self.decoder = decoder\n",
    "        self.num_iterations = n_iterations\n",
    "        self.dim_obs = decoder.dim_obs\n",
    "        self.dim_latent = decoder.dim_latent\n",
    "        self.num_is_samples = 13\n",
    "\n",
    "\n",
    "    @partial(jax.jit, static_argnums=(0,))\n",
    "    def lin_predict(self, mu, Sigma, params):\n",
    "        m, logPsi = self.decoder.apply(params, mu)\n",
    "        G = jax.jacfwd(lambda x: self.decoder.apply(params, x)[0])(mu)\n",
    "        Psi = jnp.exp(logPsi) * jnp.eye(self.dim_obs)\n",
    "        \n",
    "        S = jnp.einsum(\"im,mk,jk->ij\", G, Sigma, G)\n",
    "        S = S + Psi\n",
    "        C = Sigma @ G.T\n",
    "        \n",
    "        return m, S, C\n",
    "\n",
    "    \n",
    "    def gauss_condition(self, mu_prev, Sigma_prev, y, m, S, C):\n",
    "        K = jnp.linalg.solve(S, C.T).T\n",
    "        mu_est = mu_prev + K @ (y - m)\n",
    "\n",
    "        Sigma_est = jnp.einsum(\"im,mk,jk->ij\", K, S, K)\n",
    "        Sigma_est = Sigma_prev - Sigma_est\n",
    "\n",
    "        return mu_est, Sigma_est\n",
    "    \n",
    "    \n",
    "    def iterate_posterior_step(self, state, y, params):\n",
    "        \"\"\"\n",
    "        Iterate posterior step\n",
    "        \"\"\"\n",
    "        mu, Sigma = state\n",
    "        m, S, C = self.lin_predict(mu, Sigma, params)\n",
    "        mu_est, Sigma_est = self.gauss_condition(mu, Sigma, y, m, S, C)\n",
    "        new_state = (mu_est, Sigma_est)\n",
    "        return new_state, None\n",
    "    \n",
    "    \n",
    "    def estimate_posterior_params(self, y, params):\n",
    "        state = (self.prior_mu, self.prior_Sigma)\n",
    "        ips = partial(self.iterate_posterior_step, params=params)\n",
    "        \n",
    "        # lax.scan makes it painfully slow\n",
    "        for it in range(self.num_iterations):\n",
    "            state, _ = ips(state, y)\n",
    "            \n",
    "        post_mu, post_Sigma = state\n",
    "        return post_mu, post_Sigma\n",
    "    \n",
    "\n",
    "    @partial(jax.jit, static_argnums=(0,))\n",
    "    def compute_iwlmm_single(self, key, obs, params):\n",
    "        mu, Sigma = self.estimate_posterior_params(obs, params)\n",
    "        dist_posterior_latent = tfd.MultivariateNormalFullCovariance(mu, Sigma)\n",
    "        dist_prior_latent = tfd.MultivariateNormalDiag(jnp.zeros(dim_latent), jnp.ones(dim_latent) * 0.9)\n",
    "\n",
    "        is_samples = dist_posterior_latent.sample(seed=key, sample_shape=self.num_is_samples)\n",
    "        \n",
    "        mean_x, logvar_x = self.decoder.apply(params, is_samples)\n",
    "        \n",
    "        # cov_x = jax.vmap(jnp.diag)(jnp.exp(logvar_x / 2))\n",
    "        # dist_decoder = distrax.MultivariateNormalFullCovariance(mean_x, cov_x)\n",
    "\n",
    "        cov_x = jnp.exp(logvar_x / 2)\n",
    "        dist_decoder = tfd.MultivariateNormalDiag(mean_x, cov_x)\n",
    "        \n",
    "\n",
    "        log_is = (dist_decoder.log_prob(obs)\n",
    "                + dist_prior_latent.log_prob(is_samples)\n",
    "                - dist_posterior_latent.log_prob(is_samples))\n",
    "        \n",
    "        return jax.nn.logsumexp(log_is, b=1/self.num_is_samples)"
   ]
  },
  {
   "cell_type": "markdown",
   "id": "1a45f22f-4497-470a-87a8-afbe5108d313",
   "metadata": {},
   "source": [
    "## Run process"
   ]
  },
  {
   "cell_type": "code",
   "execution_count": 432,
   "id": "ea18c81c-a133-49e7-a1df-8d76f08a2e61",
   "metadata": {},
   "outputs": [],
   "source": [
    "dim_latent = 50"
   ]
  },
  {
   "cell_type": "code",
   "execution_count": 452,
   "id": "1c7959c8-4a0d-41f7-8e37-56dfb74bf1d4",
   "metadata": {},
   "outputs": [],
   "source": [
    "batch_init = jnp.ones((1, dim_latent))\n",
    "decoder = FADecoder(dim_obs, dim_latent)\n",
    "\n",
    "\n",
    "params_decoder = decoder.init(key_init_params, batch_init)\n",
    "\n",
    "prior_mu, prior_Sigma = jnp.ones(dim_latent), jnp.eye(dim_latent) * 0.9\n",
    "ipl_vae = IPL(prior_mu, prior_Sigma, decoder, n_iterations=1)\n",
    "\n",
    "learning_rate = 1e-5\n",
    "tx = optax.adam(-learning_rate)\n",
    "\n",
    "tx = optax.chain(\n",
    "  optax.clip(0.5),\n",
    "  optax.sgd(-learning_rate),\n",
    ")\n",
    "\n",
    "\n",
    "opt_state = tx.init(params_decoder)"
   ]
  },
  {
   "cell_type": "code",
   "execution_count": 453,
   "id": "b78d783c-36ce-48b0-bbc7-f2a80389d0c0",
   "metadata": {},
   "outputs": [],
   "source": [
    "def epoch_step(state, xs, gradfn):\n",
    "    params, opt_state = state\n",
    "    key, observation = xs\n",
    "    \n",
    "    loss, grads = gradfn(key, observation, params)\n",
    "    updates, opt_state = tx.update(grads, opt_state)\n",
    "    params = optax.apply_updates(params, updates)\n",
    "    state = (params, opt_state)\n",
    "    \n",
    "    return state, loss"
   ]
  },
  {
   "cell_type": "code",
   "execution_count": 454,
   "id": "3b588efa-5d30-49d5-8fca-25fcd676ece0",
   "metadata": {},
   "outputs": [],
   "source": [
    "def run_epoch(key, params_init, opt_state, observations, gradfn):\n",
    "    keys = jax.random.split(key, len(observations))\n",
    "    xs = (keys, observations)\n",
    "    state = (params_init, opt_state)\n",
    "    state, losses = jax.lax.scan(partial(epoch_step, gradfn=gradfn), state, xs)\n",
    "    return state, losses"
   ]
  },
  {
   "cell_type": "code",
   "execution_count": 455,
   "id": "49942149-b4d9-46ca-90a2-8f407360633b",
   "metadata": {},
   "outputs": [],
   "source": [
    "samples_observed = X_train"
   ]
  },
  {
   "cell_type": "code",
   "execution_count": 473,
   "id": "3820f5e2-a77f-457b-a730-0d6072f9b053",
   "metadata": {},
   "outputs": [
    {
     "data": {
      "application/json": {
       "ascii": false,
       "bar_format": null,
       "colour": null,
       "elapsed": 0.014700651168823242,
       "initial": 0,
       "n": 0,
       "ncols": null,
       "nrows": 16,
       "postfix": null,
       "prefix": "",
       "rate": null,
       "total": 80,
       "unit": "it",
       "unit_divisor": 1000,
       "unit_scale": false
      },
      "application/vnd.jupyter.widget-view+json": {
       "model_id": "2ef0aec5b87747f195c05b16d85836a9",
       "version_major": 2,
       "version_minor": 0
      },
      "text/plain": [
       "  0%|          | 0/80 [00:00<?, ?it/s]"
      ]
     },
     "metadata": {},
     "output_type": "display_data"
    },
    {
     "name": "stdout",
     "output_type": "stream",
     "text": [
      "CPU times: user 17.4 s, sys: 2.13 s, total: 19.5 s\n",
      "Wall time: 3min 50s\n"
     ]
    }
   ],
   "source": [
    "%%time\n",
    "\n",
    "loss_hist = []\n",
    "key_epochs = jax.random.split(key_ipl, 80)\n",
    "gradfn = jax.value_and_grad(ipl_vae.compute_iwlmm_single, argnums=-1)\n",
    "part_epoch = jax.jit(partial(run_epoch, gradfn=gradfn))\n",
    "\n",
    "for key in tqdm(key_epochs):\n",
    "    state_final, loss = part_epoch(key, params_decoder, opt_state, samples_observed)\n",
    "    params_decoder, opt_state = state_final\n",
    "    loss = loss.sum()\n",
    "    print(f\"{loss:,.2f}\", end=\"\\r\")\n",
    "    loss_hist.append(loss.sum())"
   ]
  },
  {
   "cell_type": "markdown",
   "id": "635804b8-3dee-4379-a84e-d2a07fc5bca4",
   "metadata": {},
   "source": [
    "## Analysing posterior observations"
   ]
  },
  {
   "cell_type": "code",
   "execution_count": 474,
   "id": "fc169af1-10e5-46fa-8ff2-7941f27cb723",
   "metadata": {},
   "outputs": [],
   "source": [
    "obs = samples_observed[4]"
   ]
  },
  {
   "cell_type": "code",
   "execution_count": 488,
   "id": "fd7b0a1e-9230-4aa7-821c-0cc28fefa44a",
   "metadata": {},
   "outputs": [],
   "source": [
    "n_samples = 5\n",
    "key_choice, keys_is = jax.random.split(key_vae)\n",
    "keys_is = jax.random.split(keys_is, n_samples)"
   ]
  },
  {
   "cell_type": "code",
   "execution_count": 489,
   "id": "228c23ff-e11a-4ca9-b312-d4a2d7b1819a",
   "metadata": {},
   "outputs": [
    {
     "data": {
      "image/png": "[encoded data removed]",
      "text/plain": [
       "<Figure size 640x400 with 10 Axes>"
      ]
     },
     "metadata": {
      "image/png": {
       "height": 295,
       "width": 629
      }
     },
     "output_type": "display_data"
    }
   ],
   "source": [
    "ixs_test = jax.random.choice(key_choice, len(samples_observed), (n_samples,))\n",
    "\n",
    "fig, ax = plt.subplots(2, n_samples, figsize=(6.4, 4.0))\n",
    "\n",
    "for ax, ix, key in zip(ax.T, ixs_test, keys_is):\n",
    "    obs = samples_observed[ix]\n",
    "\n",
    "    mu, Sigma = ipl_vae.estimate_posterior_params(obs, params_decoder)\n",
    "    dist_posterior_latent = tfd.MultivariateNormalFullCovariance(mu, Sigma)\n",
    "    is_samples = dist_posterior_latent.sample(seed=key, sample_shape=1)\n",
    "    mean_x, logvar_x = ipl_vae.decoder.apply(params_decoder, is_samples)\n",
    "\n",
    "    ax[0].imshow(obs.reshape(28, 28), cmap=\"bone\")\n",
    "    ax[1].imshow(mean_x.reshape(28, 28), cmap=\"bone\")\n",
    "    ax[0].axis(\"off\")\n",
    "    ax[1].axis(\"off\")\n",
    "plt.tight_layout()"
   ]
  }
 ],
 "metadata": {
  "kernelspec": {
   "display_name": "Python 3 (ipykernel)",
   "language": "python",
   "name": "python3"
  },
  "language_info": {
   "codemirror_mode": {
    "name": "ipython",
    "version": 3
   },
   "file_extension": ".py",
   "mimetype": "text/x-python",
   "name": "python",
   "nbconvert_exporter": "python",
   "pygments_lexer": "ipython3",
   "version": "3.10.6"
  }
 },
 "nbformat": 4,
 "nbformat_minor": 5
}
