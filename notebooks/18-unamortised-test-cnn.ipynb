{
 "cells": [
  {
   "cell_type": "markdown",
   "id": "f518129d-2a96-4bb9-bda4-4dd622944159",
   "metadata": {},
   "source": [
    "# Unamortised VAE test"
   ]
  },
  {
   "cell_type": "code",
   "execution_count": 1,
   "id": "ccc0286a-ec88-4887-9755-a6dba56305db",
   "metadata": {},
   "outputs": [],
   "source": [
    "%load_ext autoreload\n",
    "%autoreload 2"
   ]
  },
  {
   "cell_type": "code",
   "execution_count": 2,
   "id": "b2d631bc-74b3-4a7c-852d-8d61a54c95fb",
   "metadata": {},
   "outputs": [],
   "source": [
    "import sys\n",
    "sys.path.append(\"../experiments/\")\n",
    "import base_vae_hardem"
   ]
  },
  {
   "cell_type": "code",
   "execution_count": 3,
   "id": "e9eb5047-dc4e-4a9f-a4cf-4617f988e79c",
   "metadata": {},
   "outputs": [],
   "source": [
    "import os\n",
    "\n",
    "os.environ[\"TPU_CHIPS_PER_HOST_BOUNDS\"] = \"1,1,1\"\n",
    "os.environ[\"TPU_HOST_BOUNDS\"] = \"1,1,1\"\n",
    "os.environ[\"TPU_VISIBLE_DEVICES\"] = \"1\""
   ]
  },
  {
   "cell_type": "code",
   "execution_count": 4,
   "id": "fb9956e8-0e6e-4dc1-b63a-b4aecde0bbe8",
   "metadata": {},
   "outputs": [],
   "source": [
    "import jax\n",
    "import hlax\n",
    "import tomli\n",
    "import distrax\n",
    "import pandas as pd\n",
    "import seaborn as sns\n",
    "import jax.numpy as jnp\n",
    "import flax.linen as nn\n",
    "import matplotlib.pyplot as plt\n",
    "from functools import partial\n",
    "from tqdm.notebook import tqdm"
   ]
  },
  {
   "cell_type": "code",
   "execution_count": 5,
   "id": "2ba39221-fb52-4a3e-86d6-6d3b88e0834e",
   "metadata": {},
   "outputs": [],
   "source": [
    "%config InlineBackend.figure_format = \"retina\""
   ]
  },
  {
   "cell_type": "code",
   "execution_count": 6,
   "id": "b7ce2e98-70d2-4e78-b3c9-76780476ad22",
   "metadata": {},
   "outputs": [],
   "source": [
    "def build_mll_summary(res, procedure):\n",
    "    df_mll = pd.DataFrame(res[\"test\"][\"hist_loss\"]).melt(var_name=\"episode\", value_name=\"mll\")\n",
    "    df_mll[\"procedure\"] = procedure\n",
    "\n",
    "    df_times = pd.DataFrame.from_dict({\"times\": res[\"train\"][\"times\"]}, orient=\"index\").T\n",
    "    df_mll = pd.merge(df_mll, df_times, left_on=\"episode\", right_index=True)\n",
    "    return df_mll"
   ]
  },
  {
   "cell_type": "markdown",
   "id": "473cc609-0d25-4230-8eb3-ba40cf8c8fcf",
   "metadata": {},
   "source": [
    "## Loss functions"
   ]
  },
  {
   "cell_type": "code",
   "execution_count": 7,
   "id": "30b84f29-bf4f-496a-b1dc-691c0a4f79b0",
   "metadata": {},
   "outputs": [],
   "source": [
    "def iwae_bern(key, params, apply_fn, X_batch):\n",
    "    \"\"\"\n",
    "    Importance-weighted marginal log-likelihood for\n",
    "    a Bernoulli decoder and Gaussian encoder\n",
    "    \"\"\"\n",
    "    batch_size = len(X_batch)\n",
    "\n",
    "    encode_decode = apply_fn(params, X_batch, key)\n",
    "    z, (mean_z, logvar_z), logit_mean_x = encode_decode\n",
    "    _, num_is_samples, dim_latent = z.shape\n",
    "\n",
    "    std_z = jnp.exp(logvar_z / 2)\n",
    "    \n",
    "    dist_prior = distrax.MultivariateNormalDiag(jnp.zeros(dim_latent),\n",
    "                                                jnp.ones(dim_latent))\n",
    "    dist_decoder = distrax.Bernoulli(logits=logit_mean_x)\n",
    "    dist_posterior = distrax.Normal(mean_z[None, ...], std_z[None, ...])\n",
    "\n",
    "    log_prob_z_prior = dist_prior.log_prob(z)\n",
    "    log_prob_x = dist_decoder.log_prob(X_batch).sum(axis=(-1, -2, -3))\n",
    "    log_prob_z_post = dist_posterior.log_prob(z).sum(axis=-1)\n",
    "\n",
    "    log_prob = log_prob_z_prior + log_prob_x - log_prob_z_post\n",
    "\n",
    "    niwmll = jax.nn.logsumexp(log_prob, axis=-1, b=1/num_is_samples).mean()\n",
    "    return niwmll\n",
    "\n",
    "\n",
    "def iwae_bern_delta(key, params, apply_fn, X_batch):\n",
    "    encode_decode = apply_fn(params, X_batch, key)\n",
    "    z_batch, logit_mean_x = encode_decode\n",
    "    _, dim_latent = z_batch.shape\n",
    "    \n",
    "    dist_prior = distrax.MultivariateNormalDiag(jnp.zeros(dim_latent), jnp.ones(dim_latent))\n",
    "    dist_decoder = distrax.Bernoulli(logits=logit_mean_x)\n",
    "    \n",
    "    log_prob_z_prior = dist_prior.log_prob(z_batch)\n",
    "    log_prob_x = dist_decoder.log_prob(X_batch).sum(axis=-1)\n",
    "\n",
    "    log_prob = log_prob_z_prior + log_prob_x\n",
    "\n",
    "    return -log_prob.mean()"
   ]
  },
  {
   "cell_type": "markdown",
   "id": "77acf9a7-86c4-49a1-80dc-0a36bb1c2114",
   "metadata": {},
   "source": [
    "## Models"
   ]
  },
  {
   "cell_type": "code",
   "execution_count": 8,
   "id": "f196554d-57ef-43b7-b826-983f3240483e",
   "metadata": {},
   "outputs": [],
   "source": [
    "from typing import Callable, List\n",
    "\n",
    "class Decoder(nn.Module):\n",
    "    \"\"\"\n",
    "    For the generative model\n",
    "    p(x,z) = p(x|z) * p(z)\n",
    "    \"\"\"\n",
    "    dim_full: int\n",
    "    dim_latent: int = 20\n",
    "    \n",
    "    def setup(self):\n",
    "        self.logit = nn.Dense(self.dim_full, use_bias=False, name=\"mean\")\n",
    "    \n",
    "    @nn.compact\n",
    "    def __call__(self, z):\n",
    "        x = nn.Dense(30)(z)\n",
    "        x = nn.elu(x)\n",
    "        logit_x = self.logit(x)\n",
    "        return logit_x\n",
    "\n",
    "\n",
    "class Encoder(nn.Module):\n",
    "    \"\"\"\n",
    "    two-layered encoder\n",
    "    \"\"\"\n",
    "    dim_latent: int\n",
    "    n_hidden: int = 50\n",
    "    normal_init: Callable = nn.initializers.normal()\n",
    "    \n",
    "    def setup(self):\n",
    "        ...\n",
    "        # self.logvar_diag = self.param(\"logvar_diag\", self.normal_init, (self.dim_latent,))\n",
    "    \n",
    "    @nn.compact\n",
    "    def __call__(self, x):\n",
    "        z = nn.Dense(self.n_hidden)(x)\n",
    "        z = nn.tanh(z)\n",
    "        z = nn.Dense(self.n_hidden)(z)\n",
    "        z = nn.tanh(z)\n",
    "        mean_z = nn.Dense(self.dim_latent)(z)\n",
    "        logvar_z = nn.Dense(self.dim_latent, use_bias=False)(z)\n",
    "        # logvar_z = self.logvar_diag\n",
    "        return mean_z, logvar_z\n",
    "    \n",
    "\n",
    "\n",
    "class ConvEncoder(nn.Module):\n",
    "    latent_dim: List\n",
    "\n",
    "    @nn.compact\n",
    "    def __call__(self, x):\n",
    "        z = nn.Conv(5, (3, 3), padding=\"SAME\")(x)\n",
    "        z = nn.elu(z)\n",
    "        z = nn.max_pool(z, (2, 2), padding=\"SAME\")\n",
    "        z = z.reshape((z.shape[0], -1))\n",
    "        z = nn.Dense(self.latent_dim)(z)\n",
    "\n",
    "        mean_z = nn.Dense(self.latent_dim)(z)\n",
    "        logvar_z = nn.Dense(self.latent_dim)(z)\n",
    "        return mean_z, logvar_z\n",
    "\n",
    "\n",
    "class ConvDecoder(nn.Module):\n",
    "    dim_obs: List\n",
    "    dim_latent: int\n",
    "\n",
    "    @nn.compact\n",
    "    def __call__(self, z):\n",
    "        x = nn.Dense(28 ** 2)(z)\n",
    "        x = x.reshape(*z.shape[:-1], *(28, 28, 1))\n",
    "        x = nn.elu(x)\n",
    "        x = nn.Conv(5, (3, 3), padding=\"SAME\")(x)\n",
    "        x = nn.elu(x)\n",
    "        x = nn.Conv(1, (3, 3), padding=\"SAME\")(x)\n",
    "        return x    \n",
    "\n",
    "    \n",
    "    \n",
    "class GaussEncoder(nn.Module):\n",
    "    dim_latent: int\n",
    "    normal_init: Callable = nn.initializers.normal()\n",
    "\n",
    "    def setup(self):\n",
    "        self.mu = self.param(\"mu\", self.normal_init, (self.dim_latent,))\n",
    "        # self.mu = nn.Dense(self.dim_latent)\n",
    "        self.logvar_diag = self.param(\"logvar_diag\", self.normal_init, (self.dim_latent,))\n",
    "\n",
    "    def __call__(self, x):\n",
    "        \"\"\"\n",
    "        Input x (_) is a dummy variable\n",
    "        \"\"\"\n",
    "        # z = self.mu(x)\n",
    "        z = self.mu\n",
    "        return z, self.logvar_diag\n",
    "\n",
    "    \n",
    "class UnamortisedVAEBernDelta(nn.Module):\n",
    "    \"\"\"\n",
    "    Base class for an unamortised variational autoencoder\n",
    "    with Bernoulli decoder p(x|z) = Bern(x| f(z))\n",
    "    and Dirac-delta encoder q(z|x) = delta(z = z^)\n",
    "    \"\"\"\n",
    "    latent_dim: int\n",
    "    obs_dim: int\n",
    "    Encoder: nn.Module\n",
    "    Decoder: nn.Module\n",
    "\n",
    "    def setup(self):\n",
    "        self.encoder = nn.vmap(\n",
    "            self.Encoder,\n",
    "            variable_axes={\"params\": 0},\n",
    "            split_rngs={\"params\": True},\n",
    "            in_axes=0,\n",
    "        )(self.latent_dim)\n",
    "        self.decoder = self.Decoder(self.obs_dim, self.latent_dim)\n",
    "\n",
    "    def __call__(self, x, key_eps, num_samples=1):\n",
    "        z = self.encoder(x)\n",
    "        logit_mean_x = self.decoder(z)\n",
    "        return z, logit_mean_x\n",
    "\n",
    "\n",
    "class DeltaEncoder(nn.Module):\n",
    "    dim_latent: int\n",
    "    normal_init: Callable = nn.initializers.normal()\n",
    "\n",
    "    def setup(self):\n",
    "        self.z = self.param(\"z\", self.normal_init, (self.dim_latent,))\n",
    "\n",
    "    def __call__(self, _):\n",
    "        \"\"\"\n",
    "        Input x (_) is a dummy variable\n",
    "        \"\"\"\n",
    "        return self.z"
   ]
  },
  {
   "cell_type": "markdown",
   "id": "cad12d52-946b-447b-ab61-a236d7ea1526",
   "metadata": {},
   "source": [
    "## Setup"
   ]
  },
  {
   "cell_type": "code",
   "execution_count": 9,
   "id": "0b42b9aa-561c-4062-8d76-f6bdc81fbba0",
   "metadata": {},
   "outputs": [],
   "source": [
    "batch_size = 200\n",
    "key = jax.random.PRNGKey(314)\n",
    "warmup, test = hlax.datasets.load_fashion_mnist(n_train=5_000, n_test=100, normalize=False, melt=False)\n",
    "X_warmup = warmup[0][..., None].round()\n",
    "X_test = test[0][..., None].round()"
   ]
  },
  {
   "cell_type": "code",
   "execution_count": 195,
   "id": "b4e8f188-fd0e-4a72-a39e-ce5a747ebba1",
   "metadata": {},
   "outputs": [],
   "source": [
    "dim_latent = 50\n",
    "num_obs, *dim_obs = X_warmup.shape"
   ]
  },
  {
   "cell_type": "code",
   "execution_count": 196,
   "id": "cad689e6-e9a4-427c-94e7-32759ba529f3",
   "metadata": {},
   "outputs": [
    {
     "name": "stdout",
     "output_type": "stream",
     "text": [
      "# TOML file for a fashion mnist dataset\n",
      "[setup]\n",
      "dim_latent = 50\n",
      "\n",
      "[train]\n",
      "    num_obs = 10_000\n",
      "    num_epochs = 3000\n",
      "    batch_size = 200\n",
      "    eval_epochs = [2, 10, 100, 250, 500, 1000, 1100, 1200, 1300, 1400, 1500, 1600, 1700, 1800, 1900, 2000, 2500, 3000]\n",
      "    learning_rate = 1e-6 # For VAE and HardEM\n",
      "\n",
      "    [train.vae]\n",
      "        num_is_samples = 10\n",
      "    [train.hard_em]\n",
      "        num_its_latent = 10 # E-step\n",
      "        num_its_params = 5 # M-step\n",
      "\n",
      "[test]\n",
      "    batch_size = 100\n",
      "    num_obs = 1000\n",
      "    num_epochs = 500\n",
      "    learning_rate = 1e-6\n",
      "    num_is_samples = 10\n",
      "    num_e_steps = 5\n",
      "    num_m_steps = 0\n"
     ]
    }
   ],
   "source": [
    "path_config = \"../experiments/configs/fmnist-conv01.toml\"\n",
    "with open(path_config, \"rb\") as f:\n",
    "    config_str = f.read().decode(\"utf-8\")\n",
    "    config = tomli.loads(config_str)\n",
    "\n",
    "print(config_str)"
   ]
  },
  {
   "cell_type": "code",
   "execution_count": 212,
   "id": "e163e7d6-e6d6-4f75-82df-f8389550076a",
   "metadata": {},
   "outputs": [],
   "source": [
    "config[\"train\"][\"learning_rate\"] = 1e-5\n",
    "config[\"train\"][\"hard_em\"][\"num_its_latent\"] = 20\n",
    "config[\"train\"][\"hard_em\"][\"num_its_params\"] = 1\n",
    "config[\"train\"][\"num_epochs\"] = 100\n",
    "config[\"train\"][\"vae\"][\"num_is_samples\"] = 5\n",
    "\n",
    "step = 2\n",
    "config[\"train\"][\"eval_epochs\"] = [1] + list(range(0, 100 + step, step))[1:]\n",
    "\n",
    "config[\"test\"][\"learning_rate\"] = 1e-2\n",
    "config[\"test\"][\"num_epochs\"] = 1000\n",
    "config[\"test\"][\"num_e_steps\"] = 1\n",
    "config[\"test\"][\"num_m_steps\"] = 0\n",
    "config[\"test\"][\"num_is_samples\"] = 1"
   ]
  },
  {
   "cell_type": "code",
   "execution_count": 213,
   "id": "986c75ad-848b-4ce7-989a-da5faa099849",
   "metadata": {},
   "outputs": [],
   "source": [
    "model_decoder = Decoder(28 ** 2, dim_latent)"
   ]
  },
  {
   "cell_type": "code",
   "execution_count": 214,
   "id": "f5af55f5-36b7-4297-8a39-1560350bf79f",
   "metadata": {},
   "outputs": [],
   "source": [
    "model_test = hlax.models.UnamortisedVAEBern(dim_latent, dim_obs[0], GaussEncoder, ConvDecoder)\n",
    "config_test = hlax.unamortised.load_test_config(config, model_test)"
   ]
  },
  {
   "cell_type": "markdown",
   "id": "68ea9f0a-c63b-4021-85e0-73dbae9263d7",
   "metadata": {},
   "source": [
    "## Benchmark models"
   ]
  },
  {
   "cell_type": "code",
   "execution_count": 215,
   "id": "373b05f5-571b-4f7c-bcd1-20a0366b7aa6",
   "metadata": {},
   "outputs": [],
   "source": [
    "def iwae_bern(key, params, apply_fn, X_batch):\n",
    "    \"\"\"\n",
    "    Importance-weighted marginal log-likelihood for\n",
    "    a Bernoulli decoder and Gaussian encoder\n",
    "    \"\"\"\n",
    "    batch_size = len(X_batch)\n",
    "\n",
    "    encode_decode = apply_fn(params, X_batch, key)\n",
    "    z, (mean_z, logvar_z), logit_mean_x = encode_decode\n",
    "    _, num_is_samples, dim_latent = z.shape\n",
    "\n",
    "    std_z = jnp.exp(logvar_z / 2)\n",
    "    \n",
    "    dist_prior = distrax.MultivariateNormalDiag(jnp.zeros(dim_latent),\n",
    "                                                jnp.ones(dim_latent))\n",
    "    dist_decoder = distrax.Bernoulli(logits=logit_mean_x)\n",
    "    dist_posterior = distrax.Normal(mean_z, std_z)\n",
    "\n",
    "    log_prob_z_prior = dist_prior.log_prob(z)\n",
    "    log_prob_x = dist_decoder.log_prob(X_batch).sum(axis=(-1, -2, -3))\n",
    "    log_prob_z_post = dist_posterior.log_prob(z).sum(axis=-1)\n",
    "\n",
    "    log_prob = log_prob_z_prior + log_prob_x - log_prob_z_post\n",
    "\n",
    "    niwmll = jax.nn.logsumexp(log_prob, axis=-1, b=1/num_is_samples).mean()\n",
    "    return niwmll\n",
    "\n",
    "\n",
    "def elbo_bern(key, params, apply_fn, X_batch):\n",
    "    \"\"\"\n",
    "    Importance-weighted marginal log-likelihood for\n",
    "    a Bernoulli decoder and Gaussian encoder\n",
    "    \"\"\"\n",
    "    batch_size = len(X_batch)\n",
    "\n",
    "    encode_decode = apply_fn(params, X_batch, key)\n",
    "    z, (mean_z, logvar_z), logit_mean_x = encode_decode\n",
    "    _, num_is_samples, dim_latent = z.shape\n",
    "\n",
    "    std_z = jnp.exp(logvar_z / 2)\n",
    "    var_z = jnp.exp(logvar_z)\n",
    "    \n",
    "    dist_prior = distrax.MultivariateNormalDiag(jnp.zeros(dim_latent),\n",
    "                                                jnp.ones(dim_latent))\n",
    "    dist_decoder = distrax.Bernoulli(logits=logit_mean_x)\n",
    "    dist_posterior = distrax.Normal(mean_z, std_z)\n",
    "\n",
    "    log_prob_z_prior = dist_prior.log_prob(z)\n",
    "    log_prob_x = dist_decoder.log_prob(X_batch).sum(axis=(-1, -2, -3))\n",
    "    log_prob_z_post = dist_posterior.log_prob(z).sum(axis=-1)\n",
    "    \n",
    "    \n",
    "    loss = (1 + logvar_z - mean_z ** 2 - var_z).sum(axis=-1) / 2 + log_prob_x.mean(axis=0)\n",
    "    return -loss.mean()\n",
    "\n",
    "\n",
    "\n",
    "def iwae_bern_delta(key, params, apply_fn, X_batch):\n",
    "    encode_decode = apply_fn(params, X_batch, key)\n",
    "    z_batch, logit_mean_x = encode_decode\n",
    "    _, dim_latent = z_batch.shape\n",
    "    \n",
    "    dist_prior = distrax.MultivariateNormalDiag(jnp.zeros(dim_latent), jnp.ones(dim_latent))\n",
    "    dist_decoder = distrax.Bernoulli(logits=logit_mean_x)\n",
    "    \n",
    "    log_prob_z_prior = dist_prior.log_prob(z_batch)\n",
    "    log_prob_x = dist_decoder.log_prob(X_batch).sum(axis=(-1, -2, -3))\n",
    "\n",
    "    log_prob = log_prob_z_prior + log_prob_x\n",
    "\n",
    "    return -log_prob.mean()"
   ]
  },
  {
   "cell_type": "markdown",
   "id": "29d868cc-b615-4fda-97d8-f255a2f1608b",
   "metadata": {},
   "source": [
    "### VAE"
   ]
  },
  {
   "cell_type": "code",
   "execution_count": null,
   "id": "d151afe1-63ed-4b25-ad3a-b7d38a8f49d6",
   "metadata": {},
   "outputs": [
    {
     "data": {
      "application/vnd.jupyter.widget-view+json": {
       "model_id": "fcaa398cf3d140dcac128cf15eedfcdd",
       "version_major": 2,
       "version_minor": 0
      },
      "text/plain": [
       "  0%|          | 0/100 [00:00<?, ?it/s]"
      ]
     },
     "metadata": {},
     "output_type": "display_data"
    },
    {
     "data": {
      "application/vnd.jupyter.widget-view+json": {
       "model_id": "195a13d86c674d41a4fa21881fa3f2b1",
       "version_major": 2,
       "version_minor": 0
      },
      "text/plain": [
       "  0%|          | 0/51 [00:00<?, ?it/s]"
      ]
     },
     "metadata": {},
     "output_type": "display_data"
    },
    {
     "data": {
      "application/vnd.jupyter.widget-view+json": {
       "model_id": "",
       "version_major": 2,
       "version_minor": 0
      },
      "text/plain": [
       "  0%|          | 0/1000 [00:00<?, ?it/s]"
      ]
     },
     "metadata": {},
     "output_type": "display_data"
    },
    {
     "data": {
      "application/vnd.jupyter.widget-view+json": {
       "model_id": "",
       "version_major": 2,
       "version_minor": 0
      },
      "text/plain": [
       "  0%|          | 0/1000 [00:00<?, ?it/s]"
      ]
     },
     "metadata": {},
     "output_type": "display_data"
    },
    {
     "data": {
      "application/vnd.jupyter.widget-view+json": {
       "model_id": "",
       "version_major": 2,
       "version_minor": 0
      },
      "text/plain": [
       "  0%|          | 0/1000 [00:00<?, ?it/s]"
      ]
     },
     "metadata": {},
     "output_type": "display_data"
    },
    {
     "data": {
      "application/vnd.jupyter.widget-view+json": {
       "model_id": "",
       "version_major": 2,
       "version_minor": 0
      },
      "text/plain": [
       "  0%|          | 0/1000 [00:00<?, ?it/s]"
      ]
     },
     "metadata": {},
     "output_type": "display_data"
    },
    {
     "data": {
      "application/vnd.jupyter.widget-view+json": {
       "model_id": "",
       "version_major": 2,
       "version_minor": 0
      },
      "text/plain": [
       "  0%|          | 0/1000 [00:00<?, ?it/s]"
      ]
     },
     "metadata": {},
     "output_type": "display_data"
    },
    {
     "data": {
      "application/vnd.jupyter.widget-view+json": {
       "model_id": "",
       "version_major": 2,
       "version_minor": 0
      },
      "text/plain": [
       "  0%|          | 0/1000 [00:00<?, ?it/s]"
      ]
     },
     "metadata": {},
     "output_type": "display_data"
    },
    {
     "data": {
      "application/vnd.jupyter.widget-view+json": {
       "model_id": "",
       "version_major": 2,
       "version_minor": 0
      },
      "text/plain": [
       "  0%|          | 0/1000 [00:00<?, ?it/s]"
      ]
     },
     "metadata": {},
     "output_type": "display_data"
    },
    {
     "data": {
      "application/vnd.jupyter.widget-view+json": {
       "model_id": "",
       "version_major": 2,
       "version_minor": 0
      },
      "text/plain": [
       "  0%|          | 0/1000 [00:00<?, ?it/s]"
      ]
     },
     "metadata": {},
     "output_type": "display_data"
    },
    {
     "data": {
      "application/vnd.jupyter.widget-view+json": {
       "model_id": "",
       "version_major": 2,
       "version_minor": 0
      },
      "text/plain": [
       "  0%|          | 0/1000 [00:00<?, ?it/s]"
      ]
     },
     "metadata": {},
     "output_type": "display_data"
    },
    {
     "data": {
      "application/vnd.jupyter.widget-view+json": {
       "model_id": "",
       "version_major": 2,
       "version_minor": 0
      },
      "text/plain": [
       "  0%|          | 0/1000 [00:00<?, ?it/s]"
      ]
     },
     "metadata": {},
     "output_type": "display_data"
    },
    {
     "data": {
      "application/vnd.jupyter.widget-view+json": {
       "model_id": "",
       "version_major": 2,
       "version_minor": 0
      },
      "text/plain": [
       "  0%|          | 0/1000 [00:00<?, ?it/s]"
      ]
     },
     "metadata": {},
     "output_type": "display_data"
    },
    {
     "data": {
      "application/vnd.jupyter.widget-view+json": {
       "model_id": "",
       "version_major": 2,
       "version_minor": 0
      },
      "text/plain": [
       "  0%|          | 0/1000 [00:00<?, ?it/s]"
      ]
     },
     "metadata": {},
     "output_type": "display_data"
    },
    {
     "data": {
      "application/vnd.jupyter.widget-view+json": {
       "model_id": "",
       "version_major": 2,
       "version_minor": 0
      },
      "text/plain": [
       "  0%|          | 0/1000 [00:00<?, ?it/s]"
      ]
     },
     "metadata": {},
     "output_type": "display_data"
    },
    {
     "data": {
      "application/vnd.jupyter.widget-view+json": {
       "model_id": "",
       "version_major": 2,
       "version_minor": 0
      },
      "text/plain": [
       "  0%|          | 0/1000 [00:00<?, ?it/s]"
      ]
     },
     "metadata": {},
     "output_type": "display_data"
    },
    {
     "data": {
      "application/vnd.jupyter.widget-view+json": {
       "model_id": "",
       "version_major": 2,
       "version_minor": 0
      },
      "text/plain": [
       "  0%|          | 0/1000 [00:00<?, ?it/s]"
      ]
     },
     "metadata": {},
     "output_type": "display_data"
    },
    {
     "data": {
      "application/vnd.jupyter.widget-view+json": {
       "model_id": "",
       "version_major": 2,
       "version_minor": 0
      },
      "text/plain": [
       "  0%|          | 0/1000 [00:00<?, ?it/s]"
      ]
     },
     "metadata": {},
     "output_type": "display_data"
    },
    {
     "data": {
      "application/vnd.jupyter.widget-view+json": {
       "model_id": "",
       "version_major": 2,
       "version_minor": 0
      },
      "text/plain": [
       "  0%|          | 0/1000 [00:00<?, ?it/s]"
      ]
     },
     "metadata": {},
     "output_type": "display_data"
    },
    {
     "data": {
      "application/vnd.jupyter.widget-view+json": {
       "model_id": "",
       "version_major": 2,
       "version_minor": 0
      },
      "text/plain": [
       "  0%|          | 0/1000 [00:00<?, ?it/s]"
      ]
     },
     "metadata": {},
     "output_type": "display_data"
    },
    {
     "data": {
      "application/vnd.jupyter.widget-view+json": {
       "model_id": "",
       "version_major": 2,
       "version_minor": 0
      },
      "text/plain": [
       "  0%|          | 0/1000 [00:00<?, ?it/s]"
      ]
     },
     "metadata": {},
     "output_type": "display_data"
    },
    {
     "data": {
      "application/vnd.jupyter.widget-view+json": {
       "model_id": "",
       "version_major": 2,
       "version_minor": 0
      },
      "text/plain": [
       "  0%|          | 0/1000 [00:00<?, ?it/s]"
      ]
     },
     "metadata": {},
     "output_type": "display_data"
    },
    {
     "data": {
      "application/vnd.jupyter.widget-view+json": {
       "model_id": "",
       "version_major": 2,
       "version_minor": 0
      },
      "text/plain": [
       "  0%|          | 0/1000 [00:00<?, ?it/s]"
      ]
     },
     "metadata": {},
     "output_type": "display_data"
    },
    {
     "data": {
      "application/vnd.jupyter.widget-view+json": {
       "model_id": "",
       "version_major": 2,
       "version_minor": 0
      },
      "text/plain": [
       "  0%|          | 0/1000 [00:00<?, ?it/s]"
      ]
     },
     "metadata": {},
     "output_type": "display_data"
    },
    {
     "data": {
      "application/vnd.jupyter.widget-view+json": {
       "model_id": "",
       "version_major": 2,
       "version_minor": 0
      },
      "text/plain": [
       "  0%|          | 0/1000 [00:00<?, ?it/s]"
      ]
     },
     "metadata": {},
     "output_type": "display_data"
    },
    {
     "data": {
      "application/vnd.jupyter.widget-view+json": {
       "model_id": "",
       "version_major": 2,
       "version_minor": 0
      },
      "text/plain": [
       "  0%|          | 0/1000 [00:00<?, ?it/s]"
      ]
     },
     "metadata": {},
     "output_type": "display_data"
    },
    {
     "data": {
      "application/vnd.jupyter.widget-view+json": {
       "model_id": "",
       "version_major": 2,
       "version_minor": 0
      },
      "text/plain": [
       "  0%|          | 0/1000 [00:00<?, ?it/s]"
      ]
     },
     "metadata": {},
     "output_type": "display_data"
    },
    {
     "data": {
      "application/vnd.jupyter.widget-view+json": {
       "model_id": "",
       "version_major": 2,
       "version_minor": 0
      },
      "text/plain": [
       "  0%|          | 0/1000 [00:00<?, ?it/s]"
      ]
     },
     "metadata": {},
     "output_type": "display_data"
    },
    {
     "data": {
      "application/vnd.jupyter.widget-view+json": {
       "model_id": "",
       "version_major": 2,
       "version_minor": 0
      },
      "text/plain": [
       "  0%|          | 0/1000 [00:00<?, ?it/s]"
      ]
     },
     "metadata": {},
     "output_type": "display_data"
    },
    {
     "data": {
      "application/vnd.jupyter.widget-view+json": {
       "model_id": "",
       "version_major": 2,
       "version_minor": 0
      },
      "text/plain": [
       "  0%|          | 0/1000 [00:00<?, ?it/s]"
      ]
     },
     "metadata": {},
     "output_type": "display_data"
    },
    {
     "data": {
      "application/vnd.jupyter.widget-view+json": {
       "model_id": "",
       "version_major": 2,
       "version_minor": 0
      },
      "text/plain": [
       "  0%|          | 0/1000 [00:00<?, ?it/s]"
      ]
     },
     "metadata": {},
     "output_type": "display_data"
    },
    {
     "data": {
      "application/vnd.jupyter.widget-view+json": {
       "model_id": "",
       "version_major": 2,
       "version_minor": 0
      },
      "text/plain": [
       "  0%|          | 0/1000 [00:00<?, ?it/s]"
      ]
     },
     "metadata": {},
     "output_type": "display_data"
    },
    {
     "data": {
      "application/vnd.jupyter.widget-view+json": {
       "model_id": "",
       "version_major": 2,
       "version_minor": 0
      },
      "text/plain": [
       "  0%|          | 0/1000 [00:00<?, ?it/s]"
      ]
     },
     "metadata": {},
     "output_type": "display_data"
    },
    {
     "data": {
      "application/vnd.jupyter.widget-view+json": {
       "model_id": "",
       "version_major": 2,
       "version_minor": 0
      },
      "text/plain": [
       "  0%|          | 0/1000 [00:00<?, ?it/s]"
      ]
     },
     "metadata": {},
     "output_type": "display_data"
    },
    {
     "data": {
      "application/vnd.jupyter.widget-view+json": {
       "model_id": "",
       "version_major": 2,
       "version_minor": 0
      },
      "text/plain": [
       "  0%|          | 0/1000 [00:00<?, ?it/s]"
      ]
     },
     "metadata": {},
     "output_type": "display_data"
    },
    {
     "data": {
      "application/vnd.jupyter.widget-view+json": {
       "model_id": "",
       "version_major": 2,
       "version_minor": 0
      },
      "text/plain": [
       "  0%|          | 0/1000 [00:00<?, ?it/s]"
      ]
     },
     "metadata": {},
     "output_type": "display_data"
    },
    {
     "data": {
      "application/vnd.jupyter.widget-view+json": {
       "model_id": "67fb100180604a27bd1e3dbb05199495",
       "version_major": 2,
       "version_minor": 0
      },
      "text/plain": [
       "  0%|          | 0/1000 [00:00<?, ?it/s]"
      ]
     },
     "metadata": {},
     "output_type": "display_data"
    }
   ],
   "source": [
    "%%time\n",
    "model_vae = hlax.models.VAEBern(dim_latent, dim_obs, ConvEncoder, ConvDecoder)\n",
    "config_vae = hlax.vae.load_config(config, model_vae)\n",
    "\n",
    "res_vae = base_vae_hardem.train_test(\n",
    "    key,\n",
    "    X_warmup,\n",
    "    X_test,\n",
    "    config_vae,\n",
    "    config_test,\n",
    "    elbo_bern,\n",
    "    elbo_bern,\n",
    "    hlax.vae.train_checkpoints\n",
    ")"
   ]
  },
  {
   "cell_type": "code",
   "execution_count": null,
   "id": "b0557baa-e167-4e86-aa68-8bace13cf2c1",
   "metadata": {},
   "outputs": [],
   "source": [
    "ix_epoch = \"e100\""
   ]
  },
  {
   "cell_type": "code",
   "execution_count": null,
   "id": "72f4a678-80a2-4ef7-81e9-824486dded5f",
   "metadata": {},
   "outputs": [],
   "source": [
    "fig, ax = plt.subplots(1, 2, figsize=(4, 2))\n",
    "\n",
    "ix_target = 9\n",
    "params_test = res_vae[\"test\"][\"state\"][ix_epoch].params\n",
    "img_truth = X_test[ix_target].reshape(28, 28)\n",
    "img_reconstruct = config_test.model.apply(params_test, X_test, key)[2][0]\n",
    "img_reconstruct = nn.sigmoid(img_reconstruct[ix_target]).reshape(28, 28)\n",
    "\n",
    "ax[0].imshow(img_truth, cmap=\"cividis\")\n",
    "ax[1].imshow(img_reconstruct, cmap=\"cividis\")\n",
    "\n",
    "ax[0].axis(\"off\")\n",
    "ax[1].axis(\"off\");\n",
    "plt.tight_layout()"
   ]
  },
  {
   "cell_type": "markdown",
   "id": "545a758b-b18a-412f-a560-a373f9037c11",
   "metadata": {},
   "source": [
    "### Hard-EM unamortised"
   ]
  },
  {
   "cell_type": "code",
   "execution_count": null,
   "id": "460f7bbb-e91f-44dc-866f-5592984e3ff2",
   "metadata": {},
   "outputs": [],
   "source": [
    "%%time\n",
    "model_hem = UnamortisedVAEBernDelta(dim_latent, dim_obs[0], DeltaEncoder, ConvDecoder)\n",
    "config_hem = hlax.unamortised.load_config(config, model_hem)\n",
    "\n",
    "res_hem = base_vae_hardem.train_test(\n",
    "    key,\n",
    "    X_warmup,\n",
    "    X_test,\n",
    "    config_hem,\n",
    "    config_test,\n",
    "    iwae_bern_delta,\n",
    "    elbo_bern,\n",
    "    hlax.unamortised.train_checkpoints\n",
    ")"
   ]
  },
  {
   "cell_type": "code",
   "execution_count": null,
   "id": "16d8fb6b-6f2e-4361-8e15-1a0962b8df09",
   "metadata": {},
   "outputs": [],
   "source": [
    "fig, ax = plt.subplots(1, 2, figsize=(4, 2))\n",
    "\n",
    "ix_target = 9\n",
    "params_test = res_hem[\"test\"][\"state\"][ix_epoch].params\n",
    "img_truth = X_test[ix_target].reshape(28, 28)\n",
    "img_reconstruct = config_test.model.apply(params_test, X_test, key)[2][0]\n",
    "img_reconstruct = nn.sigmoid(img_reconstruct[ix_target]).reshape(28, 28)\n",
    "\n",
    "ax[0].imshow(img_truth, cmap=\"cividis\")\n",
    "ax[1].imshow(img_reconstruct, cmap=\"cividis\")\n",
    "\n",
    "ax[0].axis(\"off\")\n",
    "ax[1].axis(\"off\");"
   ]
  },
  {
   "cell_type": "markdown",
   "id": "409cd6c3-974f-406d-85e5-9f8e0339ecfa",
   "metadata": {},
   "source": [
    "### Umamortised VAE"
   ]
  },
  {
   "cell_type": "code",
   "execution_count": null,
   "id": "86c4527e-1570-467d-8345-2d0c0ec97fde",
   "metadata": {},
   "outputs": [],
   "source": [
    "%%time\n",
    "model_uvae = hlax.models.UnamortisedVAEBern(dim_latent, dim_obs[0], GaussEncoder, ConvDecoder)\n",
    "config_uvae = hlax.unamortised.load_config(config, model_uvae)\n",
    "\n",
    "res_uvae = base_vae_hardem.train_test(\n",
    "    key,\n",
    "    X_warmup,\n",
    "    X_test,\n",
    "    config_uvae,\n",
    "    config_test,\n",
    "    elbo_bern,\n",
    "    elbo_bern,\n",
    "    hlax.unamortised.train_checkpoints\n",
    ")"
   ]
  },
  {
   "cell_type": "code",
   "execution_count": null,
   "id": "3b14ca1f-1540-47c8-9760-8a56367ee6ac",
   "metadata": {},
   "outputs": [],
   "source": [
    "fig, ax = plt.subplots(1, 2, figsize=(4, 2))\n",
    "\n",
    "ix_target = 9\n",
    "\n",
    "params_test = res_uvae[\"test\"][\"state\"][ix_epoch].params\n",
    "img_truth = X_test[ix_target].reshape(28, 28)\n",
    "img_reconstruct = config_test.model.apply(params_test, X_test, key)[2][0]\n",
    "img_reconstruct = nn.sigmoid(img_reconstruct[ix_target]).reshape(28, 28)\n",
    "\n",
    "ax[0].imshow(img_truth, cmap=\"cividis\")\n",
    "ax[1].imshow(img_reconstruct, cmap=\"cividis\")\n",
    "\n",
    "ax[0].axis(\"off\")\n",
    "ax[1].axis(\"off\");"
   ]
  },
  {
   "cell_type": "code",
   "execution_count": null,
   "id": "2be9ec3c-1db1-44c6-8ed9-185278dcd00a",
   "metadata": {},
   "outputs": [],
   "source": [
    "fig, ax = plt.subplots(1, 4)\n",
    "\n",
    "ix_target = 9\n",
    "img_truth = X_test[ix_target]\n",
    "ax[0].imshow(img_truth, cmap=\"cividis\")\n",
    "ax[0].set_title(\"original\")\n",
    "ax[0].axis(\"off\")\n",
    "\n",
    "res_list = [res_hem, res_vae, res_uvae]\n",
    "labels = [\"HEM\", \"VAE\", \"uVAE\"]\n",
    "for i, (res, label) in enumerate(zip(res_list, labels)):\n",
    "    params_test = res[\"test\"][\"state\"][ix_epoch].params\n",
    "    img_reconstruct = config_test.model.apply(params_test, X_test, key)[2][0]\n",
    "    img_reconstruct = nn.sigmoid(img_reconstruct[ix_target])\n",
    "    ax[i + 1].imshow(img_reconstruct, cmap=\"cividis\")\n",
    "    ax[i + 1].axis(\"off\")\n",
    "    ax[i + 1].set_title(label)\n",
    "plt.tight_layout()"
   ]
  },
  {
   "cell_type": "code",
   "execution_count": null,
   "id": "8ada1da6-1f64-45ba-84db-3f0458db8a8b",
   "metadata": {},
   "outputs": [],
   "source": [
    "plt.plot(res_hem[\"test\"][\"hist_loss\"][ix_epoch])\n",
    "plt.plot(res_vae[\"test\"][\"hist_loss\"][ix_epoch])\n",
    "plt.plot(res_uvae[\"test\"][\"hist_loss\"][ix_epoch])"
   ]
  },
  {
   "cell_type": "markdown",
   "id": "066c1b28-133e-48a0-a59b-ce23ec209f08",
   "metadata": {},
   "source": [
    "## Observe training results"
   ]
  },
  {
   "cell_type": "code",
   "execution_count": null,
   "id": "cd4127c0-d059-4667-8f40-cab409835af1",
   "metadata": {},
   "outputs": [],
   "source": [
    "ix_target = 5\n",
    "res = res_hem\n",
    "model = model_hem\n",
    "\n",
    "state_final = res[\"train\"][\"state_final\"]\n",
    "params= state_final.params\n",
    "vals = model.apply(params, X_warmup, key)[1]# [-1][0]\n",
    "\n",
    "img_reconstruct = vals[ix_target].reshape(28, 28)\n",
    "img_reconstruct = nn.sigmoid(img_reconstruct)\n",
    "\n",
    "img_target = X_warmup[ix_target].reshape(28, 28)\n",
    "\n",
    "fig, ax = plt.subplots(1, 2, figsize=(8, 4))\n",
    "ax[0].imshow(img_target, cmap=\"cividis\")\n",
    "ax[1].imshow(img_reconstruct, cmap=\"cividis\")\n",
    "\n",
    "ax[0].axis(\"off\")\n",
    "ax[1].axis(\"off\");"
   ]
  },
  {
   "cell_type": "code",
   "execution_count": null,
   "id": "1320ee0b-ddbc-443c-85f0-d71b46a342b2",
   "metadata": {},
   "outputs": [],
   "source": [
    "apply_fn = partial(config_test.model.apply, num_samples=10)"
   ]
  },
  {
   "cell_type": "code",
   "execution_count": null,
   "id": "fddba09c-cf93-42e6-878e-802701e34ebd",
   "metadata": {},
   "outputs": [],
   "source": [
    "num_samples = 100\n",
    "keys_eval = jax.random.split(key, num_samples)\n",
    "vmap_iwae = jax.vmap(iwae_bern, (0, None, None, None))\n",
    "\n",
    "res_list = [res_hem, res_vae, res_uvae]\n",
    "labels = [\"HEM\", \"VAE\", \"uVAE\"]\n",
    "\n",
    "df_mll = []\n",
    "elements = list(zip(res_list, labels))\n",
    "for res, label in tqdm(elements):\n",
    "    for ix_epoch in res[\"test\"][\"state\"]:\n",
    "        state_test = res[\"test\"][\"state\"][ix_epoch]\n",
    "        params_test = state_test.params\n",
    "        is_mll = vmap_iwae(keys_eval, params_test, apply_fn, X_test)\n",
    "\n",
    "        entry = {\n",
    "            \"label\": label,\n",
    "            \"mll\": is_mll.to_py(),\n",
    "            \"epoch\": int(ix_epoch.lstrip(\"e\"))\n",
    "        }\n",
    "\n",
    "        df_mll.append(entry)\n",
    "df_mll = pd.DataFrame(df_mll).explode(\"mll\")"
   ]
  },
  {
   "cell_type": "code",
   "execution_count": null,
   "id": "85dc49fc-7c45-42a2-b581-c6a59d2af4a4",
   "metadata": {},
   "outputs": [],
   "source": [
    "mll_std = df_mll.pivot_table(index=\"epoch\", columns=\"label\", values=\"mll\", aggfunc=\"std\")\n",
    "mll_mean = df_mll.pivot_table(index=\"epoch\", columns=\"label\", values=\"mll\", aggfunc=\"mean\")\n",
    "\n",
    "fig, ax = plt.subplots(figsize=(8, 4))\n",
    "xvals = mll_mean.index\n",
    "for col in mll_mean:\n",
    "    mean = mll_mean[col]\n",
    "    std = mll_std[col]\n",
    "    \n",
    "    plt.fill_between(xvals, mean - 2 * std, mean + 2 * std, alpha=0.5)\n",
    "    plt.plot(xvals, mean, label=col)\n",
    "    \n",
    "plt.legend()\n",
    "plt.title(\"(IW) Marginal log-likelihood\")\n",
    "plt.xticks(rotation=45)\n",
    "plt.grid(alpha=0.5)"
   ]
  },
  {
   "cell_type": "code",
   "execution_count": 172,
   "id": "7a9bb115-1a0d-4ead-bf22-72e8c2702c01",
   "metadata": {},
   "outputs": [
    {
     "data": {
      "image/png": "[encoded data removed]",
      "text/plain": [
       "<Figure size 800x400 with 1 Axes>"
      ]
     },
     "metadata": {
      "image/png": {
       "height": 387,
       "width": 687
      }
     },
     "output_type": "display_data"
    }
   ],
   "source": [
    "mll_std = df_mll.pivot_table(index=\"epoch\", columns=\"label\", values=\"mll\", aggfunc=\"std\")\n",
    "mll_mean = df_mll.pivot_table(index=\"epoch\", columns=\"label\", values=\"mll\", aggfunc=\"mean\")\n",
    "\n",
    "fig, ax = plt.subplots(figsize=(8, 4))\n",
    "xvals = mll_mean.index\n",
    "for col in mll_mean:\n",
    "    mean = mll_mean[col]\n",
    "    std = mll_std[col]\n",
    "    \n",
    "    plt.fill_between(xvals, mean - 2 * std, mean + 2 * std, alpha=0.5)\n",
    "    plt.plot(xvals, mean, label=col)\n",
    "    \n",
    "plt.legend()\n",
    "plt.title(\"(IW) Marginal log-likelihood\")\n",
    "plt.xlabel(\"Epoch\")\n",
    "plt.xticks(rotation=45)\n",
    "plt.grid(alpha=0.5)"
   ]
  }
 ],
 "metadata": {
  "kernelspec": {
   "display_name": "Python 3 (ipykernel)",
   "language": "python",
   "name": "python3"
  },
  "language_info": {
   "codemirror_mode": {
    "name": "ipython",
    "version": 3
   },
   "file_extension": ".py",
   "mimetype": "text/x-python",
   "name": "python",
   "nbconvert_exporter": "python",
   "pygments_lexer": "ipython3",
   "version": "3.10.6"
  }
 },
 "nbformat": 4,
 "nbformat_minor": 5
}
