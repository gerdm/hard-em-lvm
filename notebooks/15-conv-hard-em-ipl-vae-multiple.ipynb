{
 "cells": [
  {
   "cell_type": "markdown",
   "id": "39f59e32-39ee-48c1-863e-4d172f74ae6e",
   "metadata": {},
   "source": [
    "# Hard EM - VAE: Fashion MNIST\n",
    "\n",
    "In this notebook, we test the effectiveness and speed of hard-EM applied to a factor analysis and homoskedastic encoder.\n",
    "\n",
    "We test this notebook considering an adam optimiser for both the VAE and the E and M steps of DLM hard EM."
   ]
  },
  {
   "cell_type": "markdown",
   "id": "6a7080da-1843-40d2-9f7e-4a305a8977bf",
   "metadata": {
    "tags": []
   },
   "source": [
    "# Fitting a distribution $q_n$ given $\\boldsymbol\\theta$\n",
    "\n",
    "In this section, we find a variational distribution $q_n$ for $\\boldsymbol\\theta_\\text{vae}$ and $\\boldsymbol\\theta_\\text{hard-em}$. We consider a dataset ${\\bf X}_\\text{test}$ and train an unamortised variational distribution of the form\n",
    "\n",
    "$$\n",
    "    q_n(z_n) = \\mathcal{N}(z_n \\vert \\mu_n, \\sigma_n)\n",
    "$$"
   ]
  },
  {
   "cell_type": "code",
   "execution_count": 1,
   "id": "d87b4ccb",
   "metadata": {},
   "outputs": [],
   "source": [
    "import os\n",
    "\n",
    "os.environ[\"TPU_CHIPS_PER_HOST_BOUNDS\"] = \"1,1,1\"\n",
    "os.environ[\"TPU_HOST_BOUNDS\"] = \"1,1,1\"\n",
    "os.environ[\"TPU_VISIBLE_DEVICES\"] = \"0\""
   ]
  },
  {
   "cell_type": "code",
   "execution_count": 2,
   "id": "21504988-97b4-4c30-91ac-3bebd33bb610",
   "metadata": {},
   "outputs": [],
   "source": [
    "import jax\n",
    "import json\n",
    "import glob\n",
    "import tomli\n",
    "import pickle\n",
    "import flax.linen as nn\n",
    "import numpy as np\n",
    "import pandas as pd\n",
    "import jax.numpy as jnp\n",
    "import seaborn as sns\n",
    "import matplotlib.pyplot as plt"
   ]
  },
  {
   "cell_type": "code",
   "execution_count": 3,
   "id": "0fca291e-c4bc-436c-88c0-fdafd20d1c8e",
   "metadata": {},
   "outputs": [],
   "source": [
    "%config InlineBackend.figure_format = \"retina\""
   ]
  },
  {
   "cell_type": "code",
   "execution_count": 4,
   "id": "b5eb510d-b697-44c3-bece-4342afd7f1b0",
   "metadata": {},
   "outputs": [],
   "source": [
    "import sys\n",
    "sys.path.append(\"../experiments/\")\n",
    "import base_vae_hardem"
   ]
  },
  {
   "cell_type": "code",
   "execution_count": 5,
   "id": "46fc4a0b-2c88-450b-ab08-7079c7ec716d",
   "metadata": {},
   "outputs": [],
   "source": [
    "def build_iwmll_df(output):\n",
    "    dict_mll_epochs = output[\"test\"]\n",
    "    df_all = []\n",
    "    for key in dict_mll_epochs:\n",
    "        df_mll = pd.DataFrame.from_dict(dict_mll_epochs[key])\n",
    "        df_mll.columns = [\"hard-em\", \"vae\"]\n",
    "        df_mll = pd.DataFrame.from_dict(dict_mll_epochs[key])\n",
    "        df_mll.columns = [f\"hard-em\", \"vae\"]\n",
    "        df_mll = df_mll.melt(value_name=\"mll\")\n",
    "        df_mll[\"episode\"] = int(key.lstrip(\"e\"))\n",
    "        df_all.append(df_mll)\n",
    "    df_all = pd.concat(df_all, axis=0)\n",
    "    return df_all"
   ]
  },
  {
   "cell_type": "markdown",
   "id": "3b3a34e7-bfa1-4aec-8ca8-1e2857d60306",
   "metadata": {},
   "source": [
    "## Load base configuration"
   ]
  },
  {
   "cell_type": "code",
   "execution_count": 6,
   "id": "2f2e1494-db6e-46f4-b73e-caaadbc846d4",
   "metadata": {},
   "outputs": [
    {
     "name": "stdout",
     "output_type": "stream",
     "text": [
      "# TOML file for a fashion mnist dataset\n",
      "[setup]\n",
      "dim_latent = 50\n",
      "\n",
      "[warmup]\n",
      "    num_obs = 10000\n",
      "    num_epochs = 1000\n",
      "    batch_size = 200\n",
      "    eval_epochs = [2, 10, 100, 250, 500, 1000]\n",
      "    learning_rate = 1e-6 # For VAE and HardEM\n",
      "\n",
      "    [warmup.vae]\n",
      "        num_is_samples = 10\n",
      "    [warmup.hard_em]\n",
      "        num_its_latent = 20 # E-step\n",
      "        num_its_params = 5 # M-step\n",
      "\n",
      "[test]\n",
      "    num_obs = 1000\n",
      "    num_epochs = 1000\n",
      "    learning_rate = 1e-6\n",
      "    num_is_samples = 10\n"
     ]
    }
   ],
   "source": [
    "path_config = \"../experiments/configs/fmnistv02.toml\"\n",
    "with open(path_config, \"rb\") as f:\n",
    "    config_str = f.read().decode(\"utf-8\")\n",
    "    config = tomli.loads(config_str)\n",
    "\n",
    "print(config_str)"
   ]
  },
  {
   "cell_type": "code",
   "execution_count": 7,
   "id": "6c064ae3",
   "metadata": {},
   "outputs": [],
   "source": [
    "from typing import List, Tuple"
   ]
  },
  {
   "cell_type": "code",
   "execution_count": 8,
   "id": "e32896cc",
   "metadata": {},
   "outputs": [],
   "source": [
    "class ConvEncoder(nn.Module):\n",
    "    latent_dim: Tuple\n",
    "\n",
    "    @nn.compact\n",
    "    def __call__(self, x):\n",
    "        z = nn.Conv(5, (3, 3), padding=\"SAME\")(x)\n",
    "        z = nn.elu(z)\n",
    "        z = nn.max_pool(z, (2, 2), padding=\"SAME\")\n",
    "        z = z.reshape((z.shape[0], -1))\n",
    "        z = nn.Dense(self.latent_dim)(z)\n",
    "\n",
    "        mean_z = nn.Dense(self.latent_dim)(z)\n",
    "        logvar_z = nn.Dense(self.latent_dim)(z)\n",
    "        return mean_z, logvar_z\n",
    "\n",
    "\n",
    "class ConvDecoder(nn.Module):\n",
    "    dim_obs: List\n",
    "    dim_latent: int\n",
    "\n",
    "    @nn.compact\n",
    "    def __call__(self, z):\n",
    "        x = nn.Dense(28 ** 2)(z)\n",
    "        x = x.reshape(*z.shape[:-1], *(28, 28, 1))\n",
    "        x = nn.elu(x)\n",
    "        x = nn.Conv(5, (3, 3), padding=\"SAME\")(x)\n",
    "        x = nn.elu(x)\n",
    "        x = nn.Conv(1, (3, 3), padding=\"SAME\")(x)\n",
    "        return x"
   ]
  },
  {
   "cell_type": "markdown",
   "id": "00d2efeb-d2a3-43ab-9a25-3ec0d22b9f6e",
   "metadata": {},
   "source": [
    "# Learning rates"
   ]
  },
  {
   "cell_type": "code",
   "execution_count": 9,
   "id": "61ec221d",
   "metadata": {},
   "outputs": [],
   "source": [
    "import hlax"
   ]
  },
  {
   "cell_type": "code",
   "execution_count": 15,
   "id": "2fb73f71",
   "metadata": {},
   "outputs": [],
   "source": [
    "num_warmup = config[\"warmup\"][\"num_obs\"]\n",
    "num_test = config[\"test\"][\"num_obs\"]\n",
    "warmup, test = hlax.datasets.load_fashion_mnist(num_warmup, num_test, melt=False)\n",
    "X_warmup, X_test = warmup[0], test[0]\n",
    "# Add number of input channels: 1\n",
    "X_warmup = X_warmup[..., None]\n",
    "X_test = X_test[..., None]"
   ]
  },
  {
   "cell_type": "markdown",
   "id": "cbc00bfd-d0f7-4ea1-b916-d0f202bdac08",
   "metadata": {},
   "source": [
    "## Iteration - 01"
   ]
  },
  {
   "cell_type": "code",
   "execution_count": 16,
   "id": "6f11997e",
   "metadata": {},
   "outputs": [],
   "source": [
    "key = jax.random.PRNGKey(314)\n",
    "lossfn_vae = hlax.losses.iwae_bern\n",
    "lossfn_hardem = hlax.losses.hard_nmll_bern\n",
    "\n",
    "grad_neg_iwmll_encoder = jax.value_and_grad(hlax.losses.neg_iwmll_bern, argnums=1)\n",
    "vmap_neg_iwmll = jax.vmap(hlax.losses.neg_iwmll_bern, (0, 0, None, 0, None, None, None))"
   ]
  },
  {
   "cell_type": "code",
   "execution_count": 17,
   "id": "cc1efaf3",
   "metadata": {},
   "outputs": [],
   "source": [
    "_, *dim_obs = X_warmup.shape\n",
    "dim_latent = config[\"setup\"][\"dim_latent\"]\n",
    "model_vae = hlax.models.VAEBern(dim_latent, dim_obs, ConvEncoder, ConvDecoder)\n",
    "model_decoder = ConvDecoder(1, dim_latent)\n",
    "model_encoder_test = hlax.models.GaussEncoder(dim_latent)"
   ]
  },
  {
   "cell_type": "code",
   "execution_count": 18,
   "id": "8bdd44ff",
   "metadata": {},
   "outputs": [
    {
     "name": "stdout",
     "output_type": "stream",
     "text": [
      "Warmup phase\n"
     ]
    },
    {
     "data": {
      "application/vnd.jupyter.widget-view+json": {
       "model_id": "15840995eaad4889b93bcc9d35543399",
       "version_major": 2,
       "version_minor": 0
      },
      "text/plain": [
       "  0%|          | 0/1000 [00:00<?, ?it/s]"
      ]
     },
     "metadata": {},
     "output_type": "display_data"
    },
    {
     "data": {
      "application/vnd.jupyter.widget-view+json": {
       "model_id": "5ffe6de61cae47f496a83a21affd65e2",
       "version_major": 2,
       "version_minor": 0
      },
      "text/plain": [
       "  0%|          | 0/1000 [00:00<?, ?it/s]"
      ]
     },
     "metadata": {},
     "output_type": "display_data"
    },
    {
     "name": "stdout",
     "output_type": "stream",
     "text": [
      "Test phase\n"
     ]
    },
    {
     "data": {
      "application/vnd.jupyter.widget-view+json": {
       "model_id": "99b77a7b072c4fd69b92e5aedfb04caf",
       "version_major": 2,
       "version_minor": 0
      },
      "text/plain": [
       "  0%|          | 0/6 [00:00<?, ?it/s]"
      ]
     },
     "metadata": {},
     "output_type": "display_data"
    },
    {
     "data": {
      "application/vnd.jupyter.widget-view+json": {
       "model_id": "f8ab61b19a42444bbb172107a7a547cb",
       "version_major": 2,
       "version_minor": 0
      },
      "text/plain": [
       "  0%|          | 0/1000 [00:00<?, ?it/s]"
      ]
     },
     "metadata": {},
     "output_type": "display_data"
    },
    {
     "data": {
      "application/vnd.jupyter.widget-view+json": {
       "model_id": "4a8943ccfafd499d89f151cbaf202f7a",
       "version_major": 2,
       "version_minor": 0
      },
      "text/plain": [
       "  0%|          | 0/1000 [00:00<?, ?it/s]"
      ]
     },
     "metadata": {},
     "output_type": "display_data"
    },
    {
     "data": {
      "application/vnd.jupyter.widget-view+json": {
       "model_id": "450422a11ac34355900f96c70ace4d9c",
       "version_major": 2,
       "version_minor": 0
      },
      "text/plain": [
       "  0%|          | 0/1000 [00:00<?, ?it/s]"
      ]
     },
     "metadata": {},
     "output_type": "display_data"
    },
    {
     "data": {
      "application/vnd.jupyter.widget-view+json": {
       "model_id": "7b3c059373ac4fde9e41b6bdb75f1b06",
       "version_major": 2,
       "version_minor": 0
      },
      "text/plain": [
       "  0%|          | 0/1000 [00:00<?, ?it/s]"
      ]
     },
     "metadata": {},
     "output_type": "display_data"
    },
    {
     "data": {
      "application/vnd.jupyter.widget-view+json": {
       "model_id": "c2273ff0df3242c58f9f457735a6894f",
       "version_major": 2,
       "version_minor": 0
      },
      "text/plain": [
       "  0%|          | 0/1000 [00:00<?, ?it/s]"
      ]
     },
     "metadata": {},
     "output_type": "display_data"
    },
    {
     "data": {
      "application/vnd.jupyter.widget-view+json": {
       "model_id": "3fbde48218324369b1d16cdf93a776bd",
       "version_major": 2,
       "version_minor": 0
      },
      "text/plain": [
       "  0%|          | 0/1000 [00:00<?, ?it/s]"
      ]
     },
     "metadata": {},
     "output_type": "display_data"
    },
    {
     "data": {
      "application/vnd.jupyter.widget-view+json": {
       "model_id": "cb0b463cd3b14d538f5796bc7a32fcbd",
       "version_major": 2,
       "version_minor": 0
      },
      "text/plain": [
       "  0%|          | 0/6 [00:00<?, ?it/s]"
      ]
     },
     "metadata": {},
     "output_type": "display_data"
    },
    {
     "data": {
      "application/vnd.jupyter.widget-view+json": {
       "model_id": "d41079ac2b5141b789e44d87fc9ed6d4",
       "version_major": 2,
       "version_minor": 0
      },
      "text/plain": [
       "  0%|          | 0/1000 [00:00<?, ?it/s]"
      ]
     },
     "metadata": {},
     "output_type": "display_data"
    },
    {
     "data": {
      "application/vnd.jupyter.widget-view+json": {
       "model_id": "b539a10600594942ba1265d53dccf2bc",
       "version_major": 2,
       "version_minor": 0
      },
      "text/plain": [
       "  0%|          | 0/1000 [00:00<?, ?it/s]"
      ]
     },
     "metadata": {},
     "output_type": "display_data"
    },
    {
     "data": {
      "application/vnd.jupyter.widget-view+json": {
       "model_id": "3de802661bb148619a07dc8f626625fa",
       "version_major": 2,
       "version_minor": 0
      },
      "text/plain": [
       "  0%|          | 0/1000 [00:00<?, ?it/s]"
      ]
     },
     "metadata": {},
     "output_type": "display_data"
    },
    {
     "data": {
      "application/vnd.jupyter.widget-view+json": {
       "model_id": "d29b212309d9458fa43614bb67280992",
       "version_major": 2,
       "version_minor": 0
      },
      "text/plain": [
       "  0%|          | 0/1000 [00:00<?, ?it/s]"
      ]
     },
     "metadata": {},
     "output_type": "display_data"
    },
    {
     "data": {
      "application/vnd.jupyter.widget-view+json": {
       "model_id": "88d1e12be227483197560e09658d7a19",
       "version_major": 2,
       "version_minor": 0
      },
      "text/plain": [
       "  0%|          | 0/1000 [00:00<?, ?it/s]"
      ]
     },
     "metadata": {},
     "output_type": "display_data"
    },
    {
     "data": {
      "application/vnd.jupyter.widget-view+json": {
       "model_id": "3fa8f6f41e834e2d9a377f6aa5ab97db",
       "version_major": 2,
       "version_minor": 0
      },
      "text/plain": [
       "  0%|          | 0/1000 [00:00<?, ?it/s]"
      ]
     },
     "metadata": {},
     "output_type": "display_data"
    }
   ],
   "source": [
    "output = base_vae_hardem.main(\n",
    "    key,\n",
    "    X_warmup,\n",
    "    X_test,\n",
    "    config,\n",
    "    model_vae,\n",
    "    model_decoder,\n",
    "    model_encoder_test,\n",
    "    lossfn_vae,\n",
    "    lossfn_hardem,\n",
    "    grad_neg_iwmll_encoder,\n",
    "    vmap_neg_iwmll,\n",
    ")"
   ]
  },
  {
   "cell_type": "code",
   "execution_count": 21,
   "id": "96419855-6868-4c21-9891-03577cd93a19",
   "metadata": {},
   "outputs": [
    {
     "data": {
      "image/png": "[encoded data removed]",
      "text/plain": [
       "<Figure size 700x400 with 1 Axes>"
      ]
     },
     "metadata": {
      "image/png": {
       "height": 392,
       "width": 636
      }
     },
     "output_type": "display_data"
    }
   ],
   "source": [
    "fig, ax = plt.subplots(figsize=(7, 4))\n",
    "plt.plot(output[\"warmup\"][\"hardem\"][\"hist_loss\"], label=\"Hard-EM\")\n",
    "plt.plot(output[\"warmup\"][\"vae\"][\"hist_loss\"], label=\"VAE\")\n",
    "plt.legend()\n",
    "plt.title(\"Warmup loss\")\n",
    "plt.xlabel(\"Epoch\")\n",
    "plt.grid(alpha=0.5)"
   ]
  },
  {
   "cell_type": "code",
   "execution_count": 24,
   "id": "be17ecdc",
   "metadata": {},
   "outputs": [
    {
     "data": {
      "image/png": "[encoded data removed]",
      "text/plain": [
       "<Figure size 700x400 with 1 Axes>"
      ]
     },
     "metadata": {
      "image/png": {
       "height": 392,
       "width": 635
      }
     },
     "output_type": "display_data"
    }
   ],
   "source": [
    "fig, ax = plt.subplots(figsize=(7, 4))\n",
    "df_all = build_iwmll_df(output)\n",
    "sns.violinplot(x=\"episode\", y=\"mll\", hue=\"variable\", data=df_all)\n",
    "plt.title(\"Marginal log-likelihood\")\n",
    "plt.grid(alpha=0.5)"
   ]
  },
  {
   "cell_type": "markdown",
   "id": "0baaced6-e98e-45fc-bced-11d871175bc0",
   "metadata": {},
   "source": [
    "## Iteration - 02"
   ]
  },
  {
   "cell_type": "code",
   "execution_count": 142,
   "id": "191d1362-1d87-4470-a3f5-c40255fd1a85",
   "metadata": {},
   "outputs": [],
   "source": [
    "config_mod = dict(config)\n",
    "config_mod[\"warmup\"][\"num_epochs\"] = 3000\n",
    "config_mod[\"warmup\"][\"learning_rate\"] = 1e-6\n",
    "\n",
    "eval_epochs = [2, 10, 100, 250, 500, 1000, 1250, 1500, 2000, 2250, 2500, 3000, 3250, 3500, 4000]\n",
    "config_mod[\"warmup\"][\"eval_epochs\"] = eval_epochs\n",
    "\n",
    "config_mod[\"warmup\"][\"hard_em\"][\"num_its_latent\"] = 5"
   ]
  },
  {
   "cell_type": "code",
   "execution_count": null,
   "id": "dc7c2e41-b053-42f2-8fea-9feb8dab8d87",
   "metadata": {},
   "outputs": [],
   "source": [
    "output = base_vae_hardem.main(config_mod, dict_models)\n",
    "\n",
    "fig, ax = plt.subplots(figsize=(8, 3))\n",
    "plt.plot(output[\"warmup\"][\"vae\"][\"hist_loss\"])\n",
    "plt.plot(output[\"warmup\"][\"hardem\"][\"hist_loss\"])\n",
    "plt.legend()\n",
    "ax.grid(alpha=0.5)"
   ]
  },
  {
   "cell_type": "markdown",
   "id": "ab2b7ad5-5dc6-4909-96f1-82c0b08f444f",
   "metadata": {},
   "source": [
    "### IWMLL"
   ]
  },
  {
   "cell_type": "code",
   "execution_count": 144,
   "id": "2b85a8f3-64e7-4890-bc5b-874ce3b79c2d",
   "metadata": {},
   "outputs": [
    {
     "data": {
      "image/png": "[encoded data removed]",
      "text/plain": [
       "<Figure size 1000x400 with 1 Axes>"
      ]
     },
     "metadata": {
      "image/png": {
       "height": 371,
       "width": 871
      }
     },
     "output_type": "display_data"
    }
   ],
   "source": [
    "df_all = build_iwmll_df(output)\n",
    "fig, ax = plt.subplots(figsize=(10, 4))\n",
    "sns.violinplot(x=\"episode\", y=\"mll\", hue=\"variable\", data=df_all, ax=ax, width=1.0)\n",
    "plt.grid(alpha=0.5)"
   ]
  },
  {
   "cell_type": "code",
   "execution_count": 148,
   "id": "2b5b5673-4064-4df4-bfdd-845f7685c1d4",
   "metadata": {},
   "outputs": [
    {
     "data": {
      "image/png": "[encoded data removed]",
      "text/plain": [
       "<Figure size 1000x400 with 1 Axes>"
      ]
     },
     "metadata": {
      "image/png": {
       "height": 371,
       "width": 871
      }
     },
     "output_type": "display_data"
    }
   ],
   "source": [
    "df_all = build_iwmll_df(output)\n",
    "fig, ax = plt.subplots(figsize=(10, 4))\n",
    "sns.violinplot(x=\"episode\", y=\"mll\", hue=\"variable\", data=df_all, ax=ax, width=1.0)\n",
    "plt.grid(alpha=0.5)"
   ]
  },
  {
   "cell_type": "markdown",
   "id": "b3a06a03-c638-43dc-be90-219bb20051a6",
   "metadata": {},
   "source": [
    "## Iteration - 03"
   ]
  },
  {
   "cell_type": "code",
   "execution_count": 25,
   "id": "4926e5cd-1bf7-48e1-af33-1f9af80c1aa8",
   "metadata": {},
   "outputs": [],
   "source": [
    "from itertools import product"
   ]
  },
  {
   "cell_type": "code",
   "execution_count": 26,
   "id": "6fd5aae9-aecb-4f3f-8ec0-dd11a7a5aea0",
   "metadata": {},
   "outputs": [],
   "source": [
    "vals_latent = [1, 2, 3, 5, 10]\n",
    "vals_params = [1, 2, 3, 5, 10]\n",
    "\n",
    "config_mod = dict(config)\n",
    "config_mod[\"warmup\"][\"num_epochs\"] = 3000\n",
    "config_mod[\"warmup\"][\"learning_rate\"] = 1e-6\n",
    "\n",
    "eval_epochs = [2, 10, 100, 250, 500, 1000, 1250, 1500, 2000, 2250, 2500, 3000]\n",
    "config_mod[\"warmup\"][\"eval_epochs\"] = eval_epochs"
   ]
  },
  {
   "cell_type": "code",
   "execution_count": 28,
   "id": "b1088ec2-3bd6-411e-b40a-c445c0ff23ce",
   "metadata": {},
   "outputs": [
    {
     "name": "stdout",
     "output_type": "stream",
     "text": [
      "Evaluating vlatent=1 | vparam=1\n",
      "Warmup phase\n"
     ]
    },
    {
     "data": {
      "application/vnd.jupyter.widget-view+json": {
       "model_id": "88551c2a43634279b7664dea3e886cc8",
       "version_major": 2,
       "version_minor": 0
      },
      "text/plain": [
       "  0%|          | 0/3000 [00:00<?, ?it/s]"
      ]
     },
     "metadata": {},
     "output_type": "display_data"
    },
    {
     "data": {
      "application/vnd.jupyter.widget-view+json": {
       "model_id": "87f03af2898c445ca7f2a553d1b83319",
       "version_major": 2,
       "version_minor": 0
      },
      "text/plain": [
       "  0%|          | 0/3000 [00:00<?, ?it/s]"
      ]
     },
     "metadata": {},
     "output_type": "display_data"
    },
    {
     "name": "stdout",
     "output_type": "stream",
     "text": [
      "Test phase\n"
     ]
    },
    {
     "data": {
      "application/vnd.jupyter.widget-view+json": {
       "model_id": "50a8b24a857749098bf32a3129e076f4",
       "version_major": 2,
       "version_minor": 0
      },
      "text/plain": [
       "  0%|          | 0/12 [00:00<?, ?it/s]"
      ]
     },
     "metadata": {},
     "output_type": "display_data"
    },
    {
     "data": {
      "application/vnd.jupyter.widget-view+json": {
       "model_id": "699eba07f0ec4ea1b9f28bef61deed66",
       "version_major": 2,
       "version_minor": 0
      },
      "text/plain": [
       "  0%|          | 0/1000 [00:00<?, ?it/s]"
      ]
     },
     "metadata": {},
     "output_type": "display_data"
    },
    {
     "data": {
      "application/vnd.jupyter.widget-view+json": {
       "model_id": "84138df03ca5446296d652c0a2236abf",
       "version_major": 2,
       "version_minor": 0
      },
      "text/plain": [
       "  0%|          | 0/1000 [00:00<?, ?it/s]"
      ]
     },
     "metadata": {},
     "output_type": "display_data"
    },
    {
     "data": {
      "application/vnd.jupyter.widget-view+json": {
       "model_id": "4ee146f160394bc08b45c8994e240198",
       "version_major": 2,
       "version_minor": 0
      },
      "text/plain": [
       "  0%|          | 0/1000 [00:00<?, ?it/s]"
      ]
     },
     "metadata": {},
     "output_type": "display_data"
    },
    {
     "data": {
      "application/vnd.jupyter.widget-view+json": {
       "model_id": "887da0858d484fbca15c5cd625e94c76",
       "version_major": 2,
       "version_minor": 0
      },
      "text/plain": [
       "  0%|          | 0/1000 [00:00<?, ?it/s]"
      ]
     },
     "metadata": {},
     "output_type": "display_data"
    },
    {
     "data": {
      "application/vnd.jupyter.widget-view+json": {
       "model_id": "4f9ff25fb3ae4490ba6f24165be0b7ea",
       "version_major": 2,
       "version_minor": 0
      },
      "text/plain": [
       "  0%|          | 0/1000 [00:00<?, ?it/s]"
      ]
     },
     "metadata": {},
     "output_type": "display_data"
    },
    {
     "data": {
      "application/vnd.jupyter.widget-view+json": {
       "model_id": "bf4f6aecfac143bc8c560858e158a145",
       "version_major": 2,
       "version_minor": 0
      },
      "text/plain": [
       "  0%|          | 0/1000 [00:00<?, ?it/s]"
      ]
     },
     "metadata": {},
     "output_type": "display_data"
    },
    {
     "data": {
      "application/vnd.jupyter.widget-view+json": {
       "model_id": "ceec25ca81f14baa8cc7b554341fc05c",
       "version_major": 2,
       "version_minor": 0
      },
      "text/plain": [
       "  0%|          | 0/1000 [00:00<?, ?it/s]"
      ]
     },
     "metadata": {},
     "output_type": "display_data"
    },
    {
     "data": {
      "application/vnd.jupyter.widget-view+json": {
       "model_id": "04c935928cae4357b438ba19b1080f96",
       "version_major": 2,
       "version_minor": 0
      },
      "text/plain": [
       "  0%|          | 0/1000 [00:00<?, ?it/s]"
      ]
     },
     "metadata": {},
     "output_type": "display_data"
    },
    {
     "data": {
      "application/vnd.jupyter.widget-view+json": {
       "model_id": "00e8f44676fc46e1a39111c677c7740e",
       "version_major": 2,
       "version_minor": 0
      },
      "text/plain": [
       "  0%|          | 0/1000 [00:00<?, ?it/s]"
      ]
     },
     "metadata": {},
     "output_type": "display_data"
    },
    {
     "data": {
      "application/vnd.jupyter.widget-view+json": {
       "model_id": "074afc90515a45c8a211994d1e1a9d8e",
       "version_major": 2,
       "version_minor": 0
      },
      "text/plain": [
       "  0%|          | 0/1000 [00:00<?, ?it/s]"
      ]
     },
     "metadata": {},
     "output_type": "display_data"
    },
    {
     "data": {
      "application/vnd.jupyter.widget-view+json": {
       "model_id": "31d65bdcf30a432485c15017c555ce98",
       "version_major": 2,
       "version_minor": 0
      },
      "text/plain": [
       "  0%|          | 0/1000 [00:00<?, ?it/s]"
      ]
     },
     "metadata": {},
     "output_type": "display_data"
    },
    {
     "data": {
      "application/vnd.jupyter.widget-view+json": {
       "model_id": "d8bb3aad42594b9fb4099040c50cbdba",
       "version_major": 2,
       "version_minor": 0
      },
      "text/plain": [
       "  0%|          | 0/1000 [00:00<?, ?it/s]"
      ]
     },
     "metadata": {},
     "output_type": "display_data"
    },
    {
     "data": {
      "application/vnd.jupyter.widget-view+json": {
       "model_id": "71efebde4e5d4f75a2206108abbc3866",
       "version_major": 2,
       "version_minor": 0
      },
      "text/plain": [
       "  0%|          | 0/12 [00:00<?, ?it/s]"
      ]
     },
     "metadata": {},
     "output_type": "display_data"
    },
    {
     "data": {
      "application/vnd.jupyter.widget-view+json": {
       "model_id": "5cbb5b13660a4352a96169909cdfc89a",
       "version_major": 2,
       "version_minor": 0
      },
      "text/plain": [
       "  0%|          | 0/1000 [00:00<?, ?it/s]"
      ]
     },
     "metadata": {},
     "output_type": "display_data"
    },
    {
     "data": {
      "application/vnd.jupyter.widget-view+json": {
       "model_id": "edb9f077a8a14693b337fdc4a69def74",
       "version_major": 2,
       "version_minor": 0
      },
      "text/plain": [
       "  0%|          | 0/1000 [00:00<?, ?it/s]"
      ]
     },
     "metadata": {},
     "output_type": "display_data"
    },
    {
     "data": {
      "application/vnd.jupyter.widget-view+json": {
       "model_id": "234f74b1eb6d436eb9b46e67e7bd373d",
       "version_major": 2,
       "version_minor": 0
      },
      "text/plain": [
       "  0%|          | 0/1000 [00:00<?, ?it/s]"
      ]
     },
     "metadata": {},
     "output_type": "display_data"
    },
    {
     "data": {
      "application/vnd.jupyter.widget-view+json": {
       "model_id": "aa37681324bb4e058075ca03a9033db8",
       "version_major": 2,
       "version_minor": 0
      },
      "text/plain": [
       "  0%|          | 0/1000 [00:00<?, ?it/s]"
      ]
     },
     "metadata": {},
     "output_type": "display_data"
    },
    {
     "data": {
      "application/vnd.jupyter.widget-view+json": {
       "model_id": "c776269227e6409d8832c4796883f694",
       "version_major": 2,
       "version_minor": 0
      },
      "text/plain": [
       "  0%|          | 0/1000 [00:00<?, ?it/s]"
      ]
     },
     "metadata": {},
     "output_type": "display_data"
    },
    {
     "data": {
      "application/vnd.jupyter.widget-view+json": {
       "model_id": "1c99891cb5774d2da4641c7f3ca52d1b",
       "version_major": 2,
       "version_minor": 0
      },
      "text/plain": [
       "  0%|          | 0/1000 [00:00<?, ?it/s]"
      ]
     },
     "metadata": {},
     "output_type": "display_data"
    },
    {
     "data": {
      "application/vnd.jupyter.widget-view+json": {
       "model_id": "66fb9f260bdc45ab9abdc8bc8f54bb87",
       "version_major": 2,
       "version_minor": 0
      },
      "text/plain": [
       "  0%|          | 0/1000 [00:00<?, ?it/s]"
      ]
     },
     "metadata": {},
     "output_type": "display_data"
    },
    {
     "data": {
      "application/vnd.jupyter.widget-view+json": {
       "model_id": "8de69083111a4cc4827362b3c8ba3201",
       "version_major": 2,
       "version_minor": 0
      },
      "text/plain": [
       "  0%|          | 0/1000 [00:00<?, ?it/s]"
      ]
     },
     "metadata": {},
     "output_type": "display_data"
    },
    {
     "data": {
      "application/vnd.jupyter.widget-view+json": {
       "model_id": "58e7e484edb34ce48eb290eb74922d27",
       "version_major": 2,
       "version_minor": 0
      },
      "text/plain": [
       "  0%|          | 0/1000 [00:00<?, ?it/s]"
      ]
     },
     "metadata": {},
     "output_type": "display_data"
    },
    {
     "data": {
      "application/vnd.jupyter.widget-view+json": {
       "model_id": "8f6899113bec49f2b431f38d6c6e5ed9",
       "version_major": 2,
       "version_minor": 0
      },
      "text/plain": [
       "  0%|          | 0/1000 [00:00<?, ?it/s]"
      ]
     },
     "metadata": {},
     "output_type": "display_data"
    },
    {
     "data": {
      "application/vnd.jupyter.widget-view+json": {
       "model_id": "2454a83e7c6747b9aec0d1edd1306ee6",
       "version_major": 2,
       "version_minor": 0
      },
      "text/plain": [
       "  0%|          | 0/1000 [00:00<?, ?it/s]"
      ]
     },
     "metadata": {},
     "output_type": "display_data"
    },
    {
     "data": {
      "application/vnd.jupyter.widget-view+json": {
       "model_id": "3a647a20d9b04f00adbb0ebbb0cd2435",
       "version_major": 2,
       "version_minor": 0
      },
      "text/plain": [
       "  0%|          | 0/1000 [00:00<?, ?it/s]"
      ]
     },
     "metadata": {},
     "output_type": "display_data"
    },
    {
     "name": "stdout",
     "output_type": "stream",
     "text": [
      "Evaluating vlatent=1 | vparam=2\n",
      "Warmup phase\n"
     ]
    },
    {
     "data": {
      "application/vnd.jupyter.widget-view+json": {
       "model_id": "42c9423385bd4b8fabdc839388aaa6dd",
       "version_major": 2,
       "version_minor": 0
      },
      "text/plain": [
       "  0%|          | 0/3000 [00:00<?, ?it/s]"
      ]
     },
     "metadata": {},
     "output_type": "display_data"
    },
    {
     "data": {
      "application/vnd.jupyter.widget-view+json": {
       "model_id": "88d71bb046c34fecbcec0c50c494279a",
       "version_major": 2,
       "version_minor": 0
      },
      "text/plain": [
       "  0%|          | 0/3000 [00:00<?, ?it/s]"
      ]
     },
     "metadata": {},
     "output_type": "display_data"
    },
    {
     "name": "stdout",
     "output_type": "stream",
     "text": [
      "Test phase\n"
     ]
    },
    {
     "data": {
      "application/vnd.jupyter.widget-view+json": {
       "model_id": "de455dfe5a004e35afd81f2aae37122f",
       "version_major": 2,
       "version_minor": 0
      },
      "text/plain": [
       "  0%|          | 0/12 [00:00<?, ?it/s]"
      ]
     },
     "metadata": {},
     "output_type": "display_data"
    },
    {
     "data": {
      "application/vnd.jupyter.widget-view+json": {
       "model_id": "e35c48ecab094a848e68fea0ded28686",
       "version_major": 2,
       "version_minor": 0
      },
      "text/plain": [
       "  0%|          | 0/1000 [00:00<?, ?it/s]"
      ]
     },
     "metadata": {},
     "output_type": "display_data"
    },
    {
     "data": {
      "application/vnd.jupyter.widget-view+json": {
       "model_id": "e654a16a0c4d4fd085f7f2afb1975e69",
       "version_major": 2,
       "version_minor": 0
      },
      "text/plain": [
       "  0%|          | 0/1000 [00:00<?, ?it/s]"
      ]
     },
     "metadata": {},
     "output_type": "display_data"
    },
    {
     "data": {
      "application/vnd.jupyter.widget-view+json": {
       "model_id": "0e8a9c5e90fd4408b87e76e34497ede4",
       "version_major": 2,
       "version_minor": 0
      },
      "text/plain": [
       "  0%|          | 0/1000 [00:00<?, ?it/s]"
      ]
     },
     "metadata": {},
     "output_type": "display_data"
    },
    {
     "data": {
      "application/vnd.jupyter.widget-view+json": {
       "model_id": "85ab9c3c70e74db2914cb667a2cdcf07",
       "version_major": 2,
       "version_minor": 0
      },
      "text/plain": [
       "  0%|          | 0/1000 [00:00<?, ?it/s]"
      ]
     },
     "metadata": {},
     "output_type": "display_data"
    },
    {
     "data": {
      "application/vnd.jupyter.widget-view+json": {
       "model_id": "698e4c688bf343c4a70d15cfd4aa2b26",
       "version_major": 2,
       "version_minor": 0
      },
      "text/plain": [
       "  0%|          | 0/1000 [00:00<?, ?it/s]"
      ]
     },
     "metadata": {},
     "output_type": "display_data"
    },
    {
     "data": {
      "application/vnd.jupyter.widget-view+json": {
       "model_id": "79552d0d15dc4d5f8e52f016db0d40f6",
       "version_major": 2,
       "version_minor": 0
      },
      "text/plain": [
       "  0%|          | 0/1000 [00:00<?, ?it/s]"
      ]
     },
     "metadata": {},
     "output_type": "display_data"
    },
    {
     "data": {
      "application/vnd.jupyter.widget-view+json": {
       "model_id": "15b2a281fda2431883690a34c2de33f7",
       "version_major": 2,
       "version_minor": 0
      },
      "text/plain": [
       "  0%|          | 0/1000 [00:00<?, ?it/s]"
      ]
     },
     "metadata": {},
     "output_type": "display_data"
    },
    {
     "data": {
      "application/vnd.jupyter.widget-view+json": {
       "model_id": "7d9584a12ed44f579bf1fa10690ad76d",
       "version_major": 2,
       "version_minor": 0
      },
      "text/plain": [
       "  0%|          | 0/1000 [00:00<?, ?it/s]"
      ]
     },
     "metadata": {},
     "output_type": "display_data"
    },
    {
     "data": {
      "application/vnd.jupyter.widget-view+json": {
       "model_id": "09b0454b4bd24b0095f242e843946873",
       "version_major": 2,
       "version_minor": 0
      },
      "text/plain": [
       "  0%|          | 0/1000 [00:00<?, ?it/s]"
      ]
     },
     "metadata": {},
     "output_type": "display_data"
    },
    {
     "data": {
      "application/vnd.jupyter.widget-view+json": {
       "model_id": "37ed674357fd4ec7abb6b10a965a3e2c",
       "version_major": 2,
       "version_minor": 0
      },
      "text/plain": [
       "  0%|          | 0/1000 [00:00<?, ?it/s]"
      ]
     },
     "metadata": {},
     "output_type": "display_data"
    },
    {
     "data": {
      "application/vnd.jupyter.widget-view+json": {
       "model_id": "62946d9c3833442ca7732da75e50aa6b",
       "version_major": 2,
       "version_minor": 0
      },
      "text/plain": [
       "  0%|          | 0/1000 [00:00<?, ?it/s]"
      ]
     },
     "metadata": {},
     "output_type": "display_data"
    },
    {
     "data": {
      "application/vnd.jupyter.widget-view+json": {
       "model_id": "04293e1e0fec40ae836113b911398ddd",
       "version_major": 2,
       "version_minor": 0
      },
      "text/plain": [
       "  0%|          | 0/1000 [00:00<?, ?it/s]"
      ]
     },
     "metadata": {},
     "output_type": "display_data"
    },
    {
     "data": {
      "application/vnd.jupyter.widget-view+json": {
       "model_id": "5e8f2fe8ddd14cac81455c24e0f4a8fe",
       "version_major": 2,
       "version_minor": 0
      },
      "text/plain": [
       "  0%|          | 0/12 [00:00<?, ?it/s]"
      ]
     },
     "metadata": {},
     "output_type": "display_data"
    },
    {
     "data": {
      "application/vnd.jupyter.widget-view+json": {
       "model_id": "8e82dd09b66d49cdac50e41c5768586a",
       "version_major": 2,
       "version_minor": 0
      },
      "text/plain": [
       "  0%|          | 0/1000 [00:00<?, ?it/s]"
      ]
     },
     "metadata": {},
     "output_type": "display_data"
    },
    {
     "data": {
      "application/vnd.jupyter.widget-view+json": {
       "model_id": "702281796c3345178fbf60e3adb261a8",
       "version_major": 2,
       "version_minor": 0
      },
      "text/plain": [
       "  0%|          | 0/1000 [00:00<?, ?it/s]"
      ]
     },
     "metadata": {},
     "output_type": "display_data"
    },
    {
     "data": {
      "application/vnd.jupyter.widget-view+json": {
       "model_id": "8c9ea26a4fc74f58aef2175277b5ce85",
       "version_major": 2,
       "version_minor": 0
      },
      "text/plain": [
       "  0%|          | 0/1000 [00:00<?, ?it/s]"
      ]
     },
     "metadata": {},
     "output_type": "display_data"
    },
    {
     "data": {
      "application/vnd.jupyter.widget-view+json": {
       "model_id": "07fe7e3165844611b939532f653d9e52",
       "version_major": 2,
       "version_minor": 0
      },
      "text/plain": [
       "  0%|          | 0/1000 [00:00<?, ?it/s]"
      ]
     },
     "metadata": {},
     "output_type": "display_data"
    },
    {
     "data": {
      "application/vnd.jupyter.widget-view+json": {
       "model_id": "b5b3d9353fac4c6394574407a816b1c6",
       "version_major": 2,
       "version_minor": 0
      },
      "text/plain": [
       "  0%|          | 0/1000 [00:00<?, ?it/s]"
      ]
     },
     "metadata": {},
     "output_type": "display_data"
    },
    {
     "data": {
      "application/vnd.jupyter.widget-view+json": {
       "model_id": "b2418748db284a2da829d592fb7e344e",
       "version_major": 2,
       "version_minor": 0
      },
      "text/plain": [
       "  0%|          | 0/1000 [00:00<?, ?it/s]"
      ]
     },
     "metadata": {},
     "output_type": "display_data"
    },
    {
     "data": {
      "application/vnd.jupyter.widget-view+json": {
       "model_id": "cbe318656d574ba1a0e7d7b949c6a8f4",
       "version_major": 2,
       "version_minor": 0
      },
      "text/plain": [
       "  0%|          | 0/1000 [00:00<?, ?it/s]"
      ]
     },
     "metadata": {},
     "output_type": "display_data"
    },
    {
     "data": {
      "application/vnd.jupyter.widget-view+json": {
       "model_id": "ea85a4ecc47e4f4e963ec2093e38b85f",
       "version_major": 2,
       "version_minor": 0
      },
      "text/plain": [
       "  0%|          | 0/1000 [00:00<?, ?it/s]"
      ]
     },
     "metadata": {},
     "output_type": "display_data"
    },
    {
     "data": {
      "application/vnd.jupyter.widget-view+json": {
       "model_id": "fb016bb2d2684b38b5cb9c2ff260c7e5",
       "version_major": 2,
       "version_minor": 0
      },
      "text/plain": [
       "  0%|          | 0/1000 [00:00<?, ?it/s]"
      ]
     },
     "metadata": {},
     "output_type": "display_data"
    },
    {
     "data": {
      "application/vnd.jupyter.widget-view+json": {
       "model_id": "b13250c6f04c4e8d8bb8badd92cfde9f",
       "version_major": 2,
       "version_minor": 0
      },
      "text/plain": [
       "  0%|          | 0/1000 [00:00<?, ?it/s]"
      ]
     },
     "metadata": {},
     "output_type": "display_data"
    },
    {
     "data": {
      "application/vnd.jupyter.widget-view+json": {
       "model_id": "393f1fba1d0d477eacc1bb4357a3fbf9",
       "version_major": 2,
       "version_minor": 0
      },
      "text/plain": [
       "  0%|          | 0/1000 [00:00<?, ?it/s]"
      ]
     },
     "metadata": {},
     "output_type": "display_data"
    },
    {
     "data": {
      "application/vnd.jupyter.widget-view+json": {
       "model_id": "c8fc8ead95d143b0b730f9b214e5475e",
       "version_major": 2,
       "version_minor": 0
      },
      "text/plain": [
       "  0%|          | 0/1000 [00:00<?, ?it/s]"
      ]
     },
     "metadata": {},
     "output_type": "display_data"
    },
    {
     "name": "stdout",
     "output_type": "stream",
     "text": [
      "Evaluating vlatent=1 | vparam=3\n",
      "Warmup phase\n"
     ]
    },
    {
     "data": {
      "application/vnd.jupyter.widget-view+json": {
       "model_id": "3cbe39fa3c6b47a69b246f518dd6b077",
       "version_major": 2,
       "version_minor": 0
      },
      "text/plain": [
       "  0%|          | 0/3000 [00:00<?, ?it/s]"
      ]
     },
     "metadata": {},
     "output_type": "display_data"
    },
    {
     "data": {
      "application/vnd.jupyter.widget-view+json": {
       "model_id": "57483e802d7b41208b6b3047bf26114d",
       "version_major": 2,
       "version_minor": 0
      },
      "text/plain": [
       "  0%|          | 0/3000 [00:00<?, ?it/s]"
      ]
     },
     "metadata": {},
     "output_type": "display_data"
    },
    {
     "name": "stdout",
     "output_type": "stream",
     "text": [
      "Test phase\n"
     ]
    },
    {
     "data": {
      "application/vnd.jupyter.widget-view+json": {
       "model_id": "f46ebd1bd8ef4fb1943be2113983e05c",
       "version_major": 2,
       "version_minor": 0
      },
      "text/plain": [
       "  0%|          | 0/12 [00:00<?, ?it/s]"
      ]
     },
     "metadata": {},
     "output_type": "display_data"
    },
    {
     "data": {
      "application/vnd.jupyter.widget-view+json": {
       "model_id": "3ce1647c386644aa97beca3c91d55244",
       "version_major": 2,
       "version_minor": 0
      },
      "text/plain": [
       "  0%|          | 0/1000 [00:00<?, ?it/s]"
      ]
     },
     "metadata": {},
     "output_type": "display_data"
    },
    {
     "data": {
      "application/vnd.jupyter.widget-view+json": {
       "model_id": "f0580cebac7244f0a217a8e5609cff96",
       "version_major": 2,
       "version_minor": 0
      },
      "text/plain": [
       "  0%|          | 0/1000 [00:00<?, ?it/s]"
      ]
     },
     "metadata": {},
     "output_type": "display_data"
    },
    {
     "data": {
      "application/vnd.jupyter.widget-view+json": {
       "model_id": "992246aabcfc4a1f8aae60ea038c4172",
       "version_major": 2,
       "version_minor": 0
      },
      "text/plain": [
       "  0%|          | 0/1000 [00:00<?, ?it/s]"
      ]
     },
     "metadata": {},
     "output_type": "display_data"
    },
    {
     "data": {
      "application/vnd.jupyter.widget-view+json": {
       "model_id": "31b6fa967d6c42d1b9583e49540cd41c",
       "version_major": 2,
       "version_minor": 0
      },
      "text/plain": [
       "  0%|          | 0/1000 [00:00<?, ?it/s]"
      ]
     },
     "metadata": {},
     "output_type": "display_data"
    },
    {
     "data": {
      "application/vnd.jupyter.widget-view+json": {
       "model_id": "884a98a55b8a4fd58c5c5478c10d57e9",
       "version_major": 2,
       "version_minor": 0
      },
      "text/plain": [
       "  0%|          | 0/1000 [00:00<?, ?it/s]"
      ]
     },
     "metadata": {},
     "output_type": "display_data"
    },
    {
     "data": {
      "application/vnd.jupyter.widget-view+json": {
       "model_id": "2db8d4048dba44c4932c6be7fcb96531",
       "version_major": 2,
       "version_minor": 0
      },
      "text/plain": [
       "  0%|          | 0/1000 [00:00<?, ?it/s]"
      ]
     },
     "metadata": {},
     "output_type": "display_data"
    },
    {
     "data": {
      "application/vnd.jupyter.widget-view+json": {
       "model_id": "b75ce5143a63440a820cbf3b4d2e0f39",
       "version_major": 2,
       "version_minor": 0
      },
      "text/plain": [
       "  0%|          | 0/1000 [00:00<?, ?it/s]"
      ]
     },
     "metadata": {},
     "output_type": "display_data"
    },
    {
     "data": {
      "application/vnd.jupyter.widget-view+json": {
       "model_id": "a3f89e5872e040c7b7dde2ead4de30a1",
       "version_major": 2,
       "version_minor": 0
      },
      "text/plain": [
       "  0%|          | 0/1000 [00:00<?, ?it/s]"
      ]
     },
     "metadata": {},
     "output_type": "display_data"
    },
    {
     "data": {
      "application/vnd.jupyter.widget-view+json": {
       "model_id": "490e0b555382461185dcba5849004b64",
       "version_major": 2,
       "version_minor": 0
      },
      "text/plain": [
       "  0%|          | 0/1000 [00:00<?, ?it/s]"
      ]
     },
     "metadata": {},
     "output_type": "display_data"
    },
    {
     "data": {
      "application/vnd.jupyter.widget-view+json": {
       "model_id": "be2551d9745d48bebdd0be1f1f9f8b46",
       "version_major": 2,
       "version_minor": 0
      },
      "text/plain": [
       "  0%|          | 0/1000 [00:00<?, ?it/s]"
      ]
     },
     "metadata": {},
     "output_type": "display_data"
    },
    {
     "data": {
      "application/vnd.jupyter.widget-view+json": {
       "model_id": "1dcf868d7e3e4a5ba461645d0b08a256",
       "version_major": 2,
       "version_minor": 0
      },
      "text/plain": [
       "  0%|          | 0/1000 [00:00<?, ?it/s]"
      ]
     },
     "metadata": {},
     "output_type": "display_data"
    },
    {
     "data": {
      "application/vnd.jupyter.widget-view+json": {
       "model_id": "d181402db86c44a2a78a766421eaf40f",
       "version_major": 2,
       "version_minor": 0
      },
      "text/plain": [
       "  0%|          | 0/1000 [00:00<?, ?it/s]"
      ]
     },
     "metadata": {},
     "output_type": "display_data"
    },
    {
     "data": {
      "application/vnd.jupyter.widget-view+json": {
       "model_id": "7b11efa5f97f4b10a253a146846cfee4",
       "version_major": 2,
       "version_minor": 0
      },
      "text/plain": [
       "  0%|          | 0/12 [00:00<?, ?it/s]"
      ]
     },
     "metadata": {},
     "output_type": "display_data"
    },
    {
     "data": {
      "application/vnd.jupyter.widget-view+json": {
       "model_id": "c8295533888940429a9a65bd8312f9f1",
       "version_major": 2,
       "version_minor": 0
      },
      "text/plain": [
       "  0%|          | 0/1000 [00:00<?, ?it/s]"
      ]
     },
     "metadata": {},
     "output_type": "display_data"
    },
    {
     "data": {
      "application/vnd.jupyter.widget-view+json": {
       "model_id": "e22691a4de4f48a1bd217978a53fd131",
       "version_major": 2,
       "version_minor": 0
      },
      "text/plain": [
       "  0%|          | 0/1000 [00:00<?, ?it/s]"
      ]
     },
     "metadata": {},
     "output_type": "display_data"
    },
    {
     "data": {
      "application/vnd.jupyter.widget-view+json": {
       "model_id": "c121675fc92e4df9a015e6f4f1413ed7",
       "version_major": 2,
       "version_minor": 0
      },
      "text/plain": [
       "  0%|          | 0/1000 [00:00<?, ?it/s]"
      ]
     },
     "metadata": {},
     "output_type": "display_data"
    },
    {
     "data": {
      "application/vnd.jupyter.widget-view+json": {
       "model_id": "5dfb786f86014ec58f41b906325588d2",
       "version_major": 2,
       "version_minor": 0
      },
      "text/plain": [
       "  0%|          | 0/1000 [00:00<?, ?it/s]"
      ]
     },
     "metadata": {},
     "output_type": "display_data"
    },
    {
     "data": {
      "application/vnd.jupyter.widget-view+json": {
       "model_id": "9d670aab228d43ccbd7f0ea3242a1e60",
       "version_major": 2,
       "version_minor": 0
      },
      "text/plain": [
       "  0%|          | 0/1000 [00:00<?, ?it/s]"
      ]
     },
     "metadata": {},
     "output_type": "display_data"
    },
    {
     "data": {
      "application/vnd.jupyter.widget-view+json": {
       "model_id": "f6aefdd7520b4088a2930770da9c8b4e",
       "version_major": 2,
       "version_minor": 0
      },
      "text/plain": [
       "  0%|          | 0/1000 [00:00<?, ?it/s]"
      ]
     },
     "metadata": {},
     "output_type": "display_data"
    },
    {
     "data": {
      "application/vnd.jupyter.widget-view+json": {
       "model_id": "449d2c541ff94ade90bd5f63af589924",
       "version_major": 2,
       "version_minor": 0
      },
      "text/plain": [
       "  0%|          | 0/1000 [00:00<?, ?it/s]"
      ]
     },
     "metadata": {},
     "output_type": "display_data"
    },
    {
     "data": {
      "application/vnd.jupyter.widget-view+json": {
       "model_id": "c5efd984de9c4ffb984349ec9673411a",
       "version_major": 2,
       "version_minor": 0
      },
      "text/plain": [
       "  0%|          | 0/1000 [00:00<?, ?it/s]"
      ]
     },
     "metadata": {},
     "output_type": "display_data"
    },
    {
     "data": {
      "application/vnd.jupyter.widget-view+json": {
       "model_id": "f0e23f230718403fbe39df2db3d594bb",
       "version_major": 2,
       "version_minor": 0
      },
      "text/plain": [
       "  0%|          | 0/1000 [00:00<?, ?it/s]"
      ]
     },
     "metadata": {},
     "output_type": "display_data"
    },
    {
     "data": {
      "application/vnd.jupyter.widget-view+json": {
       "model_id": "65b8158875b24c3197b8a25d6e42aa0a",
       "version_major": 2,
       "version_minor": 0
      },
      "text/plain": [
       "  0%|          | 0/1000 [00:00<?, ?it/s]"
      ]
     },
     "metadata": {},
     "output_type": "display_data"
    },
    {
     "data": {
      "application/vnd.jupyter.widget-view+json": {
       "model_id": "baf4940333ab4226be67152858398599",
       "version_major": 2,
       "version_minor": 0
      },
      "text/plain": [
       "  0%|          | 0/1000 [00:00<?, ?it/s]"
      ]
     },
     "metadata": {},
     "output_type": "display_data"
    },
    {
     "data": {
      "application/vnd.jupyter.widget-view+json": {
       "model_id": "868be65f09fa471d8ef90d40032cb277",
       "version_major": 2,
       "version_minor": 0
      },
      "text/plain": [
       "  0%|          | 0/1000 [00:00<?, ?it/s]"
      ]
     },
     "metadata": {},
     "output_type": "display_data"
    },
    {
     "name": "stdout",
     "output_type": "stream",
     "text": [
      "Evaluating vlatent=1 | vparam=5\n",
      "Warmup phase\n"
     ]
    },
    {
     "data": {
      "application/vnd.jupyter.widget-view+json": {
       "model_id": "bf1dfb9d1fcc4950b6bd37608b0c66ac",
       "version_major": 2,
       "version_minor": 0
      },
      "text/plain": [
       "  0%|          | 0/3000 [00:00<?, ?it/s]"
      ]
     },
     "metadata": {},
     "output_type": "display_data"
    },
    {
     "data": {
      "application/vnd.jupyter.widget-view+json": {
       "model_id": "7866de87794e49d2be912a28a592471f",
       "version_major": 2,
       "version_minor": 0
      },
      "text/plain": [
       "  0%|          | 0/3000 [00:00<?, ?it/s]"
      ]
     },
     "metadata": {},
     "output_type": "display_data"
    },
    {
     "name": "stdout",
     "output_type": "stream",
     "text": [
      "Test phase\n"
     ]
    },
    {
     "data": {
      "application/vnd.jupyter.widget-view+json": {
       "model_id": "131e8b31c00d43318cde243b286284b7",
       "version_major": 2,
       "version_minor": 0
      },
      "text/plain": [
       "  0%|          | 0/12 [00:00<?, ?it/s]"
      ]
     },
     "metadata": {},
     "output_type": "display_data"
    },
    {
     "data": {
      "application/vnd.jupyter.widget-view+json": {
       "model_id": "1e5e1f967f66407caef92d6b8b41310c",
       "version_major": 2,
       "version_minor": 0
      },
      "text/plain": [
       "  0%|          | 0/1000 [00:00<?, ?it/s]"
      ]
     },
     "metadata": {},
     "output_type": "display_data"
    },
    {
     "data": {
      "application/vnd.jupyter.widget-view+json": {
       "model_id": "eaf7e985eea74b50b8f4ded32de715c8",
       "version_major": 2,
       "version_minor": 0
      },
      "text/plain": [
       "  0%|          | 0/1000 [00:00<?, ?it/s]"
      ]
     },
     "metadata": {},
     "output_type": "display_data"
    },
    {
     "data": {
      "application/vnd.jupyter.widget-view+json": {
       "model_id": "bac5906ebf4f455792764ff15af8a9b3",
       "version_major": 2,
       "version_minor": 0
      },
      "text/plain": [
       "  0%|          | 0/1000 [00:00<?, ?it/s]"
      ]
     },
     "metadata": {},
     "output_type": "display_data"
    },
    {
     "data": {
      "application/vnd.jupyter.widget-view+json": {
       "model_id": "0bd29f4b1f7140a7b005d00c9e374e34",
       "version_major": 2,
       "version_minor": 0
      },
      "text/plain": [
       "  0%|          | 0/1000 [00:00<?, ?it/s]"
      ]
     },
     "metadata": {},
     "output_type": "display_data"
    },
    {
     "data": {
      "application/vnd.jupyter.widget-view+json": {
       "model_id": "551cc7daf694473fbf226becdfe00b70",
       "version_major": 2,
       "version_minor": 0
      },
      "text/plain": [
       "  0%|          | 0/1000 [00:00<?, ?it/s]"
      ]
     },
     "metadata": {},
     "output_type": "display_data"
    },
    {
     "data": {
      "application/vnd.jupyter.widget-view+json": {
       "model_id": "a3bdd0ff2b404c76a348f0a1eb4c76d4",
       "version_major": 2,
       "version_minor": 0
      },
      "text/plain": [
       "  0%|          | 0/1000 [00:00<?, ?it/s]"
      ]
     },
     "metadata": {},
     "output_type": "display_data"
    },
    {
     "data": {
      "application/vnd.jupyter.widget-view+json": {
       "model_id": "260f7a4a9ff54ba9bd71b1237afabdc1",
       "version_major": 2,
       "version_minor": 0
      },
      "text/plain": [
       "  0%|          | 0/1000 [00:00<?, ?it/s]"
      ]
     },
     "metadata": {},
     "output_type": "display_data"
    },
    {
     "data": {
      "application/vnd.jupyter.widget-view+json": {
       "model_id": "7142e0a0aac2468aabfa357a7355fd88",
       "version_major": 2,
       "version_minor": 0
      },
      "text/plain": [
       "  0%|          | 0/1000 [00:00<?, ?it/s]"
      ]
     },
     "metadata": {},
     "output_type": "display_data"
    },
    {
     "data": {
      "application/vnd.jupyter.widget-view+json": {
       "model_id": "df7598818b9f4135bba4da9a184347be",
       "version_major": 2,
       "version_minor": 0
      },
      "text/plain": [
       "  0%|          | 0/1000 [00:00<?, ?it/s]"
      ]
     },
     "metadata": {},
     "output_type": "display_data"
    },
    {
     "data": {
      "application/vnd.jupyter.widget-view+json": {
       "model_id": "02c56bf1970f4a7cb6a33131f19df42e",
       "version_major": 2,
       "version_minor": 0
      },
      "text/plain": [
       "  0%|          | 0/1000 [00:00<?, ?it/s]"
      ]
     },
     "metadata": {},
     "output_type": "display_data"
    },
    {
     "data": {
      "application/vnd.jupyter.widget-view+json": {
       "model_id": "99e987227c7f4cdd9dfe3d7f8e49377f",
       "version_major": 2,
       "version_minor": 0
      },
      "text/plain": [
       "  0%|          | 0/1000 [00:00<?, ?it/s]"
      ]
     },
     "metadata": {},
     "output_type": "display_data"
    },
    {
     "data": {
      "application/vnd.jupyter.widget-view+json": {
       "model_id": "ce1676a2729e458183bcfeb846fe1558",
       "version_major": 2,
       "version_minor": 0
      },
      "text/plain": [
       "  0%|          | 0/1000 [00:00<?, ?it/s]"
      ]
     },
     "metadata": {},
     "output_type": "display_data"
    },
    {
     "data": {
      "application/vnd.jupyter.widget-view+json": {
       "model_id": "f90d30c268db4c2b81771ac29365b3d7",
       "version_major": 2,
       "version_minor": 0
      },
      "text/plain": [
       "  0%|          | 0/12 [00:00<?, ?it/s]"
      ]
     },
     "metadata": {},
     "output_type": "display_data"
    },
    {
     "data": {
      "application/vnd.jupyter.widget-view+json": {
       "model_id": "6f57f52a546e46d687555397a05f3c79",
       "version_major": 2,
       "version_minor": 0
      },
      "text/plain": [
       "  0%|          | 0/1000 [00:00<?, ?it/s]"
      ]
     },
     "metadata": {},
     "output_type": "display_data"
    },
    {
     "data": {
      "application/vnd.jupyter.widget-view+json": {
       "model_id": "785fb95df9e244c6aa56321a6d6c4333",
       "version_major": 2,
       "version_minor": 0
      },
      "text/plain": [
       "  0%|          | 0/1000 [00:00<?, ?it/s]"
      ]
     },
     "metadata": {},
     "output_type": "display_data"
    },
    {
     "data": {
      "application/vnd.jupyter.widget-view+json": {
       "model_id": "b72665b22dac46288ff9542960247fcf",
       "version_major": 2,
       "version_minor": 0
      },
      "text/plain": [
       "  0%|          | 0/1000 [00:00<?, ?it/s]"
      ]
     },
     "metadata": {},
     "output_type": "display_data"
    },
    {
     "data": {
      "application/vnd.jupyter.widget-view+json": {
       "model_id": "8e4e377cf71d40b7af922120c02ced30",
       "version_major": 2,
       "version_minor": 0
      },
      "text/plain": [
       "  0%|          | 0/1000 [00:00<?, ?it/s]"
      ]
     },
     "metadata": {},
     "output_type": "display_data"
    },
    {
     "data": {
      "application/vnd.jupyter.widget-view+json": {
       "model_id": "5148cb14c0fd4798acde6d6822dc67fc",
       "version_major": 2,
       "version_minor": 0
      },
      "text/plain": [
       "  0%|          | 0/1000 [00:00<?, ?it/s]"
      ]
     },
     "metadata": {},
     "output_type": "display_data"
    },
    {
     "data": {
      "application/vnd.jupyter.widget-view+json": {
       "model_id": "4637f04864f04cbcaa098c20046ff97a",
       "version_major": 2,
       "version_minor": 0
      },
      "text/plain": [
       "  0%|          | 0/1000 [00:00<?, ?it/s]"
      ]
     },
     "metadata": {},
     "output_type": "display_data"
    },
    {
     "data": {
      "application/vnd.jupyter.widget-view+json": {
       "model_id": "05f3783b37b64e17997291b23b66dfd5",
       "version_major": 2,
       "version_minor": 0
      },
      "text/plain": [
       "  0%|          | 0/1000 [00:00<?, ?it/s]"
      ]
     },
     "metadata": {},
     "output_type": "display_data"
    },
    {
     "data": {
      "application/vnd.jupyter.widget-view+json": {
       "model_id": "33f5f27c7c2c41a5b84c311d031fba19",
       "version_major": 2,
       "version_minor": 0
      },
      "text/plain": [
       "  0%|          | 0/1000 [00:00<?, ?it/s]"
      ]
     },
     "metadata": {},
     "output_type": "display_data"
    },
    {
     "data": {
      "application/vnd.jupyter.widget-view+json": {
       "model_id": "8d521c04e71243abbbc1269ac261e415",
       "version_major": 2,
       "version_minor": 0
      },
      "text/plain": [
       "  0%|          | 0/1000 [00:00<?, ?it/s]"
      ]
     },
     "metadata": {},
     "output_type": "display_data"
    },
    {
     "data": {
      "application/vnd.jupyter.widget-view+json": {
       "model_id": "c525af4a820743069dfb8ec8884c878b",
       "version_major": 2,
       "version_minor": 0
      },
      "text/plain": [
       "  0%|          | 0/1000 [00:00<?, ?it/s]"
      ]
     },
     "metadata": {},
     "output_type": "display_data"
    },
    {
     "data": {
      "application/vnd.jupyter.widget-view+json": {
       "model_id": "85e0546ae7e24519a2df2cda4f773acc",
       "version_major": 2,
       "version_minor": 0
      },
      "text/plain": [
       "  0%|          | 0/1000 [00:00<?, ?it/s]"
      ]
     },
     "metadata": {},
     "output_type": "display_data"
    },
    {
     "data": {
      "application/vnd.jupyter.widget-view+json": {
       "model_id": "85ce40fc6c7749e5a03397ff995c0a8a",
       "version_major": 2,
       "version_minor": 0
      },
      "text/plain": [
       "  0%|          | 0/1000 [00:00<?, ?it/s]"
      ]
     },
     "metadata": {},
     "output_type": "display_data"
    },
    {
     "name": "stdout",
     "output_type": "stream",
     "text": [
      "Evaluating vlatent=1 | vparam=10\n",
      "Warmup phase\n"
     ]
    },
    {
     "data": {
      "application/vnd.jupyter.widget-view+json": {
       "model_id": "6e37f7fbe03c4303886db46c3b98aa23",
       "version_major": 2,
       "version_minor": 0
      },
      "text/plain": [
       "  0%|          | 0/3000 [00:00<?, ?it/s]"
      ]
     },
     "metadata": {},
     "output_type": "display_data"
    },
    {
     "data": {
      "application/vnd.jupyter.widget-view+json": {
       "model_id": "947259bc0ac043e9b1f453a3d9397cf1",
       "version_major": 2,
       "version_minor": 0
      },
      "text/plain": [
       "  0%|          | 0/3000 [00:00<?, ?it/s]"
      ]
     },
     "metadata": {},
     "output_type": "display_data"
    },
    {
     "name": "stdout",
     "output_type": "stream",
     "text": [
      "Test phase\n"
     ]
    },
    {
     "data": {
      "application/vnd.jupyter.widget-view+json": {
       "model_id": "b88692e95a8b4a248f9bbc34d752c846",
       "version_major": 2,
       "version_minor": 0
      },
      "text/plain": [
       "  0%|          | 0/12 [00:00<?, ?it/s]"
      ]
     },
     "metadata": {},
     "output_type": "display_data"
    },
    {
     "data": {
      "application/vnd.jupyter.widget-view+json": {
       "model_id": "7016e4ced83f4421b67ba8489b88fcd2",
       "version_major": 2,
       "version_minor": 0
      },
      "text/plain": [
       "  0%|          | 0/1000 [00:00<?, ?it/s]"
      ]
     },
     "metadata": {},
     "output_type": "display_data"
    },
    {
     "data": {
      "application/vnd.jupyter.widget-view+json": {
       "model_id": "8bbe10c4034c4910b499a4caa30b2d15",
       "version_major": 2,
       "version_minor": 0
      },
      "text/plain": [
       "  0%|          | 0/1000 [00:00<?, ?it/s]"
      ]
     },
     "metadata": {},
     "output_type": "display_data"
    },
    {
     "data": {
      "application/vnd.jupyter.widget-view+json": {
       "model_id": "98838ca6f786448099da1a38ce2fec36",
       "version_major": 2,
       "version_minor": 0
      },
      "text/plain": [
       "  0%|          | 0/1000 [00:00<?, ?it/s]"
      ]
     },
     "metadata": {},
     "output_type": "display_data"
    },
    {
     "data": {
      "application/vnd.jupyter.widget-view+json": {
       "model_id": "db6d88244eac4dc4ab46b0776b662835",
       "version_major": 2,
       "version_minor": 0
      },
      "text/plain": [
       "  0%|          | 0/1000 [00:00<?, ?it/s]"
      ]
     },
     "metadata": {},
     "output_type": "display_data"
    },
    {
     "data": {
      "application/vnd.jupyter.widget-view+json": {
       "model_id": "43e058f9f0434ceb865eea8d3eaf8d09",
       "version_major": 2,
       "version_minor": 0
      },
      "text/plain": [
       "  0%|          | 0/1000 [00:00<?, ?it/s]"
      ]
     },
     "metadata": {},
     "output_type": "display_data"
    },
    {
     "data": {
      "application/vnd.jupyter.widget-view+json": {
       "model_id": "5e979dfe12d5410fae73af112c3fe6fe",
       "version_major": 2,
       "version_minor": 0
      },
      "text/plain": [
       "  0%|          | 0/1000 [00:00<?, ?it/s]"
      ]
     },
     "metadata": {},
     "output_type": "display_data"
    },
    {
     "data": {
      "application/vnd.jupyter.widget-view+json": {
       "model_id": "3a7addf4b24e460080171caf4c7049ea",
       "version_major": 2,
       "version_minor": 0
      },
      "text/plain": [
       "  0%|          | 0/1000 [00:00<?, ?it/s]"
      ]
     },
     "metadata": {},
     "output_type": "display_data"
    },
    {
     "data": {
      "application/vnd.jupyter.widget-view+json": {
       "model_id": "376736c77c2d4cd1966f904c612e0efa",
       "version_major": 2,
       "version_minor": 0
      },
      "text/plain": [
       "  0%|          | 0/1000 [00:00<?, ?it/s]"
      ]
     },
     "metadata": {},
     "output_type": "display_data"
    },
    {
     "data": {
      "application/vnd.jupyter.widget-view+json": {
       "model_id": "fb58989b35ee43c5aa66b7f3738b9868",
       "version_major": 2,
       "version_minor": 0
      },
      "text/plain": [
       "  0%|          | 0/1000 [00:00<?, ?it/s]"
      ]
     },
     "metadata": {},
     "output_type": "display_data"
    },
    {
     "data": {
      "application/vnd.jupyter.widget-view+json": {
       "model_id": "77a072970ec140fb9e2666ca0441b0d5",
       "version_major": 2,
       "version_minor": 0
      },
      "text/plain": [
       "  0%|          | 0/1000 [00:00<?, ?it/s]"
      ]
     },
     "metadata": {},
     "output_type": "display_data"
    },
    {
     "data": {
      "application/vnd.jupyter.widget-view+json": {
       "model_id": "0cb6b84bf49d427d8ef46af0da4c4c6a",
       "version_major": 2,
       "version_minor": 0
      },
      "text/plain": [
       "  0%|          | 0/1000 [00:00<?, ?it/s]"
      ]
     },
     "metadata": {},
     "output_type": "display_data"
    },
    {
     "data": {
      "application/vnd.jupyter.widget-view+json": {
       "model_id": "983becdffe9f4b21a740f5e947711a1b",
       "version_major": 2,
       "version_minor": 0
      },
      "text/plain": [
       "  0%|          | 0/1000 [00:00<?, ?it/s]"
      ]
     },
     "metadata": {},
     "output_type": "display_data"
    },
    {
     "data": {
      "application/vnd.jupyter.widget-view+json": {
       "model_id": "5725a5f3626c454e8b95ab17271f7c35",
       "version_major": 2,
       "version_minor": 0
      },
      "text/plain": [
       "  0%|          | 0/12 [00:00<?, ?it/s]"
      ]
     },
     "metadata": {},
     "output_type": "display_data"
    },
    {
     "data": {
      "application/vnd.jupyter.widget-view+json": {
       "model_id": "5edd772773c942f680d86fdcbdcb08dd",
       "version_major": 2,
       "version_minor": 0
      },
      "text/plain": [
       "  0%|          | 0/1000 [00:00<?, ?it/s]"
      ]
     },
     "metadata": {},
     "output_type": "display_data"
    },
    {
     "data": {
      "application/vnd.jupyter.widget-view+json": {
       "model_id": "a93dc7d8182340dc85f3e55cefc4fe5f",
       "version_major": 2,
       "version_minor": 0
      },
      "text/plain": [
       "  0%|          | 0/1000 [00:00<?, ?it/s]"
      ]
     },
     "metadata": {},
     "output_type": "display_data"
    },
    {
     "data": {
      "application/vnd.jupyter.widget-view+json": {
       "model_id": "aab62b7576f54974a97897897d01177c",
       "version_major": 2,
       "version_minor": 0
      },
      "text/plain": [
       "  0%|          | 0/1000 [00:00<?, ?it/s]"
      ]
     },
     "metadata": {},
     "output_type": "display_data"
    },
    {
     "data": {
      "application/vnd.jupyter.widget-view+json": {
       "model_id": "1ff0b5b68c6e478e935db9b4c7109164",
       "version_major": 2,
       "version_minor": 0
      },
      "text/plain": [
       "  0%|          | 0/1000 [00:00<?, ?it/s]"
      ]
     },
     "metadata": {},
     "output_type": "display_data"
    },
    {
     "data": {
      "application/vnd.jupyter.widget-view+json": {
       "model_id": "18f837361bf84729b35d3df75783b4c7",
       "version_major": 2,
       "version_minor": 0
      },
      "text/plain": [
       "  0%|          | 0/1000 [00:00<?, ?it/s]"
      ]
     },
     "metadata": {},
     "output_type": "display_data"
    },
    {
     "data": {
      "application/vnd.jupyter.widget-view+json": {
       "model_id": "6bf05ed0a65b41878871eee58b0a975e",
       "version_major": 2,
       "version_minor": 0
      },
      "text/plain": [
       "  0%|          | 0/1000 [00:00<?, ?it/s]"
      ]
     },
     "metadata": {},
     "output_type": "display_data"
    },
    {
     "data": {
      "application/vnd.jupyter.widget-view+json": {
       "model_id": "7d02b27fb2ad46a38b31aa5318e8c3f1",
       "version_major": 2,
       "version_minor": 0
      },
      "text/plain": [
       "  0%|          | 0/1000 [00:00<?, ?it/s]"
      ]
     },
     "metadata": {},
     "output_type": "display_data"
    },
    {
     "data": {
      "application/vnd.jupyter.widget-view+json": {
       "model_id": "065770b724cd4f41ac5e3bee3d45c0ab",
       "version_major": 2,
       "version_minor": 0
      },
      "text/plain": [
       "  0%|          | 0/1000 [00:00<?, ?it/s]"
      ]
     },
     "metadata": {},
     "output_type": "display_data"
    },
    {
     "data": {
      "application/vnd.jupyter.widget-view+json": {
       "model_id": "c4bc0119af3e4467bab727624c33efca",
       "version_major": 2,
       "version_minor": 0
      },
      "text/plain": [
       "  0%|          | 0/1000 [00:00<?, ?it/s]"
      ]
     },
     "metadata": {},
     "output_type": "display_data"
    },
    {
     "data": {
      "application/vnd.jupyter.widget-view+json": {
       "model_id": "507e96ab5d284e79b35ebc030efaeb16",
       "version_major": 2,
       "version_minor": 0
      },
      "text/plain": [
       "  0%|          | 0/1000 [00:00<?, ?it/s]"
      ]
     },
     "metadata": {},
     "output_type": "display_data"
    },
    {
     "data": {
      "application/vnd.jupyter.widget-view+json": {
       "model_id": "31969aad84d04ce8943d470b2a43e7c7",
       "version_major": 2,
       "version_minor": 0
      },
      "text/plain": [
       "  0%|          | 0/1000 [00:00<?, ?it/s]"
      ]
     },
     "metadata": {},
     "output_type": "display_data"
    },
    {
     "data": {
      "application/vnd.jupyter.widget-view+json": {
       "model_id": "ecd3c617c1a64215a50adaf1306966a0",
       "version_major": 2,
       "version_minor": 0
      },
      "text/plain": [
       "  0%|          | 0/1000 [00:00<?, ?it/s]"
      ]
     },
     "metadata": {},
     "output_type": "display_data"
    },
    {
     "name": "stdout",
     "output_type": "stream",
     "text": [
      "Evaluating vlatent=2 | vparam=1\n",
      "Warmup phase\n"
     ]
    },
    {
     "data": {
      "application/vnd.jupyter.widget-view+json": {
       "model_id": "2277e0701ebe428cb6eaed19700e28d8",
       "version_major": 2,
       "version_minor": 0
      },
      "text/plain": [
       "  0%|          | 0/3000 [00:00<?, ?it/s]"
      ]
     },
     "metadata": {},
     "output_type": "display_data"
    },
    {
     "ename": "KeyboardInterrupt",
     "evalue": "",
     "output_type": "error",
     "traceback": [
      "\u001b[0;31m---------------------------------------------------------------------------\u001b[0m",
      "\u001b[0;31mKeyboardInterrupt\u001b[0m                         Traceback (most recent call last)",
      "File \u001b[0;32m<timed exec>:9\u001b[0m\n",
      "File \u001b[0;32m~/documents/hard-em-lvm/notebooks/../experiments/base_vae_hardem.py:299\u001b[0m, in \u001b[0;36mmain\u001b[0;34m(key, X_train, X_test, config, model_vae, model_decoder, model_encoder_test, lossfn_vae, lossfn_hardem, grad_loss_encoder, vmap_loss_encoder)\u001b[0m\n\u001b[1;32m    296\u001b[0m config_vae, config_hardem, config_test \u001b[39m=\u001b[39m setup(config, model_vae, model_decoder, model_encoder_test)\n\u001b[1;32m    298\u001b[0m \u001b[39mprint\u001b[39m(\u001b[39m\"\u001b[39m\u001b[39mWarmup phase\u001b[39m\u001b[39m\"\u001b[39m)\n\u001b[0;32m--> 299\u001b[0m warmup_output \u001b[39m=\u001b[39m warmup_phase(key_warmup, X_train, config_vae, config_hardem, lossfn_vae, lossfn_hardem)\n\u001b[1;32m    300\u001b[0m \u001b[39mprint\u001b[39m(\u001b[39m\"\u001b[39m\u001b[39mTest phase\u001b[39m\u001b[39m\"\u001b[39m)\n\u001b[1;32m    301\u001b[0m test_output \u001b[39m=\u001b[39m test_phase(key_eval, X_test, config_test, warmup_output, grad_loss_encoder, vmap_loss_encoder)\n",
      "File \u001b[0;32m~/documents/hard-em-lvm/notebooks/../experiments/base_vae_hardem.py:230\u001b[0m, in \u001b[0;36mwarmup_phase\u001b[0;34m(key, X_train, config_vae, config_hardem, lossfn_vae, lossfn_hardem)\u001b[0m\n\u001b[1;32m    227\u001b[0m key_vae, key_hardem \u001b[39m=\u001b[39m jax\u001b[39m.\u001b[39mrandom\u001b[39m.\u001b[39msplit(key)\n\u001b[1;32m    229\u001b[0m \u001b[39m# Obtain inference model parameters\u001b[39;00m\n\u001b[0;32m--> 230\u001b[0m output_hardem \u001b[39m=\u001b[39m warmup_hardem(key_hardem, config_hardem, X_train, lossfn_hardem)\n\u001b[1;32m    231\u001b[0m output_vae \u001b[39m=\u001b[39m warmup_vae(key_vae, config_vae, X_train, lossfn_vae)\n\u001b[1;32m    233\u001b[0m output \u001b[39m=\u001b[39m  {\n\u001b[1;32m    234\u001b[0m     \u001b[39m\"\u001b[39m\u001b[39mvae\u001b[39m\u001b[39m\"\u001b[39m: {\n\u001b[1;32m    235\u001b[0m         \u001b[39m*\u001b[39m\u001b[39m*\u001b[39moutput_vae,\n\u001b[0;32m   (...)\u001b[0m\n\u001b[1;32m    239\u001b[0m     },\n\u001b[1;32m    240\u001b[0m }\n",
      "File \u001b[0;32m~/documents/hard-em-lvm/notebooks/../experiments/base_vae_hardem.py:200\u001b[0m, in \u001b[0;36mwarmup_hardem\u001b[0;34m(key, config, X, lossfn)\u001b[0m\n\u001b[1;32m    198\u001b[0m pbar \u001b[39m=\u001b[39m tqdm(\u001b[39menumerate\u001b[39m(keys_step), total\u001b[39m=\u001b[39mconfig\u001b[39m.\u001b[39mnum_epochs)\n\u001b[1;32m    199\u001b[0m \u001b[39mfor\u001b[39;00m e, keyt \u001b[39min\u001b[39;00m pbar:\n\u001b[0;32m--> 200\u001b[0m     res \u001b[39m=\u001b[39m hlax\u001b[39m.\u001b[39;49mhard_decoder\u001b[39m.\u001b[39;49mtrain_epoch_adam(\n\u001b[1;32m    201\u001b[0m         keyt,\n\u001b[1;32m    202\u001b[0m         params_decoder,\n\u001b[1;32m    203\u001b[0m         z_est,\n\u001b[1;32m    204\u001b[0m         opt_states,\n\u001b[1;32m    205\u001b[0m         X,\n\u001b[1;32m    206\u001b[0m         config\u001b[39m.\u001b[39;49mbatch_size,\n\u001b[1;32m    207\u001b[0m         decoder,\n\u001b[1;32m    208\u001b[0m         config\u001b[39m.\u001b[39;49mtx_params, config\u001b[39m.\u001b[39;49mtx_latent,\n\u001b[1;32m    209\u001b[0m         config\u001b[39m.\u001b[39;49mnum_its_params, config\u001b[39m.\u001b[39;49mnum_its_latent,\n\u001b[1;32m    210\u001b[0m         lossfn\n\u001b[1;32m    211\u001b[0m     )\n\u001b[1;32m    212\u001b[0m     loss, params_decoder, z_est, opt_states \u001b[39m=\u001b[39m res\n\u001b[1;32m    213\u001b[0m     hist_loss\u001b[39m.\u001b[39mappend(loss)\n",
      "File \u001b[0;32m~/documents/hard-em-lvm/hlax/_src/hard_decoder.py:222\u001b[0m, in \u001b[0;36mtrain_epoch_adam\u001b[0;34m(key, params, z_est, opt_states, observations, batch_size, model, tx_params, tx_latent, n_its_params, n_its_latent, lossfn)\u001b[0m\n\u001b[1;32m    219\u001b[0m \u001b[39m# Decompose batch params for E-step\u001b[39;00m\n\u001b[1;32m    220\u001b[0m opt_states_batch \u001b[39m=\u001b[39m create_batch_adam_params(opt_states, batch_ix)\n\u001b[0;32m--> 222\u001b[0m res \u001b[39m=\u001b[39m train_step(params, z_batch, opt_states_batch,\n\u001b[1;32m    223\u001b[0m                 tx_params\u001b[39m=\u001b[39;49mtx_params, tx_latent\u001b[39m=\u001b[39;49mtx_latent,\n\u001b[1;32m    224\u001b[0m                 n_its_params\u001b[39m=\u001b[39;49mn_its_params, n_its_latent\u001b[39m=\u001b[39;49mn_its_latent,\n\u001b[1;32m    225\u001b[0m                 lossfn\u001b[39m=\u001b[39;49mlossfn, model\u001b[39m=\u001b[39;49mmodel, observations\u001b[39m=\u001b[39;49mbatch)\n\u001b[1;32m    226\u001b[0m nll, params, z_batch, opt_states_batch \u001b[39m=\u001b[39m res\n\u001b[1;32m    227\u001b[0m \u001b[39m# Update minibatch of latent variables\u001b[39;00m\n",
      "    \u001b[0;31m[... skipping hidden 1 frame]\u001b[0m\n",
      "File \u001b[0;32m~/mambaforge/lib/python3.10/site-packages/jax/_src/api.py:528\u001b[0m, in \u001b[0;36m_cpp_jit.<locals>.cache_miss\u001b[0;34m(*args, **kwargs)\u001b[0m\n\u001b[1;32m    526\u001b[0m   in_type \u001b[39m=\u001b[39m pe\u001b[39m.\u001b[39minfer_lambda_input_type(\u001b[39mNone\u001b[39;00m, args_flat)\n\u001b[1;32m    527\u001b[0m   flat_fun \u001b[39m=\u001b[39m lu\u001b[39m.\u001b[39mannotate(flat_fun, in_type)\n\u001b[0;32m--> 528\u001b[0m out_flat \u001b[39m=\u001b[39m xla\u001b[39m.\u001b[39;49mxla_call(\n\u001b[1;32m    529\u001b[0m     flat_fun, \u001b[39m*\u001b[39;49margs_flat,\n\u001b[1;32m    530\u001b[0m     device\u001b[39m=\u001b[39;49mdevice, backend\u001b[39m=\u001b[39;49mbackend, name\u001b[39m=\u001b[39;49mflat_fun\u001b[39m.\u001b[39;49m\u001b[39m__name__\u001b[39;49m,\n\u001b[1;32m    531\u001b[0m     donated_invars\u001b[39m=\u001b[39;49mdonated_invars, inline\u001b[39m=\u001b[39;49minline, keep_unused\u001b[39m=\u001b[39;49mkeep_unused)\n\u001b[1;32m    532\u001b[0m out_pytree_def \u001b[39m=\u001b[39m out_tree()\n\u001b[1;32m    533\u001b[0m out \u001b[39m=\u001b[39m tree_unflatten(out_pytree_def, out_flat)\n",
      "File \u001b[0;32m~/mambaforge/lib/python3.10/site-packages/jax/core.py:1963\u001b[0m, in \u001b[0;36mCallPrimitive.bind\u001b[0;34m(self, fun, *args, **params)\u001b[0m\n\u001b[1;32m   1962\u001b[0m \u001b[39mdef\u001b[39;00m \u001b[39mbind\u001b[39m(\u001b[39mself\u001b[39m, fun, \u001b[39m*\u001b[39margs, \u001b[39m*\u001b[39m\u001b[39m*\u001b[39mparams):\n\u001b[0;32m-> 1963\u001b[0m   \u001b[39mreturn\u001b[39;00m call_bind(\u001b[39mself\u001b[39;49m, fun, \u001b[39m*\u001b[39;49margs, \u001b[39m*\u001b[39;49m\u001b[39m*\u001b[39;49mparams)\n",
      "File \u001b[0;32m~/mambaforge/lib/python3.10/site-packages/jax/core.py:1979\u001b[0m, in \u001b[0;36mcall_bind\u001b[0;34m(primitive, fun, *args, **params)\u001b[0m\n\u001b[1;32m   1977\u001b[0m tracers \u001b[39m=\u001b[39m \u001b[39mmap\u001b[39m(top_trace\u001b[39m.\u001b[39mfull_raise, args)\n\u001b[1;32m   1978\u001b[0m fun_ \u001b[39m=\u001b[39m lu\u001b[39m.\u001b[39mannotate(fun_, fun\u001b[39m.\u001b[39min_type)\n\u001b[0;32m-> 1979\u001b[0m outs \u001b[39m=\u001b[39m top_trace\u001b[39m.\u001b[39;49mprocess_call(primitive, fun_, tracers, params)\n\u001b[1;32m   1980\u001b[0m \u001b[39mreturn\u001b[39;00m \u001b[39mmap\u001b[39m(full_lower, apply_todos(env_trace_todo(), outs))\n",
      "File \u001b[0;32m~/mambaforge/lib/python3.10/site-packages/jax/core.py:689\u001b[0m, in \u001b[0;36mEvalTrace.process_call\u001b[0;34m(self, primitive, f, tracers, params)\u001b[0m\n\u001b[1;32m    688\u001b[0m \u001b[39mdef\u001b[39;00m \u001b[39mprocess_call\u001b[39m(\u001b[39mself\u001b[39m, primitive, f, tracers, params):\n\u001b[0;32m--> 689\u001b[0m   \u001b[39mreturn\u001b[39;00m primitive\u001b[39m.\u001b[39;49mimpl(f, \u001b[39m*\u001b[39;49mtracers, \u001b[39m*\u001b[39;49m\u001b[39m*\u001b[39;49mparams)\n",
      "File \u001b[0;32m~/mambaforge/lib/python3.10/site-packages/jax/_src/dispatch.py:233\u001b[0m, in \u001b[0;36m_xla_call_impl\u001b[0;34m(***failed resolving arguments***)\u001b[0m\n\u001b[1;32m    231\u001b[0m     \u001b[39mraise\u001b[39;00m \u001b[39mNotImplementedError\u001b[39;00m(\u001b[39m'\u001b[39m\u001b[39mDynamic shapes do not work with Array.\u001b[39m\u001b[39m'\u001b[39m)\n\u001b[1;32m    232\u001b[0m   arg_specs \u001b[39m=\u001b[39m [(\u001b[39mNone\u001b[39;00m, \u001b[39mgetattr\u001b[39m(x, \u001b[39m'\u001b[39m\u001b[39m_device\u001b[39m\u001b[39m'\u001b[39m, \u001b[39mNone\u001b[39;00m)) \u001b[39mfor\u001b[39;00m x \u001b[39min\u001b[39;00m args]\n\u001b[0;32m--> 233\u001b[0m compiled_fun \u001b[39m=\u001b[39m xla_callable(fun, device, backend, name, donated_invars,\n\u001b[1;32m    234\u001b[0m                             keep_unused, \u001b[39m*\u001b[39;49marg_specs)\n\u001b[1;32m    235\u001b[0m \u001b[39mtry\u001b[39;00m:\n\u001b[1;32m    236\u001b[0m   \u001b[39mreturn\u001b[39;00m compiled_fun(\u001b[39m*\u001b[39margs)\n",
      "File \u001b[0;32m~/mambaforge/lib/python3.10/site-packages/jax/linear_util.py:295\u001b[0m, in \u001b[0;36mcache.<locals>.memoized_fun\u001b[0;34m(fun, *args)\u001b[0m\n\u001b[1;32m    293\u001b[0m   fun\u001b[39m.\u001b[39mpopulate_stores(stores)\n\u001b[1;32m    294\u001b[0m \u001b[39melse\u001b[39;00m:\n\u001b[0;32m--> 295\u001b[0m   ans \u001b[39m=\u001b[39m call(fun, \u001b[39m*\u001b[39;49margs)\n\u001b[1;32m    296\u001b[0m   cache[key] \u001b[39m=\u001b[39m (ans, fun\u001b[39m.\u001b[39mstores)\n\u001b[1;32m    298\u001b[0m thread_local\u001b[39m.\u001b[39mmost_recent_entry \u001b[39m=\u001b[39m weakref\u001b[39m.\u001b[39mref(ans)\n",
      "File \u001b[0;32m~/mambaforge/lib/python3.10/site-packages/jax/_src/dispatch.py:325\u001b[0m, in \u001b[0;36m_xla_callable_uncached\u001b[0;34m(fun, device, backend, name, donated_invars, keep_unused, *arg_specs)\u001b[0m\n\u001b[1;32m    321\u001b[0m   \u001b[39mreturn\u001b[39;00m sharded_lowering(fun, device, backend, name,\n\u001b[1;32m    322\u001b[0m                           donated_invars, keep_unused, \u001b[39m*\u001b[39marg_specs)\n\u001b[1;32m    323\u001b[0m \u001b[39melse\u001b[39;00m:\n\u001b[1;32m    324\u001b[0m   \u001b[39mreturn\u001b[39;00m lower_xla_callable(fun, device, backend, name, donated_invars, \u001b[39mFalse\u001b[39;49;00m,\n\u001b[0;32m--> 325\u001b[0m                             keep_unused, \u001b[39m*\u001b[39;49marg_specs)\u001b[39m.\u001b[39;49mcompile()\u001b[39m.\u001b[39munsafe_call\n",
      "File \u001b[0;32m~/mambaforge/lib/python3.10/site-packages/jax/_src/dispatch.py:934\u001b[0m, in \u001b[0;36mXlaComputation.compile\u001b[0;34m(self)\u001b[0m\n\u001b[1;32m    931\u001b[0m     \u001b[39mself\u001b[39m\u001b[39m.\u001b[39m_executable \u001b[39m=\u001b[39m XlaCompiledComputation\u001b[39m.\u001b[39mfrom_trivial_jaxpr(\n\u001b[1;32m    932\u001b[0m         \u001b[39m*\u001b[39m\u001b[39m*\u001b[39m\u001b[39mself\u001b[39m\u001b[39m.\u001b[39mcompile_args)\n\u001b[1;32m    933\u001b[0m   \u001b[39melse\u001b[39;00m:\n\u001b[0;32m--> 934\u001b[0m     \u001b[39mself\u001b[39m\u001b[39m.\u001b[39m_executable \u001b[39m=\u001b[39m XlaCompiledComputation\u001b[39m.\u001b[39;49mfrom_xla_computation(\n\u001b[1;32m    935\u001b[0m         \u001b[39mself\u001b[39;49m\u001b[39m.\u001b[39;49mname, \u001b[39mself\u001b[39;49m\u001b[39m.\u001b[39;49m_hlo, \u001b[39mself\u001b[39;49m\u001b[39m.\u001b[39;49m_in_type, \u001b[39mself\u001b[39;49m\u001b[39m.\u001b[39;49m_out_type,\n\u001b[1;32m    936\u001b[0m         \u001b[39m*\u001b[39;49m\u001b[39m*\u001b[39;49m\u001b[39mself\u001b[39;49m\u001b[39m.\u001b[39;49mcompile_args)\n\u001b[1;32m    938\u001b[0m \u001b[39mreturn\u001b[39;00m \u001b[39mself\u001b[39m\u001b[39m.\u001b[39m_executable\n",
      "File \u001b[0;32m~/mambaforge/lib/python3.10/site-packages/jax/_src/dispatch.py:1052\u001b[0m, in \u001b[0;36mXlaCompiledComputation.from_xla_computation\u001b[0;34m(name, xla_computation, in_type, out_type, nreps, device, backend, tuple_args, in_avals, out_avals, has_unordered_effects, ordered_effects, kept_var_idx, keepalive, host_callbacks)\u001b[0m\n\u001b[1;32m   1049\u001b[0m options\u001b[39m.\u001b[39mparameter_is_tupled_arguments \u001b[39m=\u001b[39m tuple_args\n\u001b[1;32m   1050\u001b[0m \u001b[39mwith\u001b[39;00m log_elapsed_time(\u001b[39mf\u001b[39m\u001b[39m\"\u001b[39m\u001b[39mFinished XLA compilation of \u001b[39m\u001b[39m{\u001b[39;00mname\u001b[39m}\u001b[39;00m\u001b[39m \u001b[39m\u001b[39m\"\u001b[39m\n\u001b[1;32m   1051\u001b[0m                       \u001b[39m\"\u001b[39m\u001b[39min \u001b[39m\u001b[39m{elapsed_time}\u001b[39;00m\u001b[39m sec\u001b[39m\u001b[39m\"\u001b[39m):\n\u001b[0;32m-> 1052\u001b[0m   compiled \u001b[39m=\u001b[39m compile_or_get_cached(backend, xla_computation, options,\n\u001b[1;32m   1053\u001b[0m                                    host_callbacks)\n\u001b[1;32m   1054\u001b[0m buffer_counts \u001b[39m=\u001b[39m get_buffer_counts(out_avals, ordered_effects,\n\u001b[1;32m   1055\u001b[0m                                   has_unordered_effects)\n\u001b[1;32m   1056\u001b[0m execute \u001b[39m=\u001b[39m _execute_compiled \u001b[39mif\u001b[39;00m nreps \u001b[39m==\u001b[39m \u001b[39m1\u001b[39m \u001b[39melse\u001b[39;00m _execute_replicated\n",
      "File \u001b[0;32m~/mambaforge/lib/python3.10/site-packages/jax/_src/dispatch.py:1006\u001b[0m, in \u001b[0;36mcompile_or_get_cached\u001b[0;34m(backend, computation, compile_options, host_callbacks)\u001b[0m\n\u001b[1;32m   1004\u001b[0m     ir_str \u001b[39m=\u001b[39m computation\n\u001b[1;32m   1005\u001b[0m   _dump_ir_to_file(module_name, ir_str)\n\u001b[0;32m-> 1006\u001b[0m \u001b[39mreturn\u001b[39;00m backend_compile(backend, computation, compile_options, host_callbacks)\n",
      "File \u001b[0;32m~/mambaforge/lib/python3.10/site-packages/jax/_src/profiler.py:313\u001b[0m, in \u001b[0;36mannotate_function.<locals>.wrapper\u001b[0;34m(*args, **kwargs)\u001b[0m\n\u001b[1;32m    310\u001b[0m \u001b[39m@wraps\u001b[39m(func)\n\u001b[1;32m    311\u001b[0m \u001b[39mdef\u001b[39;00m \u001b[39mwrapper\u001b[39m(\u001b[39m*\u001b[39margs, \u001b[39m*\u001b[39m\u001b[39m*\u001b[39mkwargs):\n\u001b[1;32m    312\u001b[0m   \u001b[39mwith\u001b[39;00m TraceAnnotation(name, \u001b[39m*\u001b[39m\u001b[39m*\u001b[39mdecorator_kwargs):\n\u001b[0;32m--> 313\u001b[0m     \u001b[39mreturn\u001b[39;00m func(\u001b[39m*\u001b[39;49margs, \u001b[39m*\u001b[39;49m\u001b[39m*\u001b[39;49mkwargs)\n\u001b[1;32m    314\u001b[0m   \u001b[39mreturn\u001b[39;00m wrapper\n",
      "File \u001b[0;32m~/mambaforge/lib/python3.10/site-packages/jax/_src/dispatch.py:950\u001b[0m, in \u001b[0;36mbackend_compile\u001b[0;34m(backend, built_c, options, host_callbacks)\u001b[0m\n\u001b[1;32m    945\u001b[0m   \u001b[39mreturn\u001b[39;00m backend\u001b[39m.\u001b[39mcompile(built_c, compile_options\u001b[39m=\u001b[39moptions,\n\u001b[1;32m    946\u001b[0m                          host_callbacks\u001b[39m=\u001b[39mhost_callbacks)\n\u001b[1;32m    947\u001b[0m \u001b[39m# Some backends don't have `host_callbacks` option yet\u001b[39;00m\n\u001b[1;32m    948\u001b[0m \u001b[39m# TODO(sharadmv): remove this fallback when all backends allow `compile`\u001b[39;00m\n\u001b[1;32m    949\u001b[0m \u001b[39m# to take in `host_callbacks`\u001b[39;00m\n\u001b[0;32m--> 950\u001b[0m \u001b[39mreturn\u001b[39;00m backend\u001b[39m.\u001b[39;49mcompile(built_c, compile_options\u001b[39m=\u001b[39;49moptions)\n",
      "\u001b[0;31mKeyboardInterrupt\u001b[0m: "
     ]
    }
   ],
   "source": [
    "%%time\n",
    "df_configs = []\n",
    "    \n",
    "for vlatent, vparam in product(vals_latent, vals_params):\n",
    "    print(f\"Evaluating {vlatent=} | {vparam=}\")\n",
    "\n",
    "    config_mod[\"warmup\"][\"hard_em\"][\"num_its_latent\"] = vlatent\n",
    "    config_mod[\"warmup\"][\"hard_em\"][\"num_its_params\"] = vparam\n",
    "    \n",
    "    output = base_vae_hardem.main(\n",
    "        key,\n",
    "        X_warmup,\n",
    "        X_test,\n",
    "        config,\n",
    "        model_vae,\n",
    "        model_decoder,\n",
    "        model_encoder_test,\n",
    "        lossfn_vae,\n",
    "        lossfn_hardem,\n",
    "        grad_neg_iwmll_encoder,\n",
    "        vmap_neg_iwmll,\n",
    "    )\n",
    "    \n",
    "    df_all = build_iwmll_df(output)\n",
    "    df_all[\"it_params\"] = vparam\n",
    "    df_all[\"it_latent\"] = vlatent\n",
    "    \n",
    "    df_configs.append(df_all)"
   ]
  },
  {
   "cell_type": "code",
   "execution_count": 29,
   "id": "301da96f-7341-4e59-b0f4-2ac351eaae6a",
   "metadata": {},
   "outputs": [],
   "source": [
    "df_configsc = pd.concat(df_configs, axis=0)\n",
    "\n",
    "df_configsc = pd.concat([\n",
    "    df_configsc.query(\"variable != 'vae'\"),\n",
    "    df_configsc.query(\"(variable == 'vae') & (it_params == 1) & (it_latent == 5)\"),\n",
    "], axis=0)\n",
    "\n",
    "\n",
    "df_configsc = df_configsc.assign(variable=df_configsc[\"variable\"] + df_configsc[\"it_params\"].astype(str))"
   ]
  },
  {
   "cell_type": "code",
   "execution_count": 30,
   "id": "8483301f-59c7-445b-9d58-c10595b21012",
   "metadata": {},
   "outputs": [
    {
     "data": {
      "text/html": [
       "<div>\n",
       "<style scoped>\n",
       "    .dataframe tbody tr th:only-of-type {\n",
       "        vertical-align: middle;\n",
       "    }\n",
       "\n",
       "    .dataframe tbody tr th {\n",
       "        vertical-align: top;\n",
       "    }\n",
       "\n",
       "    .dataframe thead th {\n",
       "        text-align: right;\n",
       "    }\n",
       "</style>\n",
       "<table border=\"1\" class=\"dataframe\">\n",
       "  <thead>\n",
       "    <tr style=\"text-align: right;\">\n",
       "      <th>it_latent</th>\n",
       "      <th>1</th>\n",
       "    </tr>\n",
       "    <tr>\n",
       "      <th>it_params</th>\n",
       "      <th></th>\n",
       "    </tr>\n",
       "  </thead>\n",
       "  <tbody>\n",
       "    <tr>\n",
       "      <th>1</th>\n",
       "      <td>1009.742249</td>\n",
       "    </tr>\n",
       "    <tr>\n",
       "      <th>2</th>\n",
       "      <td>5605.600098</td>\n",
       "    </tr>\n",
       "    <tr>\n",
       "      <th>3</th>\n",
       "      <td>15401.106445</td>\n",
       "    </tr>\n",
       "    <tr>\n",
       "      <th>5</th>\n",
       "      <td>61094.355469</td>\n",
       "    </tr>\n",
       "    <tr>\n",
       "      <th>10</th>\n",
       "      <td>461770.937500</td>\n",
       "    </tr>\n",
       "  </tbody>\n",
       "</table>\n",
       "</div>"
      ],
      "text/plain": [
       "it_latent              1\n",
       "it_params               \n",
       "1            1009.742249\n",
       "2            5605.600098\n",
       "3           15401.106445\n",
       "5           61094.355469\n",
       "10         461770.937500"
      ]
     },
     "execution_count": 30,
     "metadata": {},
     "output_type": "execute_result"
    }
   ],
   "source": [
    "df_configsc.query(\"variable != 'vae'\").pivot_table(index=\"it_params\", columns=\"it_latent\", values=\"mll\")"
   ]
  },
  {
   "cell_type": "code",
   "execution_count": 33,
   "id": "dec57438",
   "metadata": {},
   "outputs": [
    {
     "data": {
      "text/html": [
       "<div>\n",
       "<style scoped>\n",
       "    .dataframe tbody tr th:only-of-type {\n",
       "        vertical-align: middle;\n",
       "    }\n",
       "\n",
       "    .dataframe tbody tr th {\n",
       "        vertical-align: top;\n",
       "    }\n",
       "\n",
       "    .dataframe thead th {\n",
       "        text-align: right;\n",
       "    }\n",
       "</style>\n",
       "<table border=\"1\" class=\"dataframe\">\n",
       "  <thead>\n",
       "    <tr style=\"text-align: right;\">\n",
       "      <th></th>\n",
       "      <th>variable</th>\n",
       "      <th>mll</th>\n",
       "      <th>episode</th>\n",
       "      <th>it_params</th>\n",
       "      <th>it_latent</th>\n",
       "    </tr>\n",
       "  </thead>\n",
       "  <tbody>\n",
       "    <tr>\n",
       "      <th>0</th>\n",
       "      <td>hard-em1</td>\n",
       "      <td>-5.439415e+02</td>\n",
       "      <td>100</td>\n",
       "      <td>1</td>\n",
       "      <td>1</td>\n",
       "    </tr>\n",
       "    <tr>\n",
       "      <th>1</th>\n",
       "      <td>hard-em1</td>\n",
       "      <td>-5.543659e+02</td>\n",
       "      <td>100</td>\n",
       "      <td>1</td>\n",
       "      <td>1</td>\n",
       "    </tr>\n",
       "    <tr>\n",
       "      <th>2</th>\n",
       "      <td>hard-em1</td>\n",
       "      <td>-5.551937e+02</td>\n",
       "      <td>100</td>\n",
       "      <td>1</td>\n",
       "      <td>1</td>\n",
       "    </tr>\n",
       "    <tr>\n",
       "      <th>3</th>\n",
       "      <td>hard-em1</td>\n",
       "      <td>-5.357320e+02</td>\n",
       "      <td>100</td>\n",
       "      <td>1</td>\n",
       "      <td>1</td>\n",
       "    </tr>\n",
       "    <tr>\n",
       "      <th>4</th>\n",
       "      <td>hard-em1</td>\n",
       "      <td>-5.502012e+02</td>\n",
       "      <td>100</td>\n",
       "      <td>1</td>\n",
       "      <td>1</td>\n",
       "    </tr>\n",
       "    <tr>\n",
       "      <th>...</th>\n",
       "      <td>...</td>\n",
       "      <td>...</td>\n",
       "      <td>...</td>\n",
       "      <td>...</td>\n",
       "      <td>...</td>\n",
       "    </tr>\n",
       "    <tr>\n",
       "      <th>995</th>\n",
       "      <td>hard-em10</td>\n",
       "      <td>1.736752e+06</td>\n",
       "      <td>3000</td>\n",
       "      <td>10</td>\n",
       "      <td>1</td>\n",
       "    </tr>\n",
       "    <tr>\n",
       "      <th>996</th>\n",
       "      <td>hard-em10</td>\n",
       "      <td>1.925354e+06</td>\n",
       "      <td>3000</td>\n",
       "      <td>10</td>\n",
       "      <td>1</td>\n",
       "    </tr>\n",
       "    <tr>\n",
       "      <th>997</th>\n",
       "      <td>hard-em10</td>\n",
       "      <td>2.131264e+06</td>\n",
       "      <td>3000</td>\n",
       "      <td>10</td>\n",
       "      <td>1</td>\n",
       "    </tr>\n",
       "    <tr>\n",
       "      <th>998</th>\n",
       "      <td>hard-em10</td>\n",
       "      <td>2.223578e+06</td>\n",
       "      <td>3000</td>\n",
       "      <td>10</td>\n",
       "      <td>1</td>\n",
       "    </tr>\n",
       "    <tr>\n",
       "      <th>999</th>\n",
       "      <td>hard-em10</td>\n",
       "      <td>2.778473e+06</td>\n",
       "      <td>3000</td>\n",
       "      <td>10</td>\n",
       "      <td>1</td>\n",
       "    </tr>\n",
       "  </tbody>\n",
       "</table>\n",
       "<p>50000 rows × 5 columns</p>\n",
       "</div>"
      ],
      "text/plain": [
       "      variable           mll  episode  it_params  it_latent\n",
       "0     hard-em1 -5.439415e+02      100          1          1\n",
       "1     hard-em1 -5.543659e+02      100          1          1\n",
       "2     hard-em1 -5.551937e+02      100          1          1\n",
       "3     hard-em1 -5.357320e+02      100          1          1\n",
       "4     hard-em1 -5.502012e+02      100          1          1\n",
       "..         ...           ...      ...        ...        ...\n",
       "995  hard-em10  1.736752e+06     3000         10          1\n",
       "996  hard-em10  1.925354e+06     3000         10          1\n",
       "997  hard-em10  2.131264e+06     3000         10          1\n",
       "998  hard-em10  2.223578e+06     3000         10          1\n",
       "999  hard-em10  2.778473e+06     3000         10          1\n",
       "\n",
       "[50000 rows x 5 columns]"
      ]
     },
     "execution_count": 33,
     "metadata": {},
     "output_type": "execute_result"
    }
   ],
   "source": [
    "df_configsc.query(\"it_latent == 1 & episode >= 100\")"
   ]
  },
  {
   "cell_type": "code",
   "execution_count": 34,
   "id": "7e2aa3cb-7adf-4f4e-9c67-02a709f28103",
   "metadata": {},
   "outputs": [
    {
     "data": {
      "image/png": "[encoded data removed]",
      "text/plain": [
       "<Figure size 1300x400 with 1 Axes>"
      ]
     },
     "metadata": {
      "image/png": {
       "height": 392,
       "width": 1078
      }
     },
     "output_type": "display_data"
    }
   ],
   "source": [
    "fig, ax = plt.subplots(figsize=(13, 4))\n",
    "sns.violinplot(\n",
    "    x=\"episode\", y=\"mll\", hue=\"variable\", \n",
    "    data=df_configsc.query(\"it_latent == 1 & episode >= 100\"),\n",
    ")\n",
    "plt.title(\"Variable number of M-step iterations\");"
   ]
  },
  {
   "cell_type": "code",
   "execution_count": null,
   "id": "a9c6e72d-ec56-4902-be4f-36514494ba04",
   "metadata": {},
   "outputs": [],
   "source": [
    "output = base_vae_hardem.main(config_mod, dict_models)\n",
    "\n",
    "fig, ax = plt.subplots( figsize=(6.4, 3) )\n",
    "plt.plot(output[\"warmup\"][\"vae\"][\"hist_loss\"], label=\"VAE\")\n",
    "plt.plot(output[\"warmup\"][\"hardem\"][\"hist_loss\"], label=\"Hard EM\")\n",
    "plt.legend()\n",
    "ax.grid(alpha=0.5)"
   ]
  },
  {
   "cell_type": "markdown",
   "id": "2619a185-8299-4a66-953c-235ecaa45fa2",
   "metadata": {},
   "source": [
    "### IWMLL"
   ]
  }
 ],
 "metadata": {
  "kernelspec": {
   "display_name": "Python 3 (ipykernel)",
   "language": "python",
   "name": "python3"
  },
  "language_info": {
   "codemirror_mode": {
    "name": "ipython",
    "version": 3
   },
   "file_extension": ".py",
   "mimetype": "text/x-python",
   "name": "python",
   "nbconvert_exporter": "python",
   "pygments_lexer": "ipython3",
   "version": "3.10.6"
  },
  "vscode": {
   "interpreter": {
    "hash": "657549483b8774e614e7931528b645fb46ce0fff716b4ff4d37fa8387be17318"
   }
  }
 },
 "nbformat": 4,
 "nbformat_minor": 5
}
