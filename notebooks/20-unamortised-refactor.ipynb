{
 "cells": [
  {
   "cell_type": "markdown",
   "id": "f518129d-2a96-4bb9-bda4-4dd622944159",
   "metadata": {},
   "source": [
    "# Phase 1, Phase 2 tests"
   ]
  },
  {
   "cell_type": "code",
   "execution_count": 2,
   "id": "ccc0286a-ec88-4887-9755-a6dba56305db",
   "metadata": {},
   "outputs": [],
   "source": [
    "%load_ext autoreload\n",
    "%autoreload 2"
   ]
  },
  {
   "cell_type": "code",
   "execution_count": 3,
   "id": "b2d631bc-74b3-4a7c-852d-8d61a54c95fb",
   "metadata": {},
   "outputs": [],
   "source": [
    "import sys\n",
    "sys.path.append(\"../experiments/\")\n",
    "import base_vae_hardem"
   ]
  },
  {
   "cell_type": "code",
   "execution_count": 4,
   "id": "e9eb5047-dc4e-4a9f-a4cf-4617f988e79c",
   "metadata": {},
   "outputs": [],
   "source": [
    "import os\n",
    "\n",
    "os.environ[\"TPU_CHIPS_PER_HOST_BOUNDS\"] = \"1,1,1\"\n",
    "os.environ[\"TPU_HOST_BOUNDS\"] = \"1,1,1\"\n",
    "os.environ[\"TPU_VISIBLE_DEVICES\"] = \"0\""
   ]
  },
  {
   "cell_type": "code",
   "execution_count": 5,
   "id": "a810c9ed-53cd-4d2c-bf34-37f1f0978b4d",
   "metadata": {},
   "outputs": [],
   "source": [
    "import jax\n",
    "import hlax\n",
    "import tomli\n",
    "import optax\n",
    "import distrax\n",
    "import pandas as pd\n",
    "import seaborn as sns\n",
    "import jax.numpy as jnp\n",
    "import flax.linen as nn\n",
    "import matplotlib.pyplot as plt\n",
    "from tqdm.notebook import tqdm\n",
    "from functools import partial\n",
    "from itertools import product\n",
    "from flax.core import freeze, unfreeze\n",
    "from flax.training.train_state import TrainState"
   ]
  },
  {
   "cell_type": "code",
   "execution_count": 6,
   "id": "2ba39221-fb52-4a3e-86d6-6d3b88e0834e",
   "metadata": {},
   "outputs": [],
   "source": [
    "%config InlineBackend.figure_format = \"retina\""
   ]
  },
  {
   "cell_type": "code",
   "execution_count": 7,
   "id": "b7ce2e98-70d2-4e78-b3c9-76780476ad22",
   "metadata": {},
   "outputs": [],
   "source": [
    "def build_mll_summary(res, procedure):\n",
    "    df_mll = pd.DataFrame(res[\"test\"][\"hist_loss\"]).melt(var_name=\"episode\", value_name=\"mll\")\n",
    "    df_mll[\"procedure\"] = procedure\n",
    "\n",
    "    df_times = pd.DataFrame.from_dict({\"times\": res[\"train\"][\"times\"]}, orient=\"index\").T\n",
    "    df_mll = pd.merge(df_mll, df_times, left_on=\"episode\", right_index=True)\n",
    "    return df_mll"
   ]
  },
  {
   "cell_type": "markdown",
   "id": "77acf9a7-86c4-49a1-80dc-0a36bb1c2114",
   "metadata": {},
   "source": [
    "## Models"
   ]
  },
  {
   "cell_type": "code",
   "execution_count": 8,
   "id": "f196554d-57ef-43b7-b826-983f3240483e",
   "metadata": {},
   "outputs": [],
   "source": [
    "from typing import Callable\n",
    "\n",
    "class Decoder(nn.Module):\n",
    "    \"\"\"\n",
    "    For the generative model\n",
    "    p(x,z) = p(x|z) * p(z)\n",
    "    \"\"\"\n",
    "    dim_full: int\n",
    "    dim_latent: int = 20\n",
    "    \n",
    "    def setup(self):\n",
    "        self.logit = nn.Dense(self.dim_full, use_bias=False, name=\"mean\")\n",
    "    \n",
    "    @nn.compact\n",
    "    def __call__(self, z):\n",
    "        x = nn.Dense(100)(z)\n",
    "        x = nn.elu(x)\n",
    "        x = nn.Dense(100)(x)\n",
    "        x = nn.elu(x)\n",
    "        x = nn.Dense(100)(x)\n",
    "        x = nn.elu(x)\n",
    "        logit_x = self.logit(x)\n",
    "        return logit_x\n",
    "\n",
    "\n",
    "class Encoder(nn.Module):\n",
    "    \"\"\"\n",
    "    two-layered encoder\n",
    "    \"\"\"\n",
    "    dim_latent: int\n",
    "    n_hidden: int = 100\n",
    "    normal_init: Callable = nn.initializers.normal()\n",
    "    \n",
    "    def setup(self):\n",
    "        ...\n",
    "        # self.logvar_diag = self.param(\"logvar_diag\", self.normal_init, (self.dim_latent,))\n",
    "    \n",
    "    @nn.compact\n",
    "    def __call__(self, x):\n",
    "        z = nn.Dense(self.n_hidden)(x)\n",
    "        z = nn.elu(z)\n",
    "        z = nn.Dense(self.n_hidden)(z)\n",
    "        z = nn.elu(z)\n",
    "        mean_z = nn.Dense(self.dim_latent)(z)\n",
    "        logvar_z = nn.Dense(self.dim_latent, use_bias=True)(z)\n",
    "        # logvar_z = self.logvar_diag\n",
    "        return mean_z, logvar_z\n",
    "    \n",
    "    \n",
    "class GaussEncoder(nn.Module):\n",
    "    dim_latent: int\n",
    "    normal_init: Callable = nn.initializers.normal()\n",
    "\n",
    "    def setup(self):\n",
    "        self.mu = self.param(\"mu\", self.normal_init, (self.dim_latent,))\n",
    "        # self.mu = nn.Dense(self.dim_latent)\n",
    "        self.logvar_diag = self.param(\"logvar_diag\", self.normal_init, (self.dim_latent,))\n",
    "\n",
    "    def __call__(self, x):\n",
    "        \"\"\"\n",
    "        Input x (_) is a dummy variable\n",
    "        \"\"\"\n",
    "        z = self.mu\n",
    "        # z = self.mu(x)\n",
    "        return z, self.logvar_diag\n",
    "\n",
    "    \n",
    "class UnamortisedVAEBernDelta(nn.Module):\n",
    "    \"\"\"\n",
    "    Base class for an unamortised variational autoencoder\n",
    "    with Bernoulli decoder p(x|z) = Bern(x| f(z))\n",
    "    and Dirac-delta encoder q(z|x) = delta(z = z^)\n",
    "    \"\"\"\n",
    "    latent_dim: int\n",
    "    obs_dim: int\n",
    "    Encoder: nn.Module\n",
    "    Decoder: nn.Module\n",
    "\n",
    "    def setup(self):\n",
    "        self.encoder = nn.vmap(\n",
    "            self.Encoder,\n",
    "            variable_axes={\"params\": 0},\n",
    "            split_rngs={\"params\": True},\n",
    "            in_axes=0,\n",
    "        )(self.latent_dim)\n",
    "        self.decoder = self.Decoder(self.obs_dim, self.latent_dim)\n",
    "\n",
    "    def __call__(self, x, key_eps, num_samples=1):\n",
    "        z = self.encoder(x)\n",
    "        logit_mean_x = self.decoder(z)\n",
    "        return z, logit_mean_x\n",
    "\n",
    "\n",
    "class DeltaEncoder(nn.Module):\n",
    "    dim_latent: int\n",
    "    normal_init: Callable = nn.initializers.normal()\n",
    "\n",
    "    def setup(self):\n",
    "        self.z = self.param(\"z\", self.normal_init, (self.dim_latent,))\n",
    "\n",
    "    def __call__(self, _):\n",
    "        \"\"\"\n",
    "        Input x (_) is a dummy variable\n",
    "        \"\"\"\n",
    "        return self.z"
   ]
  },
  {
   "cell_type": "markdown",
   "id": "cad12d52-946b-447b-ab61-a236d7ea1526",
   "metadata": {},
   "source": [
    "## Setup"
   ]
  },
  {
   "cell_type": "code",
   "execution_count": 9,
   "id": "c1fc5b35-cec2-4607-8aa3-e89ded2f643d",
   "metadata": {},
   "outputs": [],
   "source": [
    "batch_size = 200\n",
    "key = jax.random.PRNGKey(314)\n",
    "warmup, test = hlax.datasets.load_fashion_mnist(n_train=30_000, n_test=5_000, normalize=False)\n",
    "X_warmup = warmup[0].round()\n",
    "X_test = test[0].round()"
   ]
  },
  {
   "cell_type": "code",
   "execution_count": 10,
   "id": "b4e8f188-fd0e-4a72-a39e-ce5a747ebba1",
   "metadata": {},
   "outputs": [],
   "source": [
    "dim_latent = 50\n",
    "num_obs, *dim_obs = X_warmup.shape"
   ]
  },
  {
   "cell_type": "code",
   "execution_count": 11,
   "id": "cad689e6-e9a4-427c-94e7-32759ba529f3",
   "metadata": {},
   "outputs": [
    {
     "name": "stdout",
     "output_type": "stream",
     "text": [
      "# TOML file for a fashion mnist dataset\n",
      "[setup]\n",
      "dim_latent = 50\n",
      "\n",
      "[train]\n",
      "    num_obs = 10_000\n",
      "    num_epochs = 3000\n",
      "    batch_size = 200\n",
      "    eval_epochs = [2, 10, 100, 250, 500, 1000, 1100, 1200, 1300, 1400, 1500, 1600, 1700, 1800, 1900, 2000, 2500, 3000]\n",
      "    learning_rate = 1e-6 # For VAE and HardEM\n",
      "\n",
      "    [train.vae]\n",
      "        num_is_samples = 10\n",
      "    [train.hard_em]\n",
      "        num_its_latent = 10 # E-step\n",
      "        num_its_params = 5 # M-step\n",
      "\n",
      "[test]\n",
      "    batch_size = 100\n",
      "    num_obs = 1000\n",
      "    num_epochs = 500\n",
      "    learning_rate = 1e-6\n",
      "    num_is_samples = 10\n",
      "    num_e_steps = 5\n",
      "    num_m_steps = 0\n"
     ]
    }
   ],
   "source": [
    "path_config = \"../experiments/configs/fmnist-conv01.toml\"\n",
    "with open(path_config, \"rb\") as f:\n",
    "    config_str = f.read().decode(\"utf-8\")\n",
    "    config = tomli.loads(config_str)\n",
    "\n",
    "print(config_str)"
   ]
  },
  {
   "cell_type": "code",
   "execution_count": 12,
   "id": "fca8453f-8c5c-4655-a40b-fb101ae9ffbb",
   "metadata": {},
   "outputs": [],
   "source": [
    "num_epochs = 30\n",
    "step = 50\n",
    "\n",
    "\n",
    "config[\"train\"][\"learning_rate\"] = 1e-4\n",
    "config[\"train\"][\"hard_em\"][\"num_its_latent\"] = 1\n",
    "config[\"train\"][\"hard_em\"][\"num_its_params\"] = 1\n",
    "config[\"train\"][\"num_epochs\"] = num_epochs\n",
    "config[\"train\"][\"vae\"][\"num_is_samples\"] = 5\n",
    "# config[\"train\"][\"eval_epochs\"] = [1] + list(range(0, num_epochs + step, step))[1:]\n",
    "config[\"train\"][\"eval_epochs\"] = [num_epochs]\n",
    "\n",
    "\n",
    "config[\"test\"][\"learning_rate\"] = 1e-3\n",
    "config[\"test\"][\"num_epochs\"] = 10\n",
    "config[\"test\"][\"num_e_steps\"] = 5\n",
    "config[\"test\"][\"num_m_steps\"] = 0\n",
    "config[\"test\"][\"num_is_samples\"] = 1\n",
    "\n",
    "model_decoder = Decoder(28 ** 2, dim_latent)\n",
    "\n",
    "# model_test = UnamortisedVAEBernDelta(dim_latent, dim_obs[0], DeltaEncoder, Decoder)\n",
    "# config_test = hlax.unamortised.load_config(config, model_test)\n",
    "\n",
    "# model_test = hlax.models.UnamortisedVAEBern(dim_latent, dim_obs[0], GaussEncoder, Decoder)\n",
    "# config_test = hlax.unamortised.load_test_config(config, model_test)"
   ]
  },
  {
   "cell_type": "markdown",
   "id": "68ea9f0a-c63b-4021-85e0-73dbae9263d7",
   "metadata": {},
   "source": [
    "## Benchmark models"
   ]
  },
  {
   "cell_type": "code",
   "execution_count": 13,
   "id": "373b05f5-571b-4f7c-bcd1-20a0366b7aa6",
   "metadata": {},
   "outputs": [],
   "source": [
    "def elbo_bern(key, params, apply_fn, X_batch):\n",
    "    \"\"\"\n",
    "    Importance-weighted marginal log-likelihood for\n",
    "    a Bernoulli decoder and Gaussian encoder\n",
    "    \"\"\"\n",
    "    batch_size = len(X_batch)\n",
    "\n",
    "    encode_decode = apply_fn(params, X_batch, key)\n",
    "    z, (mean_z, logvar_z), logit_mean_x = encode_decode\n",
    "    _, num_is_samples, dim_latent = z.shape\n",
    "\n",
    "    std_z = jnp.exp(logvar_z / 2)\n",
    "    var_z = jnp.exp(logvar_z)\n",
    "    \n",
    "    dist_prior = distrax.MultivariateNormalDiag(jnp.zeros(dim_latent),\n",
    "                                                jnp.ones(dim_latent))\n",
    "    dist_decoder = distrax.Bernoulli(logits=logit_mean_x)\n",
    "    dist_posterior = distrax.Normal(mean_z[None, ...], std_z[None, ...])\n",
    "\n",
    "    log_prob_z_prior = dist_prior.log_prob(z)\n",
    "    log_prob_x = dist_decoder.log_prob(X_batch).sum(axis=-1)\n",
    "    log_prob_z_post = dist_posterior.log_prob(z).sum(axis=-1)\n",
    "    \n",
    "    loss = (1 + logvar_z - mean_z ** 2 - var_z).sum(axis=-1) / 2 + log_prob_x.mean(axis=0)\n",
    "    return -loss.mean()\n",
    "\n",
    "\n",
    "\n",
    "def iwae_bern_delta(key, params, apply_fn, X_batch):\n",
    "    encode_decode = apply_fn(params, X_batch, key)\n",
    "    z_batch, logit_mean_x = encode_decode\n",
    "    _, dim_latent = z_batch.shape\n",
    "    \n",
    "    dist_prior = distrax.MultivariateNormalDiag(jnp.zeros(dim_latent), jnp.ones(dim_latent))\n",
    "    dist_decoder = distrax.Bernoulli(logits=logit_mean_x)\n",
    "    \n",
    "    log_prob_z_prior = dist_prior.log_prob(z_batch)\n",
    "    log_prob_x = dist_decoder.log_prob(X_batch).sum(axis=-1)\n",
    "\n",
    "    log_prob = log_prob_z_prior + log_prob_x\n",
    "\n",
    "    return -log_prob.mean()"
   ]
  },
  {
   "cell_type": "markdown",
   "id": "60159a45-11e0-4ea4-9993-782c56bcb5b0",
   "metadata": {},
   "source": [
    "## Initialisiation"
   ]
  },
  {
   "cell_type": "code",
   "execution_count": 14,
   "id": "20504dd9-edf2-4c75-a4f9-57b2e2100ffb",
   "metadata": {},
   "outputs": [],
   "source": [
    "key_train, key_test = jax.random.split(key, 2)\n",
    "key_init_test, key_it_test = jax.random.split(key_test, 2)"
   ]
  },
  {
   "cell_type": "markdown",
   "id": "fb5d93aa-e3d7-4d51-bfbd-b027bd4f7bc9",
   "metadata": {},
   "source": [
    "## Hard-EM"
   ]
  },
  {
   "cell_type": "code",
   "execution_count": 146,
   "id": "fa127fbf-c79a-405c-85ac-82d3b6c1a29f",
   "metadata": {},
   "outputs": [],
   "source": [
    "config = hlax.unamortised.CheckpointsConfig(\n",
    "    num_epochs=20,\n",
    "    batch_size=200,\n",
    "    num_e_steps=10,\n",
    "    eval_epochs=[],\n",
    ")"
   ]
  },
  {
   "cell_type": "code",
   "execution_count": 147,
   "id": "0776135b-8a13-4071-a8a4-12b813e24821",
   "metadata": {},
   "outputs": [
    {
     "data": {
      "application/vnd.jupyter.widget-view+json": {
       "model_id": "c8e41aac880847a1a6216cae388c2e2f",
       "version_major": 2,
       "version_minor": 0
      },
      "text/plain": [
       "  0%|          | 0/20 [00:00<?, ?it/s]"
      ]
     },
     "metadata": {},
     "output_type": "display_data"
    },
    {
     "name": "stdout",
     "output_type": "stream",
     "text": [
      "CPU times: user 7.42 s, sys: 1.48 s, total: 8.9 s\n",
      "Wall time: 6.74 s\n"
     ]
    }
   ],
   "source": [
    "%%time\n",
    "model = UnamortisedVAEBernDelta(dim_latent, dim_obs[0], DeltaEncoder, Decoder)\n",
    "tx_encoder = optax.adam(1e-3)\n",
    "tx_decoder = optax.adam(1e-2)\n",
    "\n",
    "output_train = hlax.unamortised.train_checkpoints(\n",
    "    key_train, model, config, X_warmup, iwae_bern_delta, tx_encoder, tx_decoder\n",
    ")\n",
    "# checkpoint_params = output_train[\"checkpoint_params\"]\n",
    "state_encoder, state_decoder = output_train[\"state_final\"]"
   ]
  },
  {
   "cell_type": "raw",
   "id": "3d4c8693-9bf0-4c4e-8d6f-fea860165fc5",
   "metadata": {},
   "source": [
    "%lprun -u 1 -f hlax.unamortised.train_epoch hlax.unamortised.train_checkpoints(key_train, model, config, X_warmup, iwae_bern_delta, tx_encoder, tx_decoder)"
   ]
  },
  {
   "cell_type": "code",
   "execution_count": 148,
   "id": "3cd380f7-648b-4db8-81f1-5c8378643df0",
   "metadata": {},
   "outputs": [
    {
     "data": {
      "application/vnd.jupyter.widget-view+json": {
       "model_id": "0466707242124d84bbac382d3c70e743",
       "version_major": 2,
       "version_minor": 0
      },
      "text/plain": [
       "  0%|          | 0/200 [00:00<?, ?it/s]"
      ]
     },
     "metadata": {},
     "output_type": "display_data"
    }
   ],
   "source": [
    "params_decoder = state_decoder.params\n",
    "params_test = model_test.init(key_init_test, X_test[:2], key_init_test)\n",
    "params_test = unfreeze(params_test)\n",
    "params_test[\"params\"][\"decoder\"] = params_decoder\n",
    "params_test = freeze(params_test)\n",
    "\n",
    "tx = optax.adam(1e-4)\n",
    "state = TrainState.create(\n",
    "    apply_fn=model_test.apply,\n",
    "    params=params_test,\n",
    "    tx=tx\n",
    ")\n",
    "\n",
    "config_test = hlax.amortised.Config(\n",
    "    num_epochs=200,\n",
    "    batch_size=200\n",
    ")\n",
    "\n",
    "state_hem, hist_loss_hem = hlax.amortised.train_encoder(key_it_test, config_test, X_test, state, elbo_bern)"
   ]
  },
  {
   "cell_type": "code",
   "execution_count": 149,
   "id": "ea847557-eddc-4ecd-8044-3e77c6e66fef",
   "metadata": {},
   "outputs": [
    {
     "data": {
      "image/png": "[encoded data removed]",
      "text/plain": [
       "<Figure size 400x200 with 2 Axes>"
      ]
     },
     "metadata": {
      "image/png": {
       "height": 160,
       "width": 330
      }
     },
     "output_type": "display_data"
    }
   ],
   "source": [
    "fig, ax = plt.subplots(1, 2, figsize=(4, 2))\n",
    "\n",
    "ix_target = 9\n",
    "img_truth = X_test[ix_target].reshape(28, 28)\n",
    "img_reconstruct = model_test.apply(state_hem.params, X_test, key)[2][1]\n",
    "img_reconstruct = nn.sigmoid(img_reconstruct[ix_target]).reshape(28, 28)\n",
    "\n",
    "ax[0].imshow(img_truth, cmap=\"cividis\")\n",
    "ax[1].imshow(img_reconstruct, cmap=\"cividis\")\n",
    "\n",
    "ax[0].axis(\"off\")\n",
    "ax[1].axis(\"off\");"
   ]
  },
  {
   "cell_type": "markdown",
   "id": "7cf5a9d5-d621-45c0-8daf-d16159a0e0ee",
   "metadata": {},
   "source": [
    "## VAE"
   ]
  },
  {
   "cell_type": "code",
   "execution_count": 140,
   "id": "a7f11df4-98df-49e9-b3e7-f8508d179794",
   "metadata": {},
   "outputs": [],
   "source": [
    "model = hlax.models.VAEBern(dim_latent, dim_obs[0], Encoder, Decoder)\n",
    "config = hlax.amortised.CheckpointsConfig(\n",
    "    num_epochs=20,\n",
    "    batch_size=200,\n",
    "    eval_epochs=[],\n",
    ")"
   ]
  },
  {
   "cell_type": "code",
   "execution_count": 141,
   "id": "f9873783-fc88-4c96-b7a6-c9e7a6a9c082",
   "metadata": {},
   "outputs": [
    {
     "data": {
      "application/vnd.jupyter.widget-view+json": {
       "model_id": "2663f9a2bf90417982e67b2fba251360",
       "version_major": 2,
       "version_minor": 0
      },
      "text/plain": [
       "  0%|          | 0/20 [00:00<?, ?it/s]"
      ]
     },
     "metadata": {},
     "output_type": "display_data"
    },
    {
     "name": "stdout",
     "output_type": "stream",
     "text": [
      "CPU times: user 6.87 s, sys: 942 ms, total: 7.81 s\n",
      "Wall time: 4.23 s\n"
     ]
    }
   ],
   "source": [
    "%%time\n",
    "\n",
    "tx_vae = optax.adam(1e-3)\n",
    "# tx_decoder = optax.adam(1e-2)\n",
    "\n",
    "output_train = hlax.amortised.train_checkpoints(\n",
    "    key_train, model, config, X_warmup, elbo_bern, tx_vae\n",
    ")\n",
    "# checkpoint_params = output_train[\"checkpoint_params\"]\n",
    "state_vae = output_train[\"state_final\"]"
   ]
  },
  {
   "cell_type": "code",
   "execution_count": 142,
   "id": "1b2236c2-cd93-46e9-a444-3b2eb09e2369",
   "metadata": {},
   "outputs": [
    {
     "data": {
      "application/vnd.jupyter.widget-view+json": {
       "model_id": "994c625050f1412983ed8255a733d4e6",
       "version_major": 2,
       "version_minor": 0
      },
      "text/plain": [
       "  0%|          | 0/200 [00:00<?, ?it/s]"
      ]
     },
     "metadata": {},
     "output_type": "display_data"
    }
   ],
   "source": [
    "params_decoder = state_vae.params[\"params\"][\"decoder\"]\n",
    "params_test = model_test.init(key_init_test, X_test[:2], key_init_test)\n",
    "params_test = unfreeze(params_test)\n",
    "params_test[\"params\"][\"decoder\"] = params_decoder\n",
    "params_test = freeze(params_test)\n",
    "\n",
    "tx = optax.adam(1e-4)\n",
    "state = TrainState.create(\n",
    "    apply_fn=model_test.apply,\n",
    "    params=params_test,\n",
    "    tx=tx\n",
    ")\n",
    "\n",
    "config_test = hlax.amortised.Config(\n",
    "    num_epochs=200,\n",
    "    batch_size=200\n",
    ")\n",
    "\n",
    "state_vae, hist_loss_vae = hlax.amortised.train_encoder(key_it_test, config_test, X_test, state, elbo_bern)"
   ]
  },
  {
   "cell_type": "code",
   "execution_count": 143,
   "id": "3d9a7cdf-5781-4997-9dd1-275df16bf211",
   "metadata": {},
   "outputs": [
    {
     "data": {
      "image/png": "[encoded data removed]",
      "text/plain": [
       "<Figure size 400x200 with 2 Axes>"
      ]
     },
     "metadata": {
      "image/png": {
       "height": 160,
       "width": 330
      }
     },
     "output_type": "display_data"
    }
   ],
   "source": [
    "fig, ax = plt.subplots(1, 2, figsize=(4, 2))\n",
    "\n",
    "ix_target = 9\n",
    "img_truth = X_test[ix_target].reshape(28, 28)\n",
    "img_reconstruct = model_test.apply(state_vae.params, X_test, key)[2][1]\n",
    "img_reconstruct = nn.sigmoid(img_reconstruct[ix_target]).reshape(28, 28)\n",
    "\n",
    "ax[0].imshow(img_truth, cmap=\"cividis\")\n",
    "ax[1].imshow(img_reconstruct, cmap=\"cividis\")\n",
    "\n",
    "ax[0].axis(\"off\")\n",
    "ax[1].axis(\"off\");"
   ]
  },
  {
   "cell_type": "code",
   "execution_count": 150,
   "id": "f81e05c5-1677-4b27-9b38-141c47cf445c",
   "metadata": {},
   "outputs": [
    {
     "data": {
      "text/plain": [
       "<matplotlib.legend.Legend at 0x7fcc27aceb00>"
      ]
     },
     "execution_count": 150,
     "metadata": {},
     "output_type": "execute_result"
    },
    {
     "data": {
      "image/png": "[encoded data removed]",
      "text/plain": [
       "<Figure size 700x400 with 1 Axes>"
      ]
     },
     "metadata": {
      "image/png": {
       "height": 373,
       "width": 616
      }
     },
     "output_type": "display_data"
    }
   ],
   "source": [
    "fig, ax = plt.subplots(figsize=(7, 4))\n",
    "plt.title(\"ELBO - Test\")\n",
    "plt.plot(hist_loss_vae, label=\"VAE\")\n",
    "plt.plot(hist_loss_hem, label=\"Hard EM\")\n",
    "plt.legend()"
   ]
  }
 ],
 "metadata": {
  "kernelspec": {
   "display_name": "Python 3 (ipykernel)",
   "language": "python",
   "name": "python3"
  },
  "language_info": {
   "codemirror_mode": {
    "name": "ipython",
    "version": 3
   },
   "file_extension": ".py",
   "mimetype": "text/x-python",
   "name": "python",
   "nbconvert_exporter": "python",
   "pygments_lexer": "ipython3",
   "version": "3.10.6"
  }
 },
 "nbformat": 4,
 "nbformat_minor": 5
}
