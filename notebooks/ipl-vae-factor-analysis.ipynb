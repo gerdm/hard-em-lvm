{
 "cells": [
  {
   "cell_type": "code",
   "execution_count": 1,
   "id": "f9bac700-d0a6-4d8f-b56b-07e4408eed1f",
   "metadata": {},
   "outputs": [],
   "source": [
    "import sys\n",
    "sys.path.append(\"..\")"
   ]
  },
  {
   "cell_type": "markdown",
   "id": "39f59e32-39ee-48c1-863e-4d172f74ae6e",
   "metadata": {},
   "source": [
    "\n",
    "# Factor analysis: IPL-VAE"
   ]
  },
  {
   "cell_type": "code",
   "execution_count": 2,
   "id": "133e0e65-5e76-4353-9bbe-904b8fdd7819",
   "metadata": {},
   "outputs": [
    {
     "name": "stderr",
     "output_type": "stream",
     "text": [
      "2022-09-24 07:15:04.405815: W tensorflow/stream_executor/platform/default/dso_loader.cc:64] Could not load dynamic library 'libcudart.so.11.0'; dlerror: libcudart.so.11.0: cannot open shared object file: No such file or directory; LD_LIBRARY_PATH: :/usr/local/lib\n",
      "2022-09-24 07:15:04.430529: E tensorflow/stream_executor/cuda/cuda_blas.cc:2981] Unable to register cuBLAS factory: Attempting to register factory for plugin cuBLAS when one has already been registered\n",
      "2022-09-24 07:15:05.081306: W tensorflow/stream_executor/platform/default/dso_loader.cc:64] Could not load dynamic library 'libnvinfer.so.7'; dlerror: libnvinfer.so.7: cannot open shared object file: No such file or directory; LD_LIBRARY_PATH: :/usr/local/lib\n",
      "2022-09-24 07:15:05.081419: W tensorflow/stream_executor/platform/default/dso_loader.cc:64] Could not load dynamic library 'libnvinfer_plugin.so.7'; dlerror: libnvinfer_plugin.so.7: cannot open shared object file: No such file or directory; LD_LIBRARY_PATH: :/usr/local/lib\n",
      "2022-09-24 07:15:05.081428: W tensorflow/compiler/tf2tensorrt/utils/py_utils.cc:38] TF-TRT Warning: Cannot dlopen some TensorRT libraries. If you would like to use Nvidia GPU with TensorRT, please make sure the missing libraries mentioned above are installed properly.\n"
     ]
    }
   ],
   "source": [
    "import jax\n",
    "import optax\n",
    "import distrax\n",
    "import flax.linen as nn\n",
    "import jax.numpy as jnp\n",
    "import matplotlib.pyplot as plt\n",
    "from flax.training import train_state\n",
    "from functools import partial\n",
    "from tqdm.notebook import tqdm\n",
    "from typing import Callable\n",
    "\n",
    "import vae\n",
    "import ipl_vae as linvae\n",
    "import linear_factor as lf_demo"
   ]
  },
  {
   "cell_type": "code",
   "execution_count": 377,
   "id": "7fb83285-fb04-49fe-8407-8906cad64f93",
   "metadata": {},
   "outputs": [],
   "source": [
    "from tensorflow_probability.substrates import jax as tfp\n",
    "tfd = tfp.distributions"
   ]
  },
  {
   "cell_type": "code",
   "execution_count": 3,
   "id": "d4b436de-580b-4e3e-bfbf-5b8fd0410e6f",
   "metadata": {},
   "outputs": [],
   "source": [
    "%config InlineBackend.figure_format = \"retina\"\n",
    "%load_ext autoreload\n",
    "%autoreload 2\n",
    "jnp.set_printoptions(suppress=True, precision=5, linewidth=120)"
   ]
  },
  {
   "cell_type": "markdown",
   "id": "18004784-30cb-4b6c-9097-28a0c041b48c",
   "metadata": {},
   "source": [
    "## Create train dataset"
   ]
  },
  {
   "cell_type": "code",
   "execution_count": 4,
   "id": "8ec0b776-855c-40bb-9350-7ad8543526b8",
   "metadata": {},
   "outputs": [],
   "source": [
    "key = jax.random.PRNGKey(314)\n",
    "key_fa_param, key_sample, key = jax.random.split(key, 3)\n",
    "key_vae, key_iplvae = jax.random.split(key)"
   ]
  },
  {
   "cell_type": "code",
   "execution_count": 345,
   "id": "2cf3aadd-9ada-4244-863a-3f12ce4b1245",
   "metadata": {},
   "outputs": [],
   "source": [
    "dim_latent = 20 # 20\n",
    "dim_obs = 100 # 28 ** 2\n",
    "num_samples = 1_000"
   ]
  },
  {
   "cell_type": "code",
   "execution_count": 346,
   "id": "585a05d7-db4a-4cd7-b8a1-2e14fd2f3670",
   "metadata": {},
   "outputs": [],
   "source": [
    "pfa = lf_demo.sample_linear_factor_params(key=key_fa_param, dim_obs=dim_obs, dim_latent=dim_latent, isotropic_Psi=False)\n",
    "samples_latent, samples_observed = lf_demo.sample_linear_factor(key_sample, pfa, num_samples)"
   ]
  },
  {
   "cell_type": "code",
   "execution_count": 347,
   "id": "f86b0dec-5fce-4eac-b5f3-2caae0e90296",
   "metadata": {},
   "outputs": [
    {
     "data": {
      "text/plain": [
       "DeviceArray(-153454.17, dtype=float32)"
      ]
     },
     "execution_count": 347,
     "metadata": {},
     "output_type": "execute_result"
    }
   ],
   "source": [
    "A, b = pfa.A, pfa.b\n",
    "Psi = pfa.Psi * jnp.eye(dim_obs)\n",
    "marginal_pdf = distrax.MultivariateNormalFullCovariance(loc=b, covariance_matrix=A @ A.T + Psi)\n",
    "\n",
    "# Bayes-optimal maginal log-likelihood\n",
    "log_likelihood = marginal_pdf.log_prob(samples_observed).sum()\n",
    "log_likelihood"
   ]
  },
  {
   "cell_type": "markdown",
   "id": "e0d9b676-3158-40cc-b0fa-afb45133f36d",
   "metadata": {},
   "source": [
    "## IPL - VAE"
   ]
  },
  {
   "cell_type": "code",
   "execution_count": 348,
   "id": "abec87b9-0fe1-411e-98c8-7101b210fa97",
   "metadata": {},
   "outputs": [],
   "source": [
    "key_ipl, key_init_params = jax.random.split(key_iplvae, 2)"
   ]
  },
  {
   "cell_type": "code",
   "execution_count": 349,
   "id": "2712c586-6814-4b4b-8ef6-fa97aa5ed373",
   "metadata": {},
   "outputs": [],
   "source": [
    "class FADecoder(nn.Module):\n",
    "    \"\"\"\n",
    "    Parameterise the generative model\n",
    "    p(x,z) = p(x|z) * p(z)\n",
    "    as a Factor Analysis (FA) model\n",
    "    \"\"\"\n",
    "    dim_obs: int\n",
    "    dim_latent: int\n",
    "    normal_init: Callable = nn.initializers.normal()\n",
    "    uniform_init: Callable = nn.initializers.uniform()\n",
    "\n",
    "    \n",
    "    def setup(self):\n",
    "        self.b = self.param(\"b\", self.normal_init, (self.dim_obs,))\n",
    "        self.A = self.param(\"A\", self.normal_init, (self.dim_obs, self.dim_latent))\n",
    "        # self.logPsi = self.param(\"logPsi\", self.normal_init, (self.dim_obs, self.dim_latent))\n",
    "        self.logPsi = self.param(\"logPsi\", self.normal_init, (self.dim_obs,))\n",
    "\n",
    "\n",
    "    def eval_mean(self, z):\n",
    "        mean_x = jnp.einsum(\"...m,dm->...d\", z, self.A)+ self.b\n",
    "        return mean_x\n",
    "    \n",
    "    def eval_diag_cov(self, z):\n",
    "        # logvar_x = jnp.einsum(\"...m,dm->...d\", z, self.logPsi)\n",
    "\n",
    "        zeros = jnp.zeros((self.dim_obs, self.dim_latent))\n",
    "        logvar_x = logvar_x = jnp.einsum(\"...m,dm->...d\", z, zeros) + self.logPsi\n",
    "\n",
    "        return logvar_x\n",
    "\n",
    "\n",
    "    def __call__(self, z):\n",
    "        mean_x = self.eval_mean(z)\n",
    "        logvar_x = self.eval_diag_cov(z)\n",
    "        \n",
    "        return mean_x, logvar_x\n",
    "\n",
    "    \n",
    "class Decoder(nn.Module):\n",
    "    \"\"\"\n",
    "    Parameterise the generative model\n",
    "    p(x,z) = p(x|z) * p(z)\n",
    "    as a \n",
    "    \"\"\"\n",
    "    dim_obs: int\n",
    "    dim_latent: int = 20\n",
    "    \n",
    "    @nn.compact\n",
    "    def __call__(self, z):\n",
    "        x = z\n",
    "        # x = nn.Dense(20)(z)\n",
    "        # x = nn.relu(x)\n",
    "        mean_x = nn.Dense(self.dim_obs)(x)\n",
    "        logvar_x = nn.Dense(self.dim_obs)(x)\n",
    "        return mean_x, logvar_x"
   ]
  },
  {
   "cell_type": "code",
   "execution_count": 378,
   "id": "672ebcdb-8e80-4816-9a1c-3e1684af0f3d",
   "metadata": {},
   "outputs": [],
   "source": [
    "class IPL:\n",
    "    def __init__(self, prior_mu, prior_Sigma, decoder, n_iterations=1):\n",
    "        self.prior_mu = prior_mu\n",
    "        self.prior_Sigma = prior_Sigma\n",
    "        self.decoder = decoder\n",
    "        self.num_iterations = n_iterations\n",
    "        self.dim_obs = decoder.dim_obs\n",
    "        self.dim_latent = decoder.dim_latent\n",
    "        self.num_is_samples = 13\n",
    "    \n",
    "\n",
    "    @partial(jax.jit, static_argnums=(0,))\n",
    "    def lin_predict(self, mu, Sigma, params):\n",
    "        m, logPsi = self.decoder.apply(params, mu)\n",
    "        G = jax.jacfwd(lambda x: self.decoder.apply(params, x)[0])(mu)\n",
    "        Psi = jnp.exp(logPsi) * jnp.eye(self.dim_obs)\n",
    "        \n",
    "        S = jnp.einsum(\"im,mk,jk->ij\", G, Sigma, G)\n",
    "        S = S + Psi\n",
    "        C = Sigma @ G.T\n",
    "        \n",
    "        return m, S, C\n",
    "\n",
    "    \n",
    "    def gauss_condition(self, mu_prev, Sigma_prev, y, m, S, C):\n",
    "        K = jnp.linalg.solve(S, C.T).T\n",
    "        mu_est = mu_prev + K @ (y - m)\n",
    "\n",
    "        Sigma_est = jnp.einsum(\"im,mk,jk->ij\", K, S, K)\n",
    "        Sigma_est = Sigma_prev - Sigma_est\n",
    "\n",
    "        return mu_est, Sigma_est\n",
    "    \n",
    "    \n",
    "    def iterate_posterior_step(self, state, y, params):\n",
    "        \"\"\"\n",
    "        Iterate posterior step\n",
    "        \"\"\"\n",
    "        mu, Sigma = state\n",
    "        m, S, C = self.lin_predict(mu, Sigma, params)\n",
    "        mu_est, Sigma_est = self.gauss_condition(mu, Sigma, y, m, S, C)\n",
    "        new_state = (mu_est, Sigma_est)\n",
    "        return new_state, None\n",
    "    \n",
    "    \n",
    "    def estimate_posterior_params(self, y, params):\n",
    "        state = (self.prior_mu, self.prior_Sigma)\n",
    "        ips = partial(self.iterate_posterior_step, params=params)\n",
    "        \n",
    "        # lax.scan makes it painfully slow\n",
    "        for it in range(self.num_iterations):\n",
    "            state, _ = ips(state, y)\n",
    "            \n",
    "        post_mu, post_Sigma = state\n",
    "        return post_mu, post_Sigma\n",
    "    \n",
    "\n",
    "    @partial(jax.jit, static_argnums=(0,))\n",
    "    def compute_iwlmm_single(self, key, obs, params):\n",
    "        mu, Sigma = self.estimate_posterior_params(obs, params)\n",
    "        dist_posterior_latent = tfd.MultivariateNormalFullCovariance(mu, Sigma)\n",
    "        dist_prior_latent = tfd.MultivariateNormalDiag(jnp.zeros(dim_latent), jnp.ones(dim_latent))\n",
    "\n",
    "        is_samples = dist_posterior_latent.sample(seed=key, sample_shape=self.num_is_samples)\n",
    "        \n",
    "        mean_x, logvar_x = self.decoder.apply(params, is_samples)\n",
    "        \n",
    "        # cov_x = jax.vmap(jnp.diag)(jnp.exp(logvar_x / 2))\n",
    "        # dist_decoder = distrax.MultivariateNormalFullCovariance(mean_x, cov_x)\n",
    "\n",
    "        cov_x = jnp.exp(logvar_x / 2)\n",
    "        dist_decoder = tfd.MultivariateNormalDiag(mean_x, cov_x)\n",
    "        \n",
    "\n",
    "        log_is = (dist_decoder.log_prob(obs)\n",
    "                + dist_prior_latent.log_prob(is_samples)\n",
    "                - dist_posterior_latent.log_prob(is_samples))\n",
    "        \n",
    "        return jax.nn.logsumexp(log_is, b=1/self.num_is_samples)"
   ]
  },
  {
   "cell_type": "code",
   "execution_count": 379,
   "id": "a56a24f6-38db-4345-b699-2527da54d7b2",
   "metadata": {},
   "outputs": [],
   "source": [
    "batch_init = jnp.ones((1, dim_latent))\n",
    "decoder = FADecoder(dim_obs, dim_latent)\n",
    "\n",
    "\n",
    "params_decoder = decoder.init(key_init_params, batch_init)\n",
    "\n",
    "prior_mu, prior_Sigma = jnp.ones(dim_latent), jnp.eye(dim_latent) * 0.9\n",
    "ipl_vae = IPL(prior_mu, prior_Sigma, decoder, n_iterations=1)"
   ]
  },
  {
   "cell_type": "code",
   "execution_count": 380,
   "id": "ae5c64bc-cd11-4961-9b51-313be5d48c58",
   "metadata": {},
   "outputs": [],
   "source": [
    "learning_rate = 1e-4\n",
    "tx = optax.sgd(-learning_rate)\n",
    "opt_state = tx.init(params_decoder)"
   ]
  },
  {
   "cell_type": "code",
   "execution_count": 381,
   "id": "b78d783c-36ce-48b0-bbc7-f2a80389d0c0",
   "metadata": {},
   "outputs": [],
   "source": [
    "def epoch_step(state, xs, gradfn):\n",
    "    params, opt_state = state\n",
    "    key, observation = xs\n",
    "    \n",
    "    loss, grads = gradfn(key, observation, params)\n",
    "    updates, opt_state = tx.update(grads, opt_state)\n",
    "    params = optax.apply_updates(params, updates)\n",
    "    state = (params, opt_state)\n",
    "    \n",
    "    return state, loss"
   ]
  },
  {
   "cell_type": "code",
   "execution_count": 382,
   "id": "3b588efa-5d30-49d5-8fca-25fcd676ece0",
   "metadata": {},
   "outputs": [],
   "source": [
    "def run_epoch(key, params_init, opt_state, observations, gradfn):\n",
    "    keys = jax.random.split(key, len(observations))\n",
    "    xs = (keys, observations)\n",
    "    state = (params_init, opt_state)\n",
    "    state, losses = jax.lax.scan(partial(epoch_step, gradfn=gradfn), state, xs)\n",
    "    return state, losses"
   ]
  },
  {
   "cell_type": "code",
   "execution_count": 383,
   "id": "3820f5e2-a77f-457b-a730-0d6072f9b053",
   "metadata": {},
   "outputs": [
    {
     "data": {
      "application/json": {
       "ascii": false,
       "bar_format": null,
       "colour": null,
       "elapsed": 0.014302730560302734,
       "initial": 0,
       "n": 0,
       "ncols": null,
       "nrows": 16,
       "postfix": null,
       "prefix": "",
       "rate": null,
       "total": 100,
       "unit": "it",
       "unit_divisor": 1000,
       "unit_scale": false
      },
      "application/vnd.jupyter.widget-view+json": {
       "model_id": "626ef8b11b014388be2fd4628bf9238c",
       "version_major": 2,
       "version_minor": 0
      },
      "text/plain": [
       "  0%|          | 0/100 [00:00<?, ?it/s]"
      ]
     },
     "metadata": {},
     "output_type": "display_data"
    },
    {
     "name": "stdout",
     "output_type": "stream",
     "text": [
      "CPU times: user 3.48 s, sys: 219 ms, total: 3.7 s\n",
      "Wall time: 21.2 s\n"
     ]
    }
   ],
   "source": [
    "%%time\n",
    "\n",
    "loss_hist = []\n",
    "key_epochs = jax.random.split(key_ipl, 100)\n",
    "gradfn = jax.value_and_grad(ipl_vae.compute_iwlmm_single, argnums=-1)\n",
    "part_epoch = jax.jit(partial(run_epoch, gradfn=gradfn))\n",
    "\n",
    "for key in tqdm(key_epochs):\n",
    "    state_final, loss = part_epoch(key, params_decoder, opt_state, samples_observed)\n",
    "    params_decoder, opt_state = state_final\n",
    "    loss = loss.sum()\n",
    "    print(loss, end=\"\\r\")\n",
    "    loss_hist.append(loss.sum())"
   ]
  },
  {
   "cell_type": "code",
   "execution_count": 384,
   "id": "6e4f8250-1639-4536-91de-6d65a564772a",
   "metadata": {},
   "outputs": [
    {
     "data": {
      "text/plain": [
       "Text(0.5, 1.0, 'Marginal log-likelihood')"
      ]
     },
     "execution_count": 384,
     "metadata": {},
     "output_type": "execute_result"
    },
    {
     "data": {
      "image/png": "[encoded data removed]",
      "text/plain": [
       "<Figure size 640x480 with 1 Axes>"
      ]
     },
     "metadata": {
      "image/png": {
       "height": 454,
       "width": 590
      }
     },
     "output_type": "display_data"
    }
   ],
   "source": [
    "plt.plot(loss_hist)\n",
    "\n",
    "plt.axhline(y=log_likelihood, color=\"black\", linestyle=\"--\", label=\"Bayes-opt mll\", alpha=0.5)\n",
    "plt.grid(alpha=0.5)\n",
    "plt.xlabel(\"Number of epochs\")\n",
    "plt.legend()\n",
    "plt.title(\"Marginal log-likelihood\")"
   ]
  },
  {
   "cell_type": "markdown",
   "id": "0e162be4-cdf8-4f0c-8608-c0d848be15be",
   "metadata": {},
   "source": [
    "## Functional style"
   ]
  },
  {
   "cell_type": "code",
   "execution_count": 67,
   "id": "dc1875fb-4878-438a-a796-8c6e357e64a5",
   "metadata": {},
   "outputs": [],
   "source": [
    "key_ipl, key_init_params = jax.random.split(key_iplvae, 2)"
   ]
  },
  {
   "cell_type": "code",
   "execution_count": 68,
   "id": "e6b91132-0e62-497d-b06c-3483604f4c95",
   "metadata": {},
   "outputs": [],
   "source": [
    "def g(z, params):\n",
    "    return params[\"A\"] @ z + params[\"b\"]\n",
    "\n",
    "\n",
    "def init_ipl_params(key, dim_full, dim_latent, num_samples, std=1.0):\n",
    "    key_A_init, key_b_init, key_Psi, key_is = jax.random.split(key, 4)\n",
    "\n",
    "    mu_prior = jnp.zeros((num_samples, dim_latent))\n",
    "    Sigma_prior = jnp.ones((num_samples, dim_latent, dim_latent))\n",
    "    Sigma_prior = Sigma_prior * jnp.eye(dim_latent) * std\n",
    "\n",
    "    A_est = jax.random.normal(key_A_init, (dim_full, dim_latent))\n",
    "    b_est = jax.random.normal(key_b_init, (dim_full,))\n",
    "    Psi_est = jax.random.uniform(key_Psi) # sample_kernel_matrix(key_Psi, dim_full) \n",
    "\n",
    "    params = {\n",
    "        \"A\": A_est,\n",
    "        \"b\": b_est,\n",
    "        \"Psi\": Psi_est\n",
    "    }\n",
    "    \n",
    "    return (mu_prior, Sigma_prior), params"
   ]
  },
  {
   "cell_type": "code",
   "execution_count": null,
   "id": "8429bae5-70fa-4f42-8473-9bf861fda162",
   "metadata": {},
   "outputs": [],
   "source": [
    "%%time\n",
    "num_epochs = 500\n",
    "num_is_samples = 13\n",
    "alpha = 1e-3\n",
    "num_iterations = 1\n",
    "(mu_prior, Sigma_prior), params = init_ipl_params(key_init_params,\n",
    "                                                  dim_obs, dim_latent,\n",
    "                                                  num_samples, 0.9)\n",
    "\n",
    "params, hist_mll_iplvae = linvae.run_ipl_epochs(key_ipl, samples_observed, params, mu_prior, Sigma_prior,\n",
    "                                 alpha, num_iterations, num_is_samples, num_epochs, g)\n",
    "params = jax.block_until_ready(params)"
   ]
  },
  {
   "cell_type": "code",
   "execution_count": null,
   "id": "70430226-93c4-422e-9d38-92c88b886039",
   "metadata": {},
   "outputs": [],
   "source": [
    "plt.plot(hist_mll_iplvae)\n",
    "\n",
    "plt.axhline(y=log_likelihood, color=\"black\", linestyle=\"--\", label=\"Bayes-opt mll\", alpha=0.5)\n",
    "plt.grid(alpha=0.5)\n",
    "plt.xlabel(\"Number of epochs\")\n",
    "plt.legend()\n",
    "plt.title(\"Marginal log-likelihood\")"
   ]
  }
 ],
 "metadata": {
  "kernelspec": {
   "display_name": "Python 3 (ipykernel)",
   "language": "python",
   "name": "python3"
  },
  "language_info": {
   "codemirror_mode": {
    "name": "ipython",
    "version": 3
   },
   "file_extension": ".py",
   "mimetype": "text/x-python",
   "name": "python",
   "nbconvert_exporter": "python",
   "pygments_lexer": "ipython3",
   "version": "3.10.6"
  }
 },
 "nbformat": 4,
 "nbformat_minor": 5
}
