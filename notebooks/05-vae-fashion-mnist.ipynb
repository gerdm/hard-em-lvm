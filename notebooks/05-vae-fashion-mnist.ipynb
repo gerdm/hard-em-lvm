{
 "cells": [
  {
   "cell_type": "code",
   "execution_count": 1,
   "id": "b57ff59c-629e-44d2-99a7-ef6772b4a8f7",
   "metadata": {},
   "outputs": [],
   "source": [
    "import os\n",
    "import sys\n",
    "sys.path.append(\"..\")"
   ]
  },
  {
   "cell_type": "code",
   "execution_count": 2,
   "id": "0f9260da-54f2-49e1-8074-39f54072e66a",
   "metadata": {},
   "outputs": [],
   "source": [
    "os.environ[\"TPU_CHIPS_PER_HOST_BOUNDS\"] = \"1,1,1\"\n",
    "os.environ[\"TPU_HOST_BOUNDS\"] = \"1,1,1\"\n",
    "# Different per process:\n",
    "os.environ[\"TPU_VISIBLE_DEVICES\"] = \"1\""
   ]
  },
  {
   "cell_type": "code",
   "execution_count": 3,
   "id": "9836a0c6-22c6-4a3b-b91e-1e610c670c74",
   "metadata": {},
   "outputs": [],
   "source": [
    "%load_ext autoreload\n",
    "%autoreload 2"
   ]
  },
  {
   "cell_type": "markdown",
   "id": "ea2d7024-3f14-41ab-a070-171a1c883b19",
   "metadata": {},
   "source": [
    "# MNIST: VAE "
   ]
  },
  {
   "cell_type": "code",
   "execution_count": 4,
   "id": "3ea738f8-1730-4714-aed0-1f2e63e1358c",
   "metadata": {},
   "outputs": [
    {
     "name": "stderr",
     "output_type": "stream",
     "text": [
      "2022-09-26 13:47:32.398818: W tensorflow/stream_executor/platform/default/dso_loader.cc:64] Could not load dynamic library 'libcudart.so.11.0'; dlerror: libcudart.so.11.0: cannot open shared object file: No such file or directory; LD_LIBRARY_PATH: :/usr/local/lib\n",
      "2022-09-26 13:47:32.422545: E tensorflow/stream_executor/cuda/cuda_blas.cc:2981] Unable to register cuBLAS factory: Attempting to register factory for plugin cuBLAS when one has already been registered\n",
      "2022-09-26 13:47:33.058169: W tensorflow/stream_executor/platform/default/dso_loader.cc:64] Could not load dynamic library 'libnvinfer.so.7'; dlerror: libnvinfer.so.7: cannot open shared object file: No such file or directory; LD_LIBRARY_PATH: :/usr/local/lib\n",
      "2022-09-26 13:47:33.058295: W tensorflow/stream_executor/platform/default/dso_loader.cc:64] Could not load dynamic library 'libnvinfer_plugin.so.7'; dlerror: libnvinfer_plugin.so.7: cannot open shared object file: No such file or directory; LD_LIBRARY_PATH: :/usr/local/lib\n",
      "2022-09-26 13:47:33.058305: W tensorflow/compiler/tf2tensorrt/utils/py_utils.cc:38] TF-TRT Warning: Cannot dlopen some TensorRT libraries. If you would like to use Nvidia GPU with TensorRT, please make sure the missing libraries mentioned above are installed properly.\n"
     ]
    }
   ],
   "source": [
    "import jax\n",
    "import optax\n",
    "import distrax\n",
    "import flax.linen as nn\n",
    "import jax.numpy as jnp\n",
    "import matplotlib.pyplot as plt\n",
    "from tqdm.notebook import tqdm\n",
    "from functools import partial\n",
    "from flax.training import train_state\n",
    "from torchvision.datasets import FashionMNIST\n",
    "\n",
    "import vae\n",
    "import linear_factor as lf_demo"
   ]
  },
  {
   "cell_type": "markdown",
   "id": "94924be2-2d42-4fdf-bf44-6c3c56d608e9",
   "metadata": {},
   "source": [
    "## Create train dataset"
   ]
  },
  {
   "cell_type": "code",
   "execution_count": 5,
   "id": "204c52c3-af61-4596-8d43-93a6835301f2",
   "metadata": {},
   "outputs": [],
   "source": [
    "root = \"/tmp/fashion-mnist\"\n",
    "mnist_train = FashionMNIST(root, download=True, train=True)\n",
    "mnist_test = FashionMNIST(root, download=True, train=False)"
   ]
  },
  {
   "cell_type": "code",
   "execution_count": 6,
   "id": "28bb0a56-103d-4ffc-ae15-d11994002e99",
   "metadata": {},
   "outputs": [],
   "source": [
    "key = jax.random.PRNGKey(314)\n",
    "key_fa_param, key_sample, key = jax.random.split(key, 3)\n",
    "key_vae, key_test = jax.random.split(key)"
   ]
  },
  {
   "cell_type": "code",
   "execution_count": 7,
   "id": "60096190-eb7f-4388-ba28-5bf4b8742cac",
   "metadata": {},
   "outputs": [
    {
     "data": {
      "text/plain": [
       "(1000, 784)"
      ]
     },
     "execution_count": 7,
     "metadata": {},
     "output_type": "execute_result"
    }
   ],
   "source": [
    "n_train = 1000\n",
    "n_test = 500\n",
    "\n",
    "y_train = jnp.array(mnist_train.targets)\n",
    "\n",
    "X_train = jnp.array(mnist_train.data)[:n_train + n_test]\n",
    "X_train = X_train.reshape(-1, 28 ** 2)\n",
    "\n",
    "y_train = y_train[:n_train + n_test]\n",
    "dim_output = len(jnp.unique(y_train))\n",
    "\n",
    "num_train, dim_obs = X_train.shape\n",
    "# \"Gaussanised\" MNIST\n",
    "# X_train = X_train[..., None]\n",
    "xmax = X_train.max()\n",
    "\n",
    "X_train = X_train / xmax\n",
    "\n",
    "xmean = X_train.mean()\n",
    "xstd = X_train.std()\n",
    "X_train = (X_train - xmean) / xstd\n",
    "\n",
    "y_ohe_train = jax.nn.one_hot(y_train, dim_output)\n",
    "num_samples = len(X_train)\n",
    "\n",
    "X_test = X_train[-n_test:]\n",
    "y_test = y_train[-n_test:]\n",
    "y_ohe_test = y_ohe_train[-n_test:]\n",
    "\n",
    "X_train = X_train[:-n_test]\n",
    "y_train = y_train[:-n_test]\n",
    "y_ohe_train = y_ohe_train[:-n_test]\n",
    "\n",
    "\n",
    "X_train.shape"
   ]
  },
  {
   "cell_type": "markdown",
   "id": "d1b3900a-9614-48f4-9318-83499e0593a0",
   "metadata": {},
   "source": [
    "# VAE"
   ]
  },
  {
   "cell_type": "code",
   "execution_count": 8,
   "id": "fae4b640-1a34-4cfd-9c10-978174ff205e",
   "metadata": {},
   "outputs": [],
   "source": [
    "class Decoder(nn.Module):\n",
    "    \"\"\"\n",
    "    For the generative model\n",
    "    p(x,z) = p(x|z) * p(z)\n",
    "    \"\"\"\n",
    "    dim_full: int\n",
    "    dim_latent: int = 20\n",
    "    \n",
    "    @nn.compact\n",
    "    def __call__(self, z):\n",
    "        x = nn.Dense(20)(z)\n",
    "        x = nn.relu(x)\n",
    "        mean_x = nn.Dense(self.dim_full)(x)\n",
    "        logvar_x = nn.Dense(self.dim_full)(x)\n",
    "        return mean_x, logvar_x\n",
    "    \n",
    "\n",
    "class EncoderFullCov(nn.Module):\n",
    "    \"\"\"\n",
    "    For the inference model p(z|x)\n",
    "    \"\"\"\n",
    "    latent_dim: int\n",
    "    n_hidden: int = 5\n",
    "\n",
    "    def setup(self):\n",
    "        init_tri = nn.initializers.normal(stddev=1e-5)\n",
    "        # Number of elments in the lower (without diagonal) triangular matrix\n",
    "        tril_dim = self.latent_dim * (self.latent_dim + 1) // 2 - self.latent_dim\n",
    "        self.hidden_layer = nn.Dense(self.n_hidden, name=\"latent_hidden\")\n",
    "        self.mean_layer = nn.Dense(self.latent_dim, name=\"latent_mean\")\n",
    "        self.logvardiag_layer = nn.Dense(self.latent_dim, use_bias=False, name=\"latent_logvardiag\", kernel_init=init_tri)\n",
    "        self.tril_layer  = nn.Dense(tril_dim, name=\"latent_tril\", use_bias=False, kernel_init=init_tri)\n",
    "\n",
    "\n",
    "    @nn.compact\n",
    "    def __call__(self, x):\n",
    "        z = self.hidden_layer(x)\n",
    "        z = nn.relu(z)\n",
    "\n",
    "        mean_z = self.mean_layer(z)\n",
    "        logvar_z = self.logvardiag_layer(z)\n",
    "        diag_z = jax.vmap(jnp.diag)(jnp.exp(logvar_z / 2))\n",
    "        Lz = self.tril_layer(z)\n",
    "        Lz = jax.vmap(vae.fill_lower_tri, (0, None))(Lz, self.latent_dim)\n",
    "\n",
    "        return mean_z, Lz + diag_z\n",
    "    \n",
    "\n",
    "class VAEIW(nn.Module):\n",
    "    \"\"\"\n",
    "    Importance-Weighted Variational Autoencoder\n",
    "    \"\"\"\n",
    "    latent_dim: int\n",
    "    full_dim: int\n",
    "    n_hidden: int = 5\n",
    "    \n",
    "    @staticmethod\n",
    "    def reparameterise(key, mean, logvar, num_samples=1):\n",
    "        std = jnp.exp(logvar / 2)\n",
    "        eps = jax.random.normal(key, (num_samples, *logvar.shape))\n",
    "        z = mean[None, ...] + jnp.einsum(\"...d,...d->...d\", std, eps)\n",
    "        return z\n",
    "    \n",
    "    def setup(self):\n",
    "        self.encoder = vae.Encoder(self.latent_dim, self.n_hidden)\n",
    "        self.decoder = Decoder(self.full_dim, self.latent_dim)\n",
    "    \n",
    "    def __call__(self, x, key_eps, num_samples=1):\n",
    "        mean_z, logvar_z = self.encoder(x)\n",
    "        z = VAEIW.reparameterise(key_eps, mean_z, logvar_z, num_samples)\n",
    "        mean_x, logvar_x = self.decoder(z)\n",
    "        return z, (mean_z, logvar_z), (mean_x, logvar_x)\n",
    "    \n",
    "    \n",
    "class VAEIWFD(nn.Module):\n",
    "    \"\"\"\n",
    "    Importance-Weighted Variational Autoencoder with Full Covariance Matrix\n",
    "    for the posterior distribution\n",
    "    \"\"\"\n",
    "    latent_dim: int\n",
    "    full_dim: int\n",
    "    n_hidden: int = 5\n",
    "    \n",
    "    def reparameterise(self, key, mean, cov, num_samples):\n",
    "        num_obs = len(mean)\n",
    "        eps = jax.random.normal(key, (num_samples, num_obs, self.latent_dim))\n",
    "        import pdb; pdb.set_trace()\n",
    "        z = mean + jnp.einsum(\"...dm,...m->...d\", cov, eps)\n",
    "        return z\n",
    "    \n",
    "    def setup(self):\n",
    "        self.encoder = vae.Encoder(self.latent_dim, self.n_hidden)\n",
    "        self.decoder = Decoder(self.full_dim)\n",
    "    \n",
    "    def __call__(self, x, key_eps, num_samples=1):\n",
    "        mean_z, L_z = self.encoder(x)\n",
    "        z = self.reparameterise(key_eps, mean_z, L_z, num_samples)\n",
    "        mean_x, logvar_x = self.decoder(z)\n",
    "        return z, (mean_z, L_z), (mean_x, logvar_x)"
   ]
  },
  {
   "cell_type": "markdown",
   "id": "e50ec759-885f-408c-8978-52d2af1f3246",
   "metadata": {},
   "source": [
    "## Full covariance matrix"
   ]
  },
  {
   "cell_type": "code",
   "execution_count": 9,
   "id": "a7ec0a63-3e50-4d07-8fd0-101d51b3a1cf",
   "metadata": {},
   "outputs": [],
   "source": [
    "key_params_init, key_eps_init, key_train = jax.random.split(key_vae, 3)"
   ]
  },
  {
   "cell_type": "code",
   "execution_count": 10,
   "id": "0961ccc3-1173-4f8c-a24e-2bec41aa78b7",
   "metadata": {},
   "outputs": [],
   "source": [
    "batch_size = 100\n",
    "n_epochs = 4000"
   ]
  },
  {
   "cell_type": "code",
   "execution_count": 11,
   "id": "f0f96f06-fd99-4ebb-b4fe-6e3ebac35537",
   "metadata": {},
   "outputs": [],
   "source": [
    "tx = optax.adam(1e-5)"
   ]
  },
  {
   "cell_type": "code",
   "execution_count": 12,
   "id": "94a9e4dd-78cf-4e80-9ab6-2bea276065d9",
   "metadata": {},
   "outputs": [],
   "source": [
    "n_hidden = 100\n",
    "batch_init = jnp.ones((batch_size, dim_obs))\n",
    "\n",
    "dim_latent = 50\n",
    "model = VAEIW(dim_latent, dim_obs, n_hidden)\n",
    "params_init = model.init(key_params_init, batch_init, key_eps_init, num_samples=3)"
   ]
  },
  {
   "cell_type": "code",
   "execution_count": 13,
   "id": "8718e6c7-b03a-48d6-b6e5-5441564f6ce0",
   "metadata": {},
   "outputs": [],
   "source": [
    "z, (mean_z, L_z), (mean_x, logvar_x) = model.apply(params_init, X_train[:1], key_train)"
   ]
  },
  {
   "cell_type": "code",
   "execution_count": 14,
   "id": "52138879-5ff7-47b6-b90e-95aab5480253",
   "metadata": {},
   "outputs": [],
   "source": [
    "state = train_state.TrainState.create(\n",
    "    apply_fn=partial(model.apply, num_samples=13),\n",
    "    params=params_init,\n",
    "    tx=tx\n",
    ")"
   ]
  },
  {
   "cell_type": "code",
   "execution_count": 15,
   "id": "351349c1-f22c-454b-b9c6-df8d3d3e5ab4",
   "metadata": {},
   "outputs": [],
   "source": [
    "train_step = partial(vae.train_step,\n",
    "                     model=model,\n",
    "                     loss_fn=partial(vae.iwae, num_is_samples=13))\n",
    "train_step = jax.jit(train_step)\n",
    "\n",
    "\n",
    "def train_epoch(key, state, X, batch_size):\n",
    "    num_samples = len(X)\n",
    "    key_batch, keys_vae = jax.random.split(key)\n",
    "    batch_ixs = vae.get_batch_train_ixs(key_batch, num_samples, batch_size)\n",
    "    \n",
    "    num_batches = len(batch_ixs)\n",
    "    keys_vae = jax.random.split(keys_vae, num_batches)\n",
    "    \n",
    "    total_loss = 0\n",
    "    for key_vae, batch_ix in zip(keys_vae, batch_ixs):\n",
    "        X_batch = X[batch_ix, ...]\n",
    "        loss, state = train_step(state, X_batch, key_vae)\n",
    "        total_loss += loss\n",
    "    \n",
    "    return total_loss.item(), state"
   ]
  },
  {
   "cell_type": "code",
   "execution_count": null,
   "id": "6194d0db-4512-4d76-8853-4d99018cbc49",
   "metadata": {},
   "outputs": [],
   "source": [
    "keys_train = jax.random.split(key_train, n_epochs)\n",
    "# hist_loss = []\n",
    "hist_mll_vae_iw_full = []\n",
    "for e, keyt in (pbar := tqdm(enumerate(keys_train), total=len(keys_train))):\n",
    "    loss, state = train_epoch(keyt, state, X_train, batch_size)\n",
    "    \n",
    "    hist_loss.append(loss)\n",
    "    \n",
    "    pbar.set_description(f\"{loss=:,.2f}\")\n",
    "params_final = state.params"
   ]
  },
  {
   "cell_type": "code",
   "execution_count": 31,
   "id": "40a5a37f-bdb0-4fec-8212-2ba2718faaea",
   "metadata": {},
   "outputs": [
    {
     "data": {
      "text/plain": [
       "'-267.99'"
      ]
     },
     "execution_count": 31,
     "metadata": {},
     "output_type": "execute_result"
    }
   ],
   "source": [
    "hist_mll = -jnp.array(hist_loss)\n",
    "format(hist_mll[-1], \",.2f\")"
   ]
  },
  {
   "cell_type": "code",
   "execution_count": 32,
   "id": "4b7dddb9-73a3-40d9-af3f-4c7cee17fb3c",
   "metadata": {},
   "outputs": [
    {
     "data": {
      "image/png": "[encoded data removed]",
      "text/plain": [
       "<Figure size 640x480 with 1 Axes>"
      ]
     },
     "metadata": {},
     "output_type": "display_data"
    }
   ],
   "source": [
    "plt.title(\"IW marginal log-likelihood\")\n",
    "plt.plot(hist_mll)\n",
    "plt.grid(alpha=0.5)"
   ]
  },
  {
   "cell_type": "code",
   "execution_count": 33,
   "id": "d9f1c6c7-d7bd-4743-b13c-d3102b002b98",
   "metadata": {},
   "outputs": [],
   "source": [
    "n_samples = 5\n",
    "key_samples, _ = jax.random.split(key_test)\n",
    "key_samples = jax.random.split(key_samples, n_samples)"
   ]
  },
  {
   "cell_type": "code",
   "execution_count": 34,
   "id": "8e579893-4081-4242-9dd6-6b26643f40fd",
   "metadata": {},
   "outputs": [
    {
     "data": {
      "image/png": "[encoded data removed]",
      "text/plain": [
       "<Figure size 640x400 with 10 Axes>"
      ]
     },
     "metadata": {},
     "output_type": "display_data"
    }
   ],
   "source": [
    "ixs_test = jax.random.choice(key_test, len(X_train), (n_samples,))\n",
    "\n",
    "fig, ax = plt.subplots(2, n_samples, figsize=(6.4, 4.0))\n",
    "\n",
    "for ax, ix in zip(ax.T, ixs_test):\n",
    "    obs = X_train[ix]\n",
    "    z, (mean_z, L_z), (mean_x, logvar_x) = model.apply(params_final, obs, key_train)\n",
    "\n",
    "    ax[0].imshow(obs.reshape(28, 28), cmap=\"bone\")\n",
    "    ax[1].imshow(mean_x.reshape(28, 28), cmap=\"bone\")\n",
    "    ax[0].axis(\"off\")\n",
    "    ax[1].axis(\"off\")\n",
    "plt.tight_layout()"
   ]
  }
 ],
 "metadata": {
  "kernelspec": {
   "display_name": "Python 3 (ipykernel)",
   "language": "python",
   "name": "python3"
  },
  "language_info": {
   "codemirror_mode": {
    "name": "ipython",
    "version": 3
   },
   "file_extension": ".py",
   "mimetype": "text/x-python",
   "name": "python",
   "nbconvert_exporter": "python",
   "pygments_lexer": "ipython3",
   "version": "3.10.6"
  }
 },
 "nbformat": 4,
 "nbformat_minor": 5
}
