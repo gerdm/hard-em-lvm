{
 "cells": [
  {
   "cell_type": "markdown",
   "id": "f518129d-2a96-4bb9-bda4-4dd622944159",
   "metadata": {},
   "source": [
    "# Unamortised VAE test"
   ]
  },
  {
   "cell_type": "code",
   "execution_count": 2,
   "id": "ccc0286a-ec88-4887-9755-a6dba56305db",
   "metadata": {},
   "outputs": [],
   "source": [
    "%load_ext autoreload\n",
    "%autoreload 2"
   ]
  },
  {
   "cell_type": "code",
   "execution_count": 3,
   "id": "b2d631bc-74b3-4a7c-852d-8d61a54c95fb",
   "metadata": {},
   "outputs": [],
   "source": [
    "import sys\n",
    "sys.path.append(\"../experiments/\")\n",
    "import base_vae_hardem"
   ]
  },
  {
   "cell_type": "code",
   "execution_count": 4,
   "id": "e9eb5047-dc4e-4a9f-a4cf-4617f988e79c",
   "metadata": {},
   "outputs": [],
   "source": [
    "import os\n",
    "\n",
    "os.environ[\"TPU_CHIPS_PER_HOST_BOUNDS\"] = \"1,1,1\"\n",
    "os.environ[\"TPU_HOST_BOUNDS\"] = \"1,1,1\"\n",
    "os.environ[\"TPU_VISIBLE_DEVICES\"] = \"0\""
   ]
  },
  {
   "cell_type": "code",
   "execution_count": 5,
   "id": "05ffa0ac-38c8-4e93-be16-a4a65693e493",
   "metadata": {},
   "outputs": [],
   "source": [
    "import jax\n",
    "import hlax\n",
    "import tomli\n",
    "import distrax\n",
    "import pandas as pd\n",
    "import seaborn as sns\n",
    "import jax.numpy as jnp\n",
    "import flax.linen as nn\n",
    "import matplotlib.pyplot as plt"
   ]
  },
  {
   "cell_type": "code",
   "execution_count": 6,
   "id": "2ba39221-fb52-4a3e-86d6-6d3b88e0834e",
   "metadata": {},
   "outputs": [],
   "source": [
    "%config InlineBackend.figure_format = \"retina\""
   ]
  },
  {
   "cell_type": "code",
   "execution_count": 1196,
   "id": "b7ce2e98-70d2-4e78-b3c9-76780476ad22",
   "metadata": {},
   "outputs": [],
   "source": [
    "def build_mll_summary(res, procedure):\n",
    "    df_mll = pd.DataFrame(res[\"test\"][\"mll_epochs\"]).melt(var_name=\"episode\", value_name=\"mll\")\n",
    "    df_mll[\"procedure\"] = procedure\n",
    "\n",
    "    df_times = pd.DataFrame.from_dict({\"times\": res[\"train\"][\"times\"]}, orient=\"index\").T\n",
    "    df_mll = pd.merge(df_mll, df_times, left_on=\"episode\", right_index=True)\n",
    "    return df_mll"
   ]
  },
  {
   "cell_type": "markdown",
   "id": "473cc609-0d25-4230-8eb3-ba40cf8c8fcf",
   "metadata": {},
   "source": [
    "## Loss functions"
   ]
  },
  {
   "cell_type": "code",
   "execution_count": 1499,
   "id": "244e5c3a-ab5e-456c-8a94-9ffad76a1b70",
   "metadata": {},
   "outputs": [],
   "source": [
    "def iwae_bern(key, params, apply_fn, X_batch):\n",
    "    \"\"\"\n",
    "    Importance-weighted marginal log-likelihood for\n",
    "    a Bernoulli decoder\n",
    "    \"\"\"\n",
    "    batch_size = len(X_batch)\n",
    "\n",
    "    # keys = jax.random.split(key, batch_size)\n",
    "    # encode_decode = jax.vmap(apply_fn, (None, 0, 0))\n",
    "    # encode_decode = encode_decode(params, X_batch, keys)\n",
    "    encode_decode = apply_fn(params, X_batch, key)\n",
    "    z, (mean_z, logvar_z), logit_mean_x = encode_decode\n",
    "    _, num_is_samples, dim_latent = z.shape\n",
    "\n",
    "    std_z = jnp.exp(logvar_z / 2)\n",
    "    \n",
    "    dist_prior = distrax.MultivariateNormalDiag(jnp.zeros(dim_latent),\n",
    "                                                jnp.ones(dim_latent))\n",
    "    dist_decoder = distrax.Bernoulli(logits=logit_mean_x)\n",
    "    dist_posterior = distrax.Normal(mean_z[None, ...], std_z[None, ...])\n",
    "\n",
    "    log_prob_z_prior = dist_prior.log_prob(z)\n",
    "    log_prob_x = dist_decoder.log_prob(X_batch).sum(axis=-1)\n",
    "    log_prob_z_post = dist_posterior.log_prob(z).sum(axis=-1)\n",
    "\n",
    "    log_prob = log_prob_z_prior + log_prob_x - log_prob_z_post\n",
    "\n",
    "    # negative Importance-weighted marginal log-likelihood\n",
    "    niwmll = -jax.nn.logsumexp(log_prob, axis=-1, b=1/num_is_samples).mean()\n",
    "    return niwmll\n",
    "\n",
    "\n",
    "def hard_nmll_bern(params, z_batch, X_batch, model):\n",
    "    \"\"\"\n",
    "    Loss function\n",
    "    -------------\n",
    "\n",
    "    Negative Marginal log-likelihood for hard EM\n",
    "    assuming an isotropic Gaussian prior with zero mean\n",
    "    and a decoder with a diagonal covariance matrix\n",
    "\n",
    "    Parameters\n",
    "    ----------\n",
    "    params: pytree\n",
    "        Parameters of the decoder model, i.e.,\n",
    "        model.apply(params, z_batch) = X_batch (approx)\n",
    "    z_batch: jnp.ndarray\n",
    "        Batch of latent variables\n",
    "    X_batch: jnp.ndarray\n",
    "        Batch of observations\n",
    "    model: flax.nn.Module\n",
    "        Decoder model (input z -> output x)\n",
    "    \"\"\"\n",
    "    dim_latent = model.dim_latent\n",
    "\n",
    "    logit_mean_x = model.apply(params, z_batch)\n",
    "\n",
    "    dist_prior = distrax.MultivariateNormalDiag(jnp.zeros(dim_latent), jnp.ones(dim_latent))\n",
    "    dist_decoder = distrax.Bernoulli(logits=logit_mean_x)\n",
    "\n",
    "    log_prob_z_prior = dist_prior.log_prob(z_batch)\n",
    "    log_prob_x = dist_decoder.log_prob(X_batch).sum(axis=-1)\n",
    "\n",
    "    log_prob = log_prob_z_prior + log_prob_x\n",
    "\n",
    "    return -log_prob.mean()\n",
    "\n",
    "\n",
    "def neg_iwmll_bern(key, params_encoder, params_decoder, observation,\n",
    "              encoder, decoder, num_is_samples=10):\n",
    "    \"\"\"\n",
    "    Importance-weighted marginal log-likelihood for an unamortised, uncoditional\n",
    "    gaussian encoder.\n",
    "    \"\"\"\n",
    "    latent_samples, (mu_z, std_z) = encoder.apply(\n",
    "        params_encoder, key, num_samples=num_is_samples\n",
    "    )\n",
    "\n",
    "    _, dim_latent = latent_samples.shape\n",
    "    # log p(x|z)\n",
    "    logit_mean_x = decoder.apply(params_decoder, latent_samples)\n",
    "    log_px_cond = distrax.Bernoulli(logits=logit_mean_x).log_prob(observation).sum(axis=-1)\n",
    "\n",
    "    # log p(z)\n",
    "    mu_z_init, std_z_init = jnp.zeros(dim_latent), jnp.ones(dim_latent)\n",
    "    log_pz = distrax.MultivariateNormalDiag(mu_z_init, std_z_init).log_prob(latent_samples)\n",
    "\n",
    "    # log q(z)\n",
    "    log_qz = distrax.MultivariateNormalDiag(mu_z, std_z).log_prob(latent_samples)\n",
    "\n",
    "    # Importance-weighted marginal log-likelihood\n",
    "    log_prob = log_pz + log_px_cond - log_qz\n",
    "    niwmll = -jax.nn.logsumexp(log_prob, axis=-1, b=1/num_is_samples)\n",
    "    return niwmll\n",
    "\n",
    "\n",
    "\n",
    "def neg_iwmll_bern_delta(key, params_encoder, params_decoder, observation,\n",
    "              encoder, decoder, num_is_samples=10):\n",
    "    \"\"\"\n",
    "    Importance-weighted marginal log-likelihood for an unamortised, uncoditional\n",
    "    gaussian encoder.\n",
    "    \"\"\"\n",
    "    latent_samples = encoder.apply(\n",
    "        params_encoder, key\n",
    "    )\n",
    "    \n",
    "    import pdb; pdb.set_trace()\n",
    "    logit_mean_x = decoder.apply(params_decoder, latent_samples)\n",
    "    \n",
    "    dist_prior = distrax.MultivariateNormalDiag(jnp.zeros(dim_latent), jnp.ones(dim_latent))\n",
    "    dist_decoder = distrax.Bernoulli(logits=logit_mean_x)\n",
    "    \n",
    "    log_prob_z_prior = dist_prior.log_prob(latent_samples)\n",
    "    log_prob_x = dist_decoder.log_prob(observation).sum(axis=-1)\n",
    "\n",
    "    log_prob = log_prob_z_prior + log_prob_x\n",
    "\n",
    "    return -log_prob.mean()"
   ]
  },
  {
   "cell_type": "markdown",
   "id": "77acf9a7-86c4-49a1-80dc-0a36bb1c2114",
   "metadata": {},
   "source": [
    "## Models"
   ]
  },
  {
   "cell_type": "code",
   "execution_count": 1453,
   "id": "63f82429-39f3-4508-9e95-0a7229ce7520",
   "metadata": {},
   "outputs": [],
   "source": [
    "from typing import Callable\n",
    "\n",
    "class Decoder(nn.Module):\n",
    "    \"\"\"\n",
    "    For the generative model\n",
    "    p(x,z) = p(x|z) * p(z)\n",
    "    \"\"\"\n",
    "    dim_full: int\n",
    "    dim_latent: int = 20\n",
    "    \n",
    "    def setup(self):\n",
    "        self.logit = nn.Dense(self.dim_full, use_bias=True, name=\"mean\")\n",
    "    \n",
    "    @nn.compact\n",
    "    def __call__(self, z):\n",
    "        x = nn.Dense(100)(z)\n",
    "        x = nn.elu(x)\n",
    "        x = nn.Dense(50)(x)\n",
    "        x = nn.elu(x)\n",
    "        logit_x = self.logit(x)\n",
    "        return logit_x\n",
    "\n",
    "\n",
    "class Encoder(nn.Module):\n",
    "    \"\"\"\n",
    "    two-layered encoder\n",
    "    \"\"\"\n",
    "    latent_dim: int\n",
    "    n_hidden: int = 100\n",
    "    \n",
    "    @nn.compact\n",
    "    def __call__(self, x):\n",
    "        z = nn.Dense(self.n_hidden)(x)\n",
    "        z = nn.elu(z)\n",
    "        z = nn.Dense(self.n_hidden)(z)\n",
    "        z = nn.elu(z)\n",
    "        z = nn.Dense(self.n_hidden)(z)\n",
    "        z = nn.elu(z)\n",
    "        z = nn.Dense(self.n_hidden)(z)\n",
    "        z = nn.elu(z)\n",
    "        mean_z = nn.Dense(self.latent_dim)(z)\n",
    "        logvar_z = nn.Dense(self.latent_dim)(z)\n",
    "        return mean_z, logvar_z\n",
    "    \n",
    "    \n",
    "class GaussEncoder(nn.Module):\n",
    "    dim_latent: int\n",
    "    normal_init: Callable = nn.initializers.normal()\n",
    "\n",
    "    def setup(self):\n",
    "        self.mu = self.param(\"mu\", self.normal_init, (self.dim_latent,))\n",
    "        self.logvar_diag = self.param(\"logvar_diag\", self.normal_init, (self.dim_latent,))\n",
    "\n",
    "    def __call__(self, _):\n",
    "        \"\"\"\n",
    "        Input x (_) is a dummy variable\n",
    "        \"\"\"\n",
    "        return self.mu, self.logvar_diag"
   ]
  },
  {
   "cell_type": "markdown",
   "id": "cad12d52-946b-447b-ab61-a236d7ea1526",
   "metadata": {},
   "source": [
    "## Setup"
   ]
  },
  {
   "cell_type": "code",
   "execution_count": 1454,
   "id": "0b42b9aa-561c-4062-8d76-f6bdc81fbba0",
   "metadata": {},
   "outputs": [],
   "source": [
    "batch_size = 200\n",
    "key = jax.random.PRNGKey(314)\n",
    "warmup, test = hlax.datasets.load_fashion_mnist(n_train=1_000, n_test=100, normalize=False)\n",
    "X_warmup = warmup[0].round()\n",
    "X_test = test[0].round()"
   ]
  },
  {
   "cell_type": "code",
   "execution_count": 1455,
   "id": "b4e8f188-fd0e-4a72-a39e-ce5a747ebba1",
   "metadata": {},
   "outputs": [],
   "source": [
    "dim_latent = 50\n",
    "num_obs, *dim_obs = X_warmup.shape"
   ]
  },
  {
   "cell_type": "code",
   "execution_count": 1456,
   "id": "cad689e6-e9a4-427c-94e7-32759ba529f3",
   "metadata": {},
   "outputs": [
    {
     "name": "stdout",
     "output_type": "stream",
     "text": [
      "# TOML file for a fashion mnist dataset\n",
      "[setup]\n",
      "dim_latent = 50\n",
      "\n",
      "[train]\n",
      "    num_obs = 10_000\n",
      "    num_epochs = 3000\n",
      "    batch_size = 200\n",
      "    eval_epochs = [2, 10, 100, 250, 500, 1000, 1100, 1200, 1300, 1400, 1500, 1600, 1700, 1800, 1900, 2000, 2500, 3000]\n",
      "    learning_rate = 1e-6 # For VAE and HardEM\n",
      "\n",
      "    [train.vae]\n",
      "        num_is_samples = 10\n",
      "    [train.hard_em]\n",
      "        num_its_latent = 10 # E-step\n",
      "        num_its_params = 5 # M-step\n",
      "\n",
      "[test]\n",
      "    num_obs = 1000\n",
      "    num_epochs = 500\n",
      "    learning_rate = 1e-6\n",
      "    num_is_samples = 10\n"
     ]
    }
   ],
   "source": [
    "path_config = \"../experiments/configs/fmnist-conv01.toml\"\n",
    "with open(path_config, \"rb\") as f:\n",
    "    config_str = f.read().decode(\"utf-8\")\n",
    "    config = tomli.loads(config_str)\n",
    "\n",
    "print(config_str)"
   ]
  },
  {
   "cell_type": "code",
   "execution_count": 1457,
   "id": "e163e7d6-e6d6-4f75-82df-f8389550076a",
   "metadata": {},
   "outputs": [],
   "source": [
    "config[\"train\"][\"learning_rate\"] = 1e-4\n",
    "config[\"train\"][\"hard_em\"][\"num_its_latent\"] = 5\n",
    "config[\"train\"][\"hard_em\"][\"num_its_params\"] = 5\n",
    "config[\"train\"][\"num_epochs\"] = 1000\n",
    "config[\"train\"][\"eval_epochs\"] = list(range(0, 1000 + 50, 50))"
   ]
  },
  {
   "cell_type": "code",
   "execution_count": 1509,
   "id": "986c75ad-848b-4ce7-989a-da5faa099849",
   "metadata": {},
   "outputs": [],
   "source": [
    "model_decoder = Decoder(28 ** 2, dim_latent)\n",
    "\n",
    "model_encoder_test = hlax.models.GaussEncoder(dim_latent)\n",
    "grad_neg_iwmll_encoder = jax.value_and_grad(neg_iwmll_bern, argnums=1)\n",
    "vmap_neg_iwmll = jax.vmap(neg_iwmll_bern, (0, 0, None, 0, None, None, None))\n",
    "\n",
    "# model_encoder_test = DeltaEncoder(dim_latent)\n",
    "# grad_neg_iwmll_encoder = jax.value_and_grad(neg_iwmll_bern_delta, argnums=1)\n",
    "# vmap_neg_iwmll = jax.vmap(neg_iwmll_bern_delta, (0, 0, None, 0, None, None, None))"
   ]
  },
  {
   "cell_type": "code",
   "execution_count": 1510,
   "id": "a7ea03c4-4b3d-43b6-b77d-1c1158e385f6",
   "metadata": {},
   "outputs": [],
   "source": [
    "config_test = base_vae_hardem.load_test_config(config, model_encoder_test, model_decoder)"
   ]
  },
  {
   "cell_type": "markdown",
   "id": "68ea9f0a-c63b-4021-85e0-73dbae9263d7",
   "metadata": {},
   "source": [
    "## Benchmark models"
   ]
  },
  {
   "cell_type": "markdown",
   "id": "29d868cc-b615-4fda-97d8-f255a2f1608b",
   "metadata": {},
   "source": [
    "### VAE"
   ]
  },
  {
   "cell_type": "code",
   "execution_count": 1511,
   "id": "d151afe1-63ed-4b25-ad3a-b7d38a8f49d6",
   "metadata": {},
   "outputs": [
    {
     "data": {
      "application/vnd.jupyter.widget-view+json": {
       "model_id": "345621ebb68a4930aa39e5816ed92369",
       "version_major": 2,
       "version_minor": 0
      },
      "text/plain": [
       "  0%|          | 0/1000 [00:00<?, ?it/s]"
      ]
     },
     "metadata": {},
     "output_type": "display_data"
    },
    {
     "data": {
      "application/vnd.jupyter.widget-view+json": {
       "model_id": "a8963daa81cc478aabe9aadeb3548563",
       "version_major": 2,
       "version_minor": 0
      },
      "text/plain": [
       "  0%|          | 0/20 [00:00<?, ?it/s]"
      ]
     },
     "metadata": {},
     "output_type": "display_data"
    },
    {
     "data": {
      "application/vnd.jupyter.widget-view+json": {
       "model_id": "",
       "version_major": 2,
       "version_minor": 0
      },
      "text/plain": [
       "  0%|          | 0/500 [00:00<?, ?it/s]"
      ]
     },
     "metadata": {},
     "output_type": "display_data"
    },
    {
     "data": {
      "application/vnd.jupyter.widget-view+json": {
       "model_id": "",
       "version_major": 2,
       "version_minor": 0
      },
      "text/plain": [
       "  0%|          | 0/500 [00:00<?, ?it/s]"
      ]
     },
     "metadata": {},
     "output_type": "display_data"
    },
    {
     "data": {
      "application/vnd.jupyter.widget-view+json": {
       "model_id": "",
       "version_major": 2,
       "version_minor": 0
      },
      "text/plain": [
       "  0%|          | 0/500 [00:00<?, ?it/s]"
      ]
     },
     "metadata": {},
     "output_type": "display_data"
    },
    {
     "data": {
      "application/vnd.jupyter.widget-view+json": {
       "model_id": "",
       "version_major": 2,
       "version_minor": 0
      },
      "text/plain": [
       "  0%|          | 0/500 [00:00<?, ?it/s]"
      ]
     },
     "metadata": {},
     "output_type": "display_data"
    },
    {
     "data": {
      "application/vnd.jupyter.widget-view+json": {
       "model_id": "",
       "version_major": 2,
       "version_minor": 0
      },
      "text/plain": [
       "  0%|          | 0/500 [00:00<?, ?it/s]"
      ]
     },
     "metadata": {},
     "output_type": "display_data"
    },
    {
     "data": {
      "application/vnd.jupyter.widget-view+json": {
       "model_id": "",
       "version_major": 2,
       "version_minor": 0
      },
      "text/plain": [
       "  0%|          | 0/500 [00:00<?, ?it/s]"
      ]
     },
     "metadata": {},
     "output_type": "display_data"
    },
    {
     "data": {
      "application/vnd.jupyter.widget-view+json": {
       "model_id": "",
       "version_major": 2,
       "version_minor": 0
      },
      "text/plain": [
       "  0%|          | 0/500 [00:00<?, ?it/s]"
      ]
     },
     "metadata": {},
     "output_type": "display_data"
    },
    {
     "data": {
      "application/vnd.jupyter.widget-view+json": {
       "model_id": "",
       "version_major": 2,
       "version_minor": 0
      },
      "text/plain": [
       "  0%|          | 0/500 [00:00<?, ?it/s]"
      ]
     },
     "metadata": {},
     "output_type": "display_data"
    },
    {
     "data": {
      "application/vnd.jupyter.widget-view+json": {
       "model_id": "",
       "version_major": 2,
       "version_minor": 0
      },
      "text/plain": [
       "  0%|          | 0/500 [00:00<?, ?it/s]"
      ]
     },
     "metadata": {},
     "output_type": "display_data"
    },
    {
     "data": {
      "application/vnd.jupyter.widget-view+json": {
       "model_id": "",
       "version_major": 2,
       "version_minor": 0
      },
      "text/plain": [
       "  0%|          | 0/500 [00:00<?, ?it/s]"
      ]
     },
     "metadata": {},
     "output_type": "display_data"
    },
    {
     "data": {
      "application/vnd.jupyter.widget-view+json": {
       "model_id": "",
       "version_major": 2,
       "version_minor": 0
      },
      "text/plain": [
       "  0%|          | 0/500 [00:00<?, ?it/s]"
      ]
     },
     "metadata": {},
     "output_type": "display_data"
    },
    {
     "data": {
      "application/vnd.jupyter.widget-view+json": {
       "model_id": "",
       "version_major": 2,
       "version_minor": 0
      },
      "text/plain": [
       "  0%|          | 0/500 [00:00<?, ?it/s]"
      ]
     },
     "metadata": {},
     "output_type": "display_data"
    },
    {
     "data": {
      "application/vnd.jupyter.widget-view+json": {
       "model_id": "",
       "version_major": 2,
       "version_minor": 0
      },
      "text/plain": [
       "  0%|          | 0/500 [00:00<?, ?it/s]"
      ]
     },
     "metadata": {},
     "output_type": "display_data"
    },
    {
     "data": {
      "application/vnd.jupyter.widget-view+json": {
       "model_id": "",
       "version_major": 2,
       "version_minor": 0
      },
      "text/plain": [
       "  0%|          | 0/500 [00:00<?, ?it/s]"
      ]
     },
     "metadata": {},
     "output_type": "display_data"
    },
    {
     "data": {
      "application/vnd.jupyter.widget-view+json": {
       "model_id": "",
       "version_major": 2,
       "version_minor": 0
      },
      "text/plain": [
       "  0%|          | 0/500 [00:00<?, ?it/s]"
      ]
     },
     "metadata": {},
     "output_type": "display_data"
    },
    {
     "data": {
      "application/vnd.jupyter.widget-view+json": {
       "model_id": "",
       "version_major": 2,
       "version_minor": 0
      },
      "text/plain": [
       "  0%|          | 0/500 [00:00<?, ?it/s]"
      ]
     },
     "metadata": {},
     "output_type": "display_data"
    },
    {
     "data": {
      "application/vnd.jupyter.widget-view+json": {
       "model_id": "",
       "version_major": 2,
       "version_minor": 0
      },
      "text/plain": [
       "  0%|          | 0/500 [00:00<?, ?it/s]"
      ]
     },
     "metadata": {},
     "output_type": "display_data"
    },
    {
     "data": {
      "application/vnd.jupyter.widget-view+json": {
       "model_id": "",
       "version_major": 2,
       "version_minor": 0
      },
      "text/plain": [
       "  0%|          | 0/500 [00:00<?, ?it/s]"
      ]
     },
     "metadata": {},
     "output_type": "display_data"
    },
    {
     "data": {
      "application/vnd.jupyter.widget-view+json": {
       "model_id": "",
       "version_major": 2,
       "version_minor": 0
      },
      "text/plain": [
       "  0%|          | 0/500 [00:00<?, ?it/s]"
      ]
     },
     "metadata": {},
     "output_type": "display_data"
    },
    {
     "data": {
      "application/vnd.jupyter.widget-view+json": {
       "model_id": "",
       "version_major": 2,
       "version_minor": 0
      },
      "text/plain": [
       "  0%|          | 0/500 [00:00<?, ?it/s]"
      ]
     },
     "metadata": {},
     "output_type": "display_data"
    }
   ],
   "source": [
    "model_vae = hlax.models.VAEBern(dim_latent, dim_obs[0], Encoder, Decoder)\n",
    "config_vae = hlax.vae.load_config(config, model_vae)\n",
    "\n",
    "res_vae = base_vae_hardem.train_test(\n",
    "    key,\n",
    "    X_warmup,\n",
    "    X_test,\n",
    "    config_vae,\n",
    "    config_test,\n",
    "    iwae_bern,\n",
    "    vmap_neg_iwmll,\n",
    "    grad_neg_iwmll_encoder,\n",
    "    hlax.vae.train_checkpoints\n",
    ")"
   ]
  },
  {
   "cell_type": "code",
   "execution_count": 1537,
   "id": "6641e773-ebd5-4b0e-9a66-881e5e042739",
   "metadata": {},
   "outputs": [
    {
     "data": {
      "text/plain": [
       "(10, 1000, 784)"
      ]
     },
     "execution_count": 1537,
     "metadata": {},
     "output_type": "execute_result"
    }
   ],
   "source": [
    "state_final = res_vae[\"train\"][\"state_final\"]\n",
    "*_, vals = model_vae.apply(state_final.params, X_warmup, key, 10)\n",
    "vals.shape"
   ]
  },
  {
   "cell_type": "code",
   "execution_count": 1538,
   "id": "02fda39b-2961-47ba-aa9a-f76ba7584d7d",
   "metadata": {},
   "outputs": [
    {
     "data": {
      "text/plain": [
       "(100,)"
      ]
     },
     "execution_count": 1538,
     "metadata": {},
     "output_type": "execute_result"
    }
   ],
   "source": [
    "res_vae[\"test\"][\"mll_epochs\"][\"e50\"].shape"
   ]
  },
  {
   "cell_type": "code",
   "execution_count": 1542,
   "id": "3806103b-26f2-44a4-be94-6e6a704c26ea",
   "metadata": {},
   "outputs": [
    {
     "data": {
      "text/plain": [
       "Text(0.5, 0.98, 'VAE')"
      ]
     },
     "execution_count": 1542,
     "metadata": {},
     "output_type": "execute_result"
    },
    {
     "data": {
      "image/png": "[encoded data removed]",
      "text/plain": [
       "<Figure size 800x400 with 2 Axes>"
      ]
     },
     "metadata": {
      "image/png": {
       "height": 354,
       "width": 639
      }
     },
     "output_type": "display_data"
    }
   ],
   "source": [
    "ix_target = 5\n",
    "img_reconstruct = vals[ix_target].reshape(-1, 28, 28)\n",
    "img_reconstruct = nn.sigmoid(img_reconstruct).mean(axis=0)\n",
    "\n",
    "img_target = X_warmup[ix_target].reshape(28, 28)\n",
    "\n",
    "fig, ax = plt.subplots(1, 2, figsize=(8, 4))\n",
    "ax[0].imshow(img_target)\n",
    "ax[1].imshow(img_reconstruct)\n",
    "\n",
    "ax[0].axis(\"off\")\n",
    "ax[1].axis(\"off\")\n",
    "\n",
    "plt.suptitle(\"VAE\")"
   ]
  },
  {
   "cell_type": "markdown",
   "id": "409cd6c3-974f-406d-85e5-9f8e0339ecfa",
   "metadata": {},
   "source": [
    "### Umamortised VAE"
   ]
  },
  {
   "cell_type": "code",
   "execution_count": 1515,
   "id": "86c4527e-1570-467d-8345-2d0c0ec97fde",
   "metadata": {},
   "outputs": [
    {
     "data": {
      "application/vnd.jupyter.widget-view+json": {
       "model_id": "27ebd56d1c0a4ce585d76f15a5f4d173",
       "version_major": 2,
       "version_minor": 0
      },
      "text/plain": [
       "  0%|          | 0/1000 [00:00<?, ?it/s]"
      ]
     },
     "metadata": {},
     "output_type": "display_data"
    },
    {
     "data": {
      "application/vnd.jupyter.widget-view+json": {
       "model_id": "88b4f89ba155412ba896dc10fe1906b8",
       "version_major": 2,
       "version_minor": 0
      },
      "text/plain": [
       "  0%|          | 0/20 [00:00<?, ?it/s]"
      ]
     },
     "metadata": {},
     "output_type": "display_data"
    },
    {
     "data": {
      "application/vnd.jupyter.widget-view+json": {
       "model_id": "",
       "version_major": 2,
       "version_minor": 0
      },
      "text/plain": [
       "  0%|          | 0/500 [00:00<?, ?it/s]"
      ]
     },
     "metadata": {},
     "output_type": "display_data"
    },
    {
     "data": {
      "application/vnd.jupyter.widget-view+json": {
       "model_id": "",
       "version_major": 2,
       "version_minor": 0
      },
      "text/plain": [
       "  0%|          | 0/500 [00:00<?, ?it/s]"
      ]
     },
     "metadata": {},
     "output_type": "display_data"
    },
    {
     "data": {
      "application/vnd.jupyter.widget-view+json": {
       "model_id": "",
       "version_major": 2,
       "version_minor": 0
      },
      "text/plain": [
       "  0%|          | 0/500 [00:00<?, ?it/s]"
      ]
     },
     "metadata": {},
     "output_type": "display_data"
    },
    {
     "data": {
      "application/vnd.jupyter.widget-view+json": {
       "model_id": "",
       "version_major": 2,
       "version_minor": 0
      },
      "text/plain": [
       "  0%|          | 0/500 [00:00<?, ?it/s]"
      ]
     },
     "metadata": {},
     "output_type": "display_data"
    },
    {
     "data": {
      "application/vnd.jupyter.widget-view+json": {
       "model_id": "",
       "version_major": 2,
       "version_minor": 0
      },
      "text/plain": [
       "  0%|          | 0/500 [00:00<?, ?it/s]"
      ]
     },
     "metadata": {},
     "output_type": "display_data"
    },
    {
     "data": {
      "application/vnd.jupyter.widget-view+json": {
       "model_id": "",
       "version_major": 2,
       "version_minor": 0
      },
      "text/plain": [
       "  0%|          | 0/500 [00:00<?, ?it/s]"
      ]
     },
     "metadata": {},
     "output_type": "display_data"
    },
    {
     "data": {
      "application/vnd.jupyter.widget-view+json": {
       "model_id": "",
       "version_major": 2,
       "version_minor": 0
      },
      "text/plain": [
       "  0%|          | 0/500 [00:00<?, ?it/s]"
      ]
     },
     "metadata": {},
     "output_type": "display_data"
    },
    {
     "data": {
      "application/vnd.jupyter.widget-view+json": {
       "model_id": "",
       "version_major": 2,
       "version_minor": 0
      },
      "text/plain": [
       "  0%|          | 0/500 [00:00<?, ?it/s]"
      ]
     },
     "metadata": {},
     "output_type": "display_data"
    },
    {
     "data": {
      "application/vnd.jupyter.widget-view+json": {
       "model_id": "",
       "version_major": 2,
       "version_minor": 0
      },
      "text/plain": [
       "  0%|          | 0/500 [00:00<?, ?it/s]"
      ]
     },
     "metadata": {},
     "output_type": "display_data"
    },
    {
     "data": {
      "application/vnd.jupyter.widget-view+json": {
       "model_id": "",
       "version_major": 2,
       "version_minor": 0
      },
      "text/plain": [
       "  0%|          | 0/500 [00:00<?, ?it/s]"
      ]
     },
     "metadata": {},
     "output_type": "display_data"
    },
    {
     "data": {
      "application/vnd.jupyter.widget-view+json": {
       "model_id": "",
       "version_major": 2,
       "version_minor": 0
      },
      "text/plain": [
       "  0%|          | 0/500 [00:00<?, ?it/s]"
      ]
     },
     "metadata": {},
     "output_type": "display_data"
    },
    {
     "data": {
      "application/vnd.jupyter.widget-view+json": {
       "model_id": "",
       "version_major": 2,
       "version_minor": 0
      },
      "text/plain": [
       "  0%|          | 0/500 [00:00<?, ?it/s]"
      ]
     },
     "metadata": {},
     "output_type": "display_data"
    },
    {
     "data": {
      "application/vnd.jupyter.widget-view+json": {
       "model_id": "",
       "version_major": 2,
       "version_minor": 0
      },
      "text/plain": [
       "  0%|          | 0/500 [00:00<?, ?it/s]"
      ]
     },
     "metadata": {},
     "output_type": "display_data"
    },
    {
     "data": {
      "application/vnd.jupyter.widget-view+json": {
       "model_id": "",
       "version_major": 2,
       "version_minor": 0
      },
      "text/plain": [
       "  0%|          | 0/500 [00:00<?, ?it/s]"
      ]
     },
     "metadata": {},
     "output_type": "display_data"
    },
    {
     "data": {
      "application/vnd.jupyter.widget-view+json": {
       "model_id": "",
       "version_major": 2,
       "version_minor": 0
      },
      "text/plain": [
       "  0%|          | 0/500 [00:00<?, ?it/s]"
      ]
     },
     "metadata": {},
     "output_type": "display_data"
    },
    {
     "data": {
      "application/vnd.jupyter.widget-view+json": {
       "model_id": "",
       "version_major": 2,
       "version_minor": 0
      },
      "text/plain": [
       "  0%|          | 0/500 [00:00<?, ?it/s]"
      ]
     },
     "metadata": {},
     "output_type": "display_data"
    },
    {
     "data": {
      "application/vnd.jupyter.widget-view+json": {
       "model_id": "",
       "version_major": 2,
       "version_minor": 0
      },
      "text/plain": [
       "  0%|          | 0/500 [00:00<?, ?it/s]"
      ]
     },
     "metadata": {},
     "output_type": "display_data"
    },
    {
     "data": {
      "application/vnd.jupyter.widget-view+json": {
       "model_id": "",
       "version_major": 2,
       "version_minor": 0
      },
      "text/plain": [
       "  0%|          | 0/500 [00:00<?, ?it/s]"
      ]
     },
     "metadata": {},
     "output_type": "display_data"
    },
    {
     "data": {
      "application/vnd.jupyter.widget-view+json": {
       "model_id": "",
       "version_major": 2,
       "version_minor": 0
      },
      "text/plain": [
       "  0%|          | 0/500 [00:00<?, ?it/s]"
      ]
     },
     "metadata": {},
     "output_type": "display_data"
    },
    {
     "data": {
      "application/vnd.jupyter.widget-view+json": {
       "model_id": "",
       "version_major": 2,
       "version_minor": 0
      },
      "text/plain": [
       "  0%|          | 0/500 [00:00<?, ?it/s]"
      ]
     },
     "metadata": {},
     "output_type": "display_data"
    },
    {
     "name": "stdout",
     "output_type": "stream",
     "text": [
      "CPU times: user 40.6 s, sys: 8.45 s, total: 49 s\n",
      "Wall time: 41.1 s\n"
     ]
    }
   ],
   "source": [
    "%%time\n",
    "model_uvae = hlax.models.UnamortisedVAEBern(dim_latent, dim_obs[0], GaussEncoder, Decoder)\n",
    "config_uvae = hlax.unamortised.load_config(config, model_uvae)\n",
    "\n",
    "res_uvae = base_vae_hardem.train_test(\n",
    "    key,\n",
    "    X_warmup,\n",
    "    X_test,\n",
    "    config_uvae,\n",
    "    config_test,\n",
    "    iwae_bern,\n",
    "    vmap_neg_iwmll,\n",
    "    grad_neg_iwmll_encoder,\n",
    "    hlax.unamortised.train_checkpoints\n",
    ")"
   ]
  },
  {
   "cell_type": "code",
   "execution_count": 1547,
   "id": "cd4127c0-d059-4667-8f40-cab409835af1",
   "metadata": {},
   "outputs": [
    {
     "data": {
      "text/plain": [
       "Text(0.5, 0.98, 'Unconditional, unamortised encoder')"
      ]
     },
     "execution_count": 1547,
     "metadata": {},
     "output_type": "execute_result"
    },
    {
     "data": {
      "image/png": "[encoded data removed]",
      "text/plain": [
       "<Figure size 800x400 with 2 Axes>"
      ]
     },
     "metadata": {
      "image/png": {
       "height": 354,
       "width": 639
      }
     },
     "output_type": "display_data"
    }
   ],
   "source": [
    "state_final = res_uvae[\"train\"][\"state_final\"]\n",
    "params_hemv2 = state_final.params\n",
    "vals = model_uvae.apply(params_hemv2, X_warmup, key)[-1][0]\n",
    "\n",
    "ix_target = 5\n",
    "img_reconstruct = vals[ix_target].reshape(28, 28)\n",
    "img_reconstruct = nn.sigmoid(img_reconstruct)\n",
    "\n",
    "img_target = X_warmup[ix_target].reshape(28, 28)\n",
    "\n",
    "fig, ax = plt.subplots(1, 2, figsize=(8, 4))\n",
    "ax[0].imshow(img_target)\n",
    "ax[1].imshow(img_reconstruct)\n",
    "\n",
    "ax[0].axis(\"off\")\n",
    "ax[1].axis(\"off\")\n",
    "\n",
    "\n",
    "plt.suptitle(\"Unconditional, unamortised encoder\")"
   ]
  },
  {
   "cell_type": "markdown",
   "id": "f5bdd7e7-78e5-49dd-aa62-4cfa99c2ec21",
   "metadata": {},
   "source": [
    "### Hard-EM LVM"
   ]
  },
  {
   "cell_type": "code",
   "execution_count": 1517,
   "id": "aa5518c2-8a21-4d9b-a2bc-69ac3daee118",
   "metadata": {},
   "outputs": [
    {
     "data": {
      "application/vnd.jupyter.widget-view+json": {
       "model_id": "e91656dec9274ad68da3a4b46e698922",
       "version_major": 2,
       "version_minor": 0
      },
      "text/plain": [
       "  0%|          | 0/1000 [00:00<?, ?it/s]"
      ]
     },
     "metadata": {},
     "output_type": "display_data"
    },
    {
     "data": {
      "application/vnd.jupyter.widget-view+json": {
       "model_id": "c2dd1a2ab1df4314be2125f08336e22e",
       "version_major": 2,
       "version_minor": 0
      },
      "text/plain": [
       "  0%|          | 0/20 [00:00<?, ?it/s]"
      ]
     },
     "metadata": {},
     "output_type": "display_data"
    },
    {
     "data": {
      "application/vnd.jupyter.widget-view+json": {
       "model_id": "",
       "version_major": 2,
       "version_minor": 0
      },
      "text/plain": [
       "  0%|          | 0/500 [00:00<?, ?it/s]"
      ]
     },
     "metadata": {},
     "output_type": "display_data"
    },
    {
     "data": {
      "application/vnd.jupyter.widget-view+json": {
       "model_id": "",
       "version_major": 2,
       "version_minor": 0
      },
      "text/plain": [
       "  0%|          | 0/500 [00:00<?, ?it/s]"
      ]
     },
     "metadata": {},
     "output_type": "display_data"
    },
    {
     "data": {
      "application/vnd.jupyter.widget-view+json": {
       "model_id": "",
       "version_major": 2,
       "version_minor": 0
      },
      "text/plain": [
       "  0%|          | 0/500 [00:00<?, ?it/s]"
      ]
     },
     "metadata": {},
     "output_type": "display_data"
    },
    {
     "data": {
      "application/vnd.jupyter.widget-view+json": {
       "model_id": "",
       "version_major": 2,
       "version_minor": 0
      },
      "text/plain": [
       "  0%|          | 0/500 [00:00<?, ?it/s]"
      ]
     },
     "metadata": {},
     "output_type": "display_data"
    },
    {
     "data": {
      "application/vnd.jupyter.widget-view+json": {
       "model_id": "",
       "version_major": 2,
       "version_minor": 0
      },
      "text/plain": [
       "  0%|          | 0/500 [00:00<?, ?it/s]"
      ]
     },
     "metadata": {},
     "output_type": "display_data"
    },
    {
     "data": {
      "application/vnd.jupyter.widget-view+json": {
       "model_id": "",
       "version_major": 2,
       "version_minor": 0
      },
      "text/plain": [
       "  0%|          | 0/500 [00:00<?, ?it/s]"
      ]
     },
     "metadata": {},
     "output_type": "display_data"
    },
    {
     "data": {
      "application/vnd.jupyter.widget-view+json": {
       "model_id": "",
       "version_major": 2,
       "version_minor": 0
      },
      "text/plain": [
       "  0%|          | 0/500 [00:00<?, ?it/s]"
      ]
     },
     "metadata": {},
     "output_type": "display_data"
    },
    {
     "data": {
      "application/vnd.jupyter.widget-view+json": {
       "model_id": "",
       "version_major": 2,
       "version_minor": 0
      },
      "text/plain": [
       "  0%|          | 0/500 [00:00<?, ?it/s]"
      ]
     },
     "metadata": {},
     "output_type": "display_data"
    },
    {
     "data": {
      "application/vnd.jupyter.widget-view+json": {
       "model_id": "",
       "version_major": 2,
       "version_minor": 0
      },
      "text/plain": [
       "  0%|          | 0/500 [00:00<?, ?it/s]"
      ]
     },
     "metadata": {},
     "output_type": "display_data"
    },
    {
     "data": {
      "application/vnd.jupyter.widget-view+json": {
       "model_id": "",
       "version_major": 2,
       "version_minor": 0
      },
      "text/plain": [
       "  0%|          | 0/500 [00:00<?, ?it/s]"
      ]
     },
     "metadata": {},
     "output_type": "display_data"
    },
    {
     "data": {
      "application/vnd.jupyter.widget-view+json": {
       "model_id": "",
       "version_major": 2,
       "version_minor": 0
      },
      "text/plain": [
       "  0%|          | 0/500 [00:00<?, ?it/s]"
      ]
     },
     "metadata": {},
     "output_type": "display_data"
    },
    {
     "data": {
      "application/vnd.jupyter.widget-view+json": {
       "model_id": "",
       "version_major": 2,
       "version_minor": 0
      },
      "text/plain": [
       "  0%|          | 0/500 [00:00<?, ?it/s]"
      ]
     },
     "metadata": {},
     "output_type": "display_data"
    },
    {
     "data": {
      "application/vnd.jupyter.widget-view+json": {
       "model_id": "",
       "version_major": 2,
       "version_minor": 0
      },
      "text/plain": [
       "  0%|          | 0/500 [00:00<?, ?it/s]"
      ]
     },
     "metadata": {},
     "output_type": "display_data"
    },
    {
     "data": {
      "application/vnd.jupyter.widget-view+json": {
       "model_id": "",
       "version_major": 2,
       "version_minor": 0
      },
      "text/plain": [
       "  0%|          | 0/500 [00:00<?, ?it/s]"
      ]
     },
     "metadata": {},
     "output_type": "display_data"
    },
    {
     "data": {
      "application/vnd.jupyter.widget-view+json": {
       "model_id": "",
       "version_major": 2,
       "version_minor": 0
      },
      "text/plain": [
       "  0%|          | 0/500 [00:00<?, ?it/s]"
      ]
     },
     "metadata": {},
     "output_type": "display_data"
    },
    {
     "data": {
      "application/vnd.jupyter.widget-view+json": {
       "model_id": "",
       "version_major": 2,
       "version_minor": 0
      },
      "text/plain": [
       "  0%|          | 0/500 [00:00<?, ?it/s]"
      ]
     },
     "metadata": {},
     "output_type": "display_data"
    },
    {
     "data": {
      "application/vnd.jupyter.widget-view+json": {
       "model_id": "",
       "version_major": 2,
       "version_minor": 0
      },
      "text/plain": [
       "  0%|          | 0/500 [00:00<?, ?it/s]"
      ]
     },
     "metadata": {},
     "output_type": "display_data"
    },
    {
     "data": {
      "application/vnd.jupyter.widget-view+json": {
       "model_id": "",
       "version_major": 2,
       "version_minor": 0
      },
      "text/plain": [
       "  0%|          | 0/500 [00:00<?, ?it/s]"
      ]
     },
     "metadata": {},
     "output_type": "display_data"
    },
    {
     "data": {
      "application/vnd.jupyter.widget-view+json": {
       "model_id": "",
       "version_major": 2,
       "version_minor": 0
      },
      "text/plain": [
       "  0%|          | 0/500 [00:00<?, ?it/s]"
      ]
     },
     "metadata": {},
     "output_type": "display_data"
    },
    {
     "data": {
      "application/vnd.jupyter.widget-view+json": {
       "model_id": "",
       "version_major": 2,
       "version_minor": 0
      },
      "text/plain": [
       "  0%|          | 0/500 [00:00<?, ?it/s]"
      ]
     },
     "metadata": {},
     "output_type": "display_data"
    },
    {
     "name": "stdout",
     "output_type": "stream",
     "text": [
      "CPU times: user 35.3 s, sys: 8.87 s, total: 44.2 s\n",
      "Wall time: 26.2 s\n"
     ]
    }
   ],
   "source": [
    "%%time\n",
    "# Decoder model\n",
    "model_hem = Decoder(28 ** 2, dim_latent)\n",
    "config_hem = hlax.hard_em_lvm.load_config(config, model_hem)\n",
    "\n",
    "res_hem = base_vae_hardem.train_test(\n",
    "    key,\n",
    "    X_warmup,\n",
    "    X_test,\n",
    "    config_hem,\n",
    "    config_test,\n",
    "    hard_nmll_bern,\n",
    "    vmap_neg_iwmll,\n",
    "    grad_neg_iwmll_encoder,\n",
    "    hlax.hard_em_lvm.train_checkpoints\n",
    ")"
   ]
  },
  {
   "cell_type": "code",
   "execution_count": 1527,
   "id": "85f0156b-0266-4358-9c63-6af6dda9eae5",
   "metadata": {},
   "outputs": [
    {
     "data": {
      "text/plain": [
       "Text(0.5, 0.98, 'Hard-EM (original / train)')"
      ]
     },
     "execution_count": 1527,
     "metadata": {},
     "output_type": "execute_result"
    },
    {
     "data": {
      "image/png": "[encoded data removed]",
      "text/plain": [
       "<Figure size 800x400 with 2 Axes>"
      ]
     },
     "metadata": {
      "image/png": {
       "height": 354,
       "width": 639
      }
     },
     "output_type": "display_data"
    }
   ],
   "source": [
    "state_final = res_hem[\"train\"][\"state_final\"]\n",
    "params_decoder, z_est = state_final\n",
    "\n",
    "vals = model_hem.apply(params_decoder, z_est)\n",
    "\n",
    "ix_target = 5\n",
    "img_reconstruct = nn.sigmoid(vals[ix_target]).reshape(28, 28)\n",
    "img_target = X_warmup[ix_target].reshape(28, 28)\n",
    "\n",
    "fig, ax = plt.subplots(1, 2, figsize=(8, 4))\n",
    "\n",
    "ax[0].imshow(img_target)\n",
    "ax[1].imshow(img_reconstruct)\n",
    "\n",
    "ax[0].axis(\"off\")\n",
    "ax[1].axis(\"off\")\n",
    "\n",
    "plt.suptitle(\"Hard-EM (original / train)\")"
   ]
  },
  {
   "cell_type": "markdown",
   "id": "3091866f-f4bf-4f1e-8191-006b9853325b",
   "metadata": {},
   "source": [
    "### Hard-EM unamortised (testing API)"
   ]
  },
  {
   "cell_type": "code",
   "execution_count": 1520,
   "id": "f8e7f983-2d18-4a1b-95b3-398ec96bf3e1",
   "metadata": {},
   "outputs": [],
   "source": [
    "class UnamortisedVAEBernDelta(nn.Module):\n",
    "    \"\"\"\n",
    "    Base class for an unamortised variational autoencoder\n",
    "    with Bernoulli decoder p(x|z) = Bern(x| f(z))\n",
    "    and Dirac-delta encoder q(z|x) = delta(z = z^)\n",
    "    \"\"\"\n",
    "    latent_dim: int\n",
    "    obs_dim: int\n",
    "    Encoder: nn.Module\n",
    "    Decoder: nn.Module\n",
    "\n",
    "    def setup(self):\n",
    "        self.encoder = nn.vmap(\n",
    "            self.Encoder,\n",
    "            variable_axes={\"params\": 0},\n",
    "            split_rngs={\"params\": True},\n",
    "            in_axes=0,\n",
    "        )(self.latent_dim)\n",
    "        self.decoder = self.Decoder(self.obs_dim, self.latent_dim)\n",
    "\n",
    "    def __call__(self, x, key_eps, num_samples=1):\n",
    "        z = self.encoder(x)\n",
    "        logit_mean_x = self.decoder(z)\n",
    "        return z, logit_mean_x\n",
    "\n",
    "\n",
    "class DeltaEncoder(nn.Module):\n",
    "    dim_latent: int\n",
    "    normal_init: Callable = nn.initializers.normal()\n",
    "\n",
    "    def setup(self):\n",
    "        self.z = self.param(\"z\", self.normal_init, (self.dim_latent,))\n",
    "\n",
    "    def __call__(self, _):\n",
    "        \"\"\"\n",
    "        Input x (_) is a dummy variable\n",
    "        \"\"\"\n",
    "        return self.z\n",
    "\n",
    "\n",
    "\n",
    "def iwae_bern_delta(key, params, apply_fn, X_batch):\n",
    "    encode_decode = apply_fn(params, X_batch, key)\n",
    "    z_batch, logit_mean_x = encode_decode\n",
    "    _, dim_latent = z_batch.shape\n",
    "    \n",
    "    dist_prior = distrax.MultivariateNormalDiag(jnp.zeros(dim_latent), jnp.ones(dim_latent))\n",
    "    dist_decoder = distrax.Bernoulli(logits=logit_mean_x)\n",
    "    \n",
    "    log_prob_z_prior = dist_prior.log_prob(z_batch)\n",
    "    log_prob_x = dist_decoder.log_prob(X_batch).sum(axis=-1)\n",
    "\n",
    "    log_prob = log_prob_z_prior + log_prob_x\n",
    "\n",
    "    return -log_prob.mean()"
   ]
  },
  {
   "cell_type": "code",
   "execution_count": 1521,
   "id": "460f7bbb-e91f-44dc-866f-5592984e3ff2",
   "metadata": {},
   "outputs": [
    {
     "data": {
      "application/vnd.jupyter.widget-view+json": {
       "model_id": "2c3018e92efc4ddd896d3d3172f8618b",
       "version_major": 2,
       "version_minor": 0
      },
      "text/plain": [
       "  0%|          | 0/1000 [00:00<?, ?it/s]"
      ]
     },
     "metadata": {},
     "output_type": "display_data"
    },
    {
     "data": {
      "application/vnd.jupyter.widget-view+json": {
       "model_id": "e72ebf80988640b9b7e934a3ee28f3e3",
       "version_major": 2,
       "version_minor": 0
      },
      "text/plain": [
       "  0%|          | 0/20 [00:00<?, ?it/s]"
      ]
     },
     "metadata": {},
     "output_type": "display_data"
    },
    {
     "data": {
      "application/vnd.jupyter.widget-view+json": {
       "model_id": "",
       "version_major": 2,
       "version_minor": 0
      },
      "text/plain": [
       "  0%|          | 0/500 [00:00<?, ?it/s]"
      ]
     },
     "metadata": {},
     "output_type": "display_data"
    },
    {
     "data": {
      "application/vnd.jupyter.widget-view+json": {
       "model_id": "",
       "version_major": 2,
       "version_minor": 0
      },
      "text/plain": [
       "  0%|          | 0/500 [00:00<?, ?it/s]"
      ]
     },
     "metadata": {},
     "output_type": "display_data"
    },
    {
     "data": {
      "application/vnd.jupyter.widget-view+json": {
       "model_id": "",
       "version_major": 2,
       "version_minor": 0
      },
      "text/plain": [
       "  0%|          | 0/500 [00:00<?, ?it/s]"
      ]
     },
     "metadata": {},
     "output_type": "display_data"
    },
    {
     "data": {
      "application/vnd.jupyter.widget-view+json": {
       "model_id": "",
       "version_major": 2,
       "version_minor": 0
      },
      "text/plain": [
       "  0%|          | 0/500 [00:00<?, ?it/s]"
      ]
     },
     "metadata": {},
     "output_type": "display_data"
    },
    {
     "data": {
      "application/vnd.jupyter.widget-view+json": {
       "model_id": "",
       "version_major": 2,
       "version_minor": 0
      },
      "text/plain": [
       "  0%|          | 0/500 [00:00<?, ?it/s]"
      ]
     },
     "metadata": {},
     "output_type": "display_data"
    },
    {
     "data": {
      "application/vnd.jupyter.widget-view+json": {
       "model_id": "",
       "version_major": 2,
       "version_minor": 0
      },
      "text/plain": [
       "  0%|          | 0/500 [00:00<?, ?it/s]"
      ]
     },
     "metadata": {},
     "output_type": "display_data"
    },
    {
     "data": {
      "application/vnd.jupyter.widget-view+json": {
       "model_id": "",
       "version_major": 2,
       "version_minor": 0
      },
      "text/plain": [
       "  0%|          | 0/500 [00:00<?, ?it/s]"
      ]
     },
     "metadata": {},
     "output_type": "display_data"
    },
    {
     "data": {
      "application/vnd.jupyter.widget-view+json": {
       "model_id": "",
       "version_major": 2,
       "version_minor": 0
      },
      "text/plain": [
       "  0%|          | 0/500 [00:00<?, ?it/s]"
      ]
     },
     "metadata": {},
     "output_type": "display_data"
    },
    {
     "data": {
      "application/vnd.jupyter.widget-view+json": {
       "model_id": "",
       "version_major": 2,
       "version_minor": 0
      },
      "text/plain": [
       "  0%|          | 0/500 [00:00<?, ?it/s]"
      ]
     },
     "metadata": {},
     "output_type": "display_data"
    },
    {
     "data": {
      "application/vnd.jupyter.widget-view+json": {
       "model_id": "",
       "version_major": 2,
       "version_minor": 0
      },
      "text/plain": [
       "  0%|          | 0/500 [00:00<?, ?it/s]"
      ]
     },
     "metadata": {},
     "output_type": "display_data"
    },
    {
     "data": {
      "application/vnd.jupyter.widget-view+json": {
       "model_id": "",
       "version_major": 2,
       "version_minor": 0
      },
      "text/plain": [
       "  0%|          | 0/500 [00:00<?, ?it/s]"
      ]
     },
     "metadata": {},
     "output_type": "display_data"
    },
    {
     "data": {
      "application/vnd.jupyter.widget-view+json": {
       "model_id": "",
       "version_major": 2,
       "version_minor": 0
      },
      "text/plain": [
       "  0%|          | 0/500 [00:00<?, ?it/s]"
      ]
     },
     "metadata": {},
     "output_type": "display_data"
    },
    {
     "data": {
      "application/vnd.jupyter.widget-view+json": {
       "model_id": "",
       "version_major": 2,
       "version_minor": 0
      },
      "text/plain": [
       "  0%|          | 0/500 [00:00<?, ?it/s]"
      ]
     },
     "metadata": {},
     "output_type": "display_data"
    },
    {
     "data": {
      "application/vnd.jupyter.widget-view+json": {
       "model_id": "",
       "version_major": 2,
       "version_minor": 0
      },
      "text/plain": [
       "  0%|          | 0/500 [00:00<?, ?it/s]"
      ]
     },
     "metadata": {},
     "output_type": "display_data"
    },
    {
     "data": {
      "application/vnd.jupyter.widget-view+json": {
       "model_id": "",
       "version_major": 2,
       "version_minor": 0
      },
      "text/plain": [
       "  0%|          | 0/500 [00:00<?, ?it/s]"
      ]
     },
     "metadata": {},
     "output_type": "display_data"
    },
    {
     "data": {
      "application/vnd.jupyter.widget-view+json": {
       "model_id": "",
       "version_major": 2,
       "version_minor": 0
      },
      "text/plain": [
       "  0%|          | 0/500 [00:00<?, ?it/s]"
      ]
     },
     "metadata": {},
     "output_type": "display_data"
    },
    {
     "data": {
      "application/vnd.jupyter.widget-view+json": {
       "model_id": "",
       "version_major": 2,
       "version_minor": 0
      },
      "text/plain": [
       "  0%|          | 0/500 [00:00<?, ?it/s]"
      ]
     },
     "metadata": {},
     "output_type": "display_data"
    },
    {
     "data": {
      "application/vnd.jupyter.widget-view+json": {
       "model_id": "",
       "version_major": 2,
       "version_minor": 0
      },
      "text/plain": [
       "  0%|          | 0/500 [00:00<?, ?it/s]"
      ]
     },
     "metadata": {},
     "output_type": "display_data"
    },
    {
     "data": {
      "application/vnd.jupyter.widget-view+json": {
       "model_id": "",
       "version_major": 2,
       "version_minor": 0
      },
      "text/plain": [
       "  0%|          | 0/500 [00:00<?, ?it/s]"
      ]
     },
     "metadata": {},
     "output_type": "display_data"
    },
    {
     "data": {
      "application/vnd.jupyter.widget-view+json": {
       "model_id": "",
       "version_major": 2,
       "version_minor": 0
      },
      "text/plain": [
       "  0%|          | 0/500 [00:00<?, ?it/s]"
      ]
     },
     "metadata": {},
     "output_type": "display_data"
    },
    {
     "name": "stdout",
     "output_type": "stream",
     "text": [
      "CPU times: user 32.8 s, sys: 7.11 s, total: 40 s\n",
      "Wall time: 25.5 s\n"
     ]
    }
   ],
   "source": [
    "%%time\n",
    "model_hemv02 = UnamortisedVAEBernDelta(dim_latent, dim_obs[0], DeltaEncoder, Decoder)\n",
    "config_hemv02 = hlax.unamortised.load_config(config, model_hemv02)\n",
    "\n",
    "res_hemv02 = base_vae_hardem.train_test(\n",
    "    key,\n",
    "    X_warmup,\n",
    "    X_test,\n",
    "    config_hemv02,\n",
    "    config_test,\n",
    "    iwae_bern_delta,\n",
    "    vmap_neg_iwmll,\n",
    "    grad_neg_iwmll_encoder,\n",
    "    hlax.unamortised.train_checkpoints\n",
    ")"
   ]
  },
  {
   "cell_type": "code",
   "execution_count": 1530,
   "id": "82d5d214-4582-45ab-9bca-64b024e4c11e",
   "metadata": {},
   "outputs": [
    {
     "data": {
      "text/plain": [
       "Text(0.5, 0.98, 'Hard-EM (refactor / train)')"
      ]
     },
     "execution_count": 1530,
     "metadata": {},
     "output_type": "execute_result"
    },
    {
     "data": {
      "image/png": "[encoded data removed]",
      "text/plain": [
       "<Figure size 800x400 with 2 Axes>"
      ]
     },
     "metadata": {
      "image/png": {
       "height": 354,
       "width": 639
      }
     },
     "output_type": "display_data"
    }
   ],
   "source": [
    "state_final = res_hemv02[\"train\"][\"state_final\"]\n",
    "params_hemv2 = state_final.params\n",
    "vals = model_hemv02.apply(params_hemv2, X_warmup, key)[1]\n",
    "\n",
    "ix_target = 5\n",
    "img_reconstruct = vals[ix_target].reshape(28, 28)\n",
    "img_reconstruct = nn.sigmoid(img_reconstruct)\n",
    "\n",
    "img_target = X_warmup[ix_target].reshape(28, 28)\n",
    "\n",
    "fig, ax = plt.subplots(1, 2, figsize=(8, 4))\n",
    "ax[0].imshow(img_target)\n",
    "ax[1].imshow(img_reconstruct)\n",
    "\n",
    "ax[0].axis(\"off\")\n",
    "ax[1].axis(\"off\")\n",
    "\n",
    "plt.suptitle(\"Hard-EM (refactor / train)\")"
   ]
  },
  {
   "cell_type": "code",
   "execution_count": 1766,
   "id": "3818ae0c-aff4-44d4-b9a9-6cff848b3640",
   "metadata": {},
   "outputs": [
    {
     "data": {
      "application/vnd.jupyter.widget-view+json": {
       "model_id": "",
       "version_major": 2,
       "version_minor": 0
      },
      "text/plain": [
       "  0%|          | 0/1000 [00:00<?, ?it/s]"
      ]
     },
     "metadata": {},
     "output_type": "display_data"
    }
   ],
   "source": [
    "config_test_new = deepcopy(config_hemv02)\n",
    "config_test_new.num_m_steps = 0\n",
    "config_test_new.num_epochs = 1000\n",
    "config_test_new.batch_size = len(X_test)\n",
    "\n",
    "params_final = res_vae[\"train\"][\"state_final\"].params\n",
    "params_decoder_final = params_final[\"params\"][\"decoder\"]\n",
    "\n",
    "res_test = hlax.unamortised.test_decoder(key, config_test_new, X_test, iwae_bern_delta, params_decoder_final)\n",
    "params_test = res_test[\"state\"].params"
   ]
  },
  {
   "cell_type": "code",
   "execution_count": 1767,
   "id": "16d8fb6b-6f2e-4361-8e15-1a0962b8df09",
   "metadata": {},
   "outputs": [
    {
     "data": {
      "image/png": "[encoded data removed]",
      "text/plain": [
       "<Figure size 800x400 with 2 Axes>"
      ]
     },
     "metadata": {
      "image/png": {
       "height": 301,
       "width": 639
      }
     },
     "output_type": "display_data"
    }
   ],
   "source": [
    "ix_target = 9\n",
    "\n",
    "fig, ax = plt.subplots(1, 2, figsize=(8, 4))\n",
    "\n",
    "img_truth = X_test[ix_target].reshape(28, 28)\n",
    "img_reconstruct = config_test_new.model.apply(params_test, X_test, key)[1]\n",
    "img_reconstruct = nn.sigmoid(img_reconstruct[ix_target]).reshape(28, 28)\n",
    "\n",
    "ax[0].imshow(img_truth)\n",
    "ax[1].imshow(img_reconstruct)\n",
    "\n",
    "ax[0].axis(\"off\")\n",
    "ax[1].axis(\"off\");"
   ]
  },
  {
   "cell_type": "markdown",
   "id": "b19759c1-9521-491a-a10b-3e297f68814d",
   "metadata": {},
   "source": [
    "## Test phase"
   ]
  },
  {
   "cell_type": "code",
   "execution_count": 1534,
   "id": "a3d42d11-f5b6-4984-8671-3363d3020542",
   "metadata": {},
   "outputs": [
    {
     "data": {
      "image/png": "[encoded data removed]",
      "text/plain": [
       "<Figure size 1000x400 with 1 Axes>"
      ]
     },
     "metadata": {
      "image/png": {
       "height": 419,
       "width": 872
      }
     },
     "output_type": "display_data"
    }
   ],
   "source": [
    "df_uvae = build_mll_summary(res_uvae, \"uvae\")\n",
    "df_vae = build_mll_summary(res_vae, \"vae\")\n",
    "df_hem = build_mll_summary(res_hem, \"hard-em (original)\")\n",
    "df_hemv02 = build_mll_summary(res_hemv02, \"hard-em (refactor)\")\n",
    "\n",
    "# df_all = pd.concat([df_hem, df_vae, df_uvae, df_hemv02])\n",
    "df_all = pd.concat([df_vae, df_hem, df_hemv02])\n",
    "# df_all = pd.concat([df_hemv02, df_vae, df_uvae])\n",
    "fig, ax = plt.subplots(figsize=(10, 4))\n",
    "sns.boxenplot(x=\"episode\", y=\"mll\", hue=\"procedure\", data=df_all)\n",
    "plt.title(\"Marginal log-likelihood\")\n",
    "plt.xticks(rotation=45)\n",
    "plt.grid(alpha=0.5)\n",
    "# plt.legend(bbox_to_anchor=(1.0, 1.0))"
   ]
  },
  {
   "cell_type": "markdown",
   "id": "bd176953-e6d4-4041-ab92-f74ba9bb8ada",
   "metadata": {},
   "source": [
    "## Results"
   ]
  },
  {
   "cell_type": "code",
   "execution_count": 1532,
   "id": "b607ad86-4f5b-4774-92e3-828f5c4c6848",
   "metadata": {},
   "outputs": [
    {
     "data": {
      "image/png": "[encoded data removed]",
      "text/plain": [
       "<Figure size 640x480 with 1 Axes>"
      ]
     },
     "metadata": {
      "image/png": {
       "height": 432,
       "width": 592
      }
     },
     "output_type": "display_data"
    }
   ],
   "source": [
    "df_all.pivot_table(index=\"times\", columns=\"procedure\", values=\"mll\").bfill().plot()\n",
    "plt.ylabel(\"IW - Marginal log-likelihood\")\n",
    "plt.xlabel(\"Time (s)\")\n",
    "plt.grid(alpha=0.5)"
   ]
  },
  {
   "cell_type": "code",
   "execution_count": 1608,
   "id": "66aa49db-1c65-4717-a3d3-f61432b2f80c",
   "metadata": {},
   "outputs": [],
   "source": [
    "nepoch = \"e50\"\n",
    "res = res_vae\n",
    "\n",
    "# Encoder params (found at test)\n",
    "test_params_encoder = res[\"test\"][\"params\"][nepoch]\n",
    "\n",
    "# Decoder params (found at training)\n",
    "test_params_decoder = res[\"train\"][\"checkpoint_params\"][nepoch]"
   ]
  },
  {
   "cell_type": "code",
   "execution_count": 1609,
   "id": "f6135e94-05bd-4735-aa77-95827cebbc9e",
   "metadata": {},
   "outputs": [
    {
     "data": {
      "text/plain": [
       "(-0.5, 27.5, 27.5, -0.5)"
      ]
     },
     "execution_count": 1609,
     "metadata": {},
     "output_type": "execute_result"
    },
    {
     "data": {
      "image/png": "[encoded data removed]",
      "text/plain": [
       "<Figure size 640x480 with 1 Axes>"
      ]
     },
     "metadata": {
      "image/png": {
       "height": 389,
       "width": 389
      }
     },
     "output_type": "display_data"
    }
   ],
   "source": [
    "ix_target = 1\n",
    "mu = jax.vmap(config_test.model_encoder.apply, (0, None))(test_params_encoder, key)\n",
    "mu = mu[-1][0]\n",
    "\n",
    "logit_mean_x = config_test.model_decoder.apply(test_params_decoder, mu)\n",
    "\n",
    "plt.imshow(nn.sigmoid(logit_mean_x[ix_target]).reshape(28, 28))\n",
    "plt.axis(\"off\")"
   ]
  },
  {
   "cell_type": "code",
   "execution_count": 1610,
   "id": "e52a524f-f8a8-40d7-860b-c1900f4b4fd0",
   "metadata": {},
   "outputs": [
    {
     "data": {
      "image/png": "[encoded data removed]",
      "text/plain": [
       "<Figure size 640x480 with 1 Axes>"
      ]
     },
     "metadata": {
      "image/png": {
       "height": 389,
       "width": 389
      }
     },
     "output_type": "display_data"
    }
   ],
   "source": [
    "plt.imshow(X_test[ix_target].reshape(28, 28))\n",
    "plt.axis(\"off\");"
   ]
  }
 ],
 "metadata": {
  "kernelspec": {
   "display_name": "Python 3 (ipykernel)",
   "language": "python",
   "name": "python3"
  },
  "language_info": {
   "codemirror_mode": {
    "name": "ipython",
    "version": 3
   },
   "file_extension": ".py",
   "mimetype": "text/x-python",
   "name": "python",
   "nbconvert_exporter": "python",
   "pygments_lexer": "ipython3",
   "version": "3.10.6"
  }
 },
 "nbformat": 4,
 "nbformat_minor": 5
}
