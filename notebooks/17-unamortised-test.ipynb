{
 "cells": [
  {
   "cell_type": "markdown",
   "id": "f518129d-2a96-4bb9-bda4-4dd622944159",
   "metadata": {},
   "source": [
    "# Unamortised VAE test"
   ]
  },
  {
   "cell_type": "code",
   "execution_count": 1,
   "id": "ccc0286a-ec88-4887-9755-a6dba56305db",
   "metadata": {},
   "outputs": [],
   "source": [
    "%load_ext autoreload\n",
    "%autoreload 2"
   ]
  },
  {
   "cell_type": "code",
   "execution_count": 2,
   "id": "b2d631bc-74b3-4a7c-852d-8d61a54c95fb",
   "metadata": {},
   "outputs": [],
   "source": [
    "import sys\n",
    "sys.path.append(\"../experiments/\")\n",
    "import base_vae_hardem"
   ]
  },
  {
   "cell_type": "code",
   "execution_count": 3,
   "id": "e9eb5047-dc4e-4a9f-a4cf-4617f988e79c",
   "metadata": {},
   "outputs": [],
   "source": [
    "import os\n",
    "\n",
    "os.environ[\"TPU_CHIPS_PER_HOST_BOUNDS\"] = \"1,1,1\"\n",
    "os.environ[\"TPU_HOST_BOUNDS\"] = \"1,1,1\"\n",
    "os.environ[\"TPU_VISIBLE_DEVICES\"] = \"0\""
   ]
  },
  {
   "cell_type": "code",
   "execution_count": 4,
   "id": "05ffa0ac-38c8-4e93-be16-a4a65693e493",
   "metadata": {},
   "outputs": [],
   "source": [
    "import jax\n",
    "import hlax\n",
    "import tomli\n",
    "import distrax\n",
    "import pandas as pd\n",
    "import seaborn as sns\n",
    "import jax.numpy as jnp\n",
    "import flax.linen as nn\n",
    "import matplotlib.pyplot as plt"
   ]
  },
  {
   "cell_type": "code",
   "execution_count": 5,
   "id": "2ba39221-fb52-4a3e-86d6-6d3b88e0834e",
   "metadata": {},
   "outputs": [],
   "source": [
    "%config InlineBackend.figure_format = \"retina\""
   ]
  },
  {
   "cell_type": "code",
   "execution_count": 6,
   "id": "b7ce2e98-70d2-4e78-b3c9-76780476ad22",
   "metadata": {},
   "outputs": [],
   "source": [
    "def build_mll_summary(res, procedure):\n",
    "    df_mll = pd.DataFrame(res[\"test\"]).melt(var_name=\"episode\", value_name=\"mll\")\n",
    "    df_mll[\"procedure\"] = procedure\n",
    "\n",
    "    df_times = pd.DataFrame.from_dict({\"times\": res[\"train\"][\"times\"]}, orient=\"index\").T\n",
    "    df_mll = pd.merge(df_mll, df_times, left_on=\"episode\", right_index=True)\n",
    "    return df_mll"
   ]
  },
  {
   "cell_type": "markdown",
   "id": "473cc609-0d25-4230-8eb3-ba40cf8c8fcf",
   "metadata": {},
   "source": [
    "## Loss functions"
   ]
  },
  {
   "cell_type": "code",
   "execution_count": 8,
   "id": "244e5c3a-ab5e-456c-8a94-9ffad76a1b70",
   "metadata": {},
   "outputs": [],
   "source": [
    "def iwae_bern(key, params, apply_fn, X_batch):\n",
    "    \"\"\"\n",
    "    Importance-weighted marginal log-likelihood for\n",
    "    a Bernoulli decoder\n",
    "    \"\"\"\n",
    "    batch_size = len(X_batch)\n",
    "\n",
    "    # keys = jax.random.split(key, batch_size)\n",
    "    # encode_decode = jax.vmap(apply_fn, (None, 0, 0))\n",
    "    # encode_decode = encode_decode(params, X_batch, keys)\n",
    "    encode_decode = apply_fn(params, X_batch, key)\n",
    "    z, (mean_z, logvar_z), logit_mean_x = encode_decode\n",
    "    _, num_is_samples, dim_latent = z.shape\n",
    "\n",
    "    std_z = jnp.exp(logvar_z / 2)\n",
    "    \n",
    "    dist_prior = distrax.MultivariateNormalDiag(jnp.zeros(dim_latent),\n",
    "                                                jnp.ones(dim_latent))\n",
    "    dist_decoder = distrax.Bernoulli(logits=logit_mean_x)\n",
    "    dist_posterior = distrax.Normal(mean_z[None, ...], std_z[None, ...])\n",
    "\n",
    "    log_prob_z_prior = dist_prior.log_prob(z)\n",
    "    log_prob_x = dist_decoder.log_prob(X_batch).sum(axis=-1)\n",
    "    log_prob_z_post = dist_posterior.log_prob(z).sum(axis=-1)\n",
    "\n",
    "    log_prob = log_prob_z_prior + log_prob_x - log_prob_z_post\n",
    "\n",
    "    # negative Importance-weighted marginal log-likelihood\n",
    "    niwmll = -jax.nn.logsumexp(log_prob, axis=-1, b=1/num_is_samples).mean()\n",
    "    return niwmll\n",
    "\n",
    "\n",
    "\n",
    "def hard_nmll_bern(params, z_batch, X_batch, model):\n",
    "    \"\"\"\n",
    "    Loss function\n",
    "    -------------\n",
    "\n",
    "    Negative Marginal log-likelihood for hard EM\n",
    "    assuming an isotropic Gaussian prior with zero mean\n",
    "    and a decoder with a diagonal covariance matrix\n",
    "\n",
    "    Parameters\n",
    "    ----------\n",
    "    params: pytree\n",
    "        Parameters of the decoder model, i.e.,\n",
    "        model.apply(params, z_batch) = X_batch (approx)\n",
    "    z_batch: jnp.ndarray\n",
    "        Batch of latent variables\n",
    "    X_batch: jnp.ndarray\n",
    "        Batch of observations\n",
    "    model: flax.nn.Module\n",
    "        Decoder model (input z -> output x)\n",
    "    \"\"\"\n",
    "    dim_latent = model.dim_latent\n",
    "\n",
    "    logit_mean_x = model.apply(params, z_batch)\n",
    "\n",
    "    dist_prior = distrax.MultivariateNormalDiag(jnp.zeros(dim_latent), jnp.ones(dim_latent))\n",
    "    dist_decoder = distrax.Bernoulli(logits=logit_mean_x)\n",
    "\n",
    "    log_prob_z_prior = dist_prior.log_prob(z_batch)\n",
    "    log_prob_x = dist_decoder.log_prob(X_batch).sum(axis=-1)\n",
    "\n",
    "    log_prob = log_prob_z_prior + log_prob_x\n",
    "\n",
    "    return -log_prob.mean()\n",
    "\n",
    "\n",
    "def neg_iwmll_bern(key, params_encoder, params_decoder, observation,\n",
    "              encoder, decoder, num_is_samples=10):\n",
    "    \"\"\"\n",
    "    Importance-weighted marginal log-likelihood for an unamortised, uncoditional\n",
    "    gaussian encoder.\n",
    "    \"\"\"\n",
    "    latent_samples, (mu_z, std_z) = encoder.apply(\n",
    "        params_encoder, key, num_samples=num_is_samples\n",
    "    )\n",
    "\n",
    "    _, dim_latent = latent_samples.shape\n",
    "    # log p(x|z)\n",
    "    logit_mean_x = decoder.apply(params_decoder, latent_samples)\n",
    "    log_px_cond = distrax.Bernoulli(logits=logit_mean_x).log_prob(observation).sum(axis=-1)\n",
    "\n",
    "    # log p(z)\n",
    "    mu_z_init, std_z_init = jnp.zeros(dim_latent), jnp.ones(dim_latent)\n",
    "    log_pz = distrax.MultivariateNormalDiag(mu_z_init, std_z_init).log_prob(latent_samples)\n",
    "\n",
    "    # log q(z)\n",
    "    log_qz = distrax.MultivariateNormalDiag(mu_z, std_z).log_prob(latent_samples)\n",
    "\n",
    "    # Importance-weighted marginal log-likelihood\n",
    "    log_prob = log_pz + log_px_cond - log_qz\n",
    "    niwmll = -jax.nn.logsumexp(log_prob, axis=-1, b=1/num_is_samples)\n",
    "    return niwmll"
   ]
  },
  {
   "cell_type": "markdown",
   "id": "77acf9a7-86c4-49a1-80dc-0a36bb1c2114",
   "metadata": {},
   "source": [
    "## Models"
   ]
  },
  {
   "cell_type": "code",
   "execution_count": 31,
   "id": "63f82429-39f3-4508-9e95-0a7229ce7520",
   "metadata": {},
   "outputs": [],
   "source": [
    "from typing import Callable\n",
    "\n",
    "class Decoder(nn.Module):\n",
    "    \"\"\"\n",
    "    For the generative model\n",
    "    p(x,z) = p(x|z) * p(z)\n",
    "    \"\"\"\n",
    "    dim_full: int\n",
    "    dim_latent: int = 20\n",
    "    \n",
    "    def setup(self):\n",
    "        self.logit = nn.Dense(self.dim_full, use_bias=True, name=\"mean\")\n",
    "    \n",
    "    @nn.compact\n",
    "    def __call__(self, z):\n",
    "        x = nn.Dense(200)(z)\n",
    "        x = nn.elu(x)\n",
    "        x = nn.Dense(100)(x)\n",
    "        x = nn.elu(x)\n",
    "        x = nn.Dense(50)(x)\n",
    "        x = nn.elu(x)\n",
    "        logit_x = self.logit(x)\n",
    "        return logit_x\n",
    "\n",
    "\n",
    "class Encoder(nn.Module):\n",
    "    \"\"\"\n",
    "    two-layered encoder\n",
    "    \"\"\"\n",
    "    latent_dim: int\n",
    "    n_hidden: int = 100\n",
    "    \n",
    "    @nn.compact\n",
    "    def __call__(self, x):\n",
    "        z = nn.Dense(self.n_hidden)(x)\n",
    "        z = nn.elu(z)\n",
    "        z = nn.Dense(self.n_hidden)(z)\n",
    "        z = nn.elu(z)\n",
    "        mean_z = nn.Dense(self.latent_dim)(z)\n",
    "        logvar_z = nn.Dense(self.latent_dim)(z)\n",
    "        return mean_z, logvar_z\n",
    "    \n",
    "    \n",
    "class GaussEncoder(nn.Module):\n",
    "    dim_latent: int\n",
    "    normal_init: Callable = nn.initializers.normal()\n",
    "\n",
    "    def setup(self):\n",
    "        self.mu = self.param(\"mu\", self.normal_init, (self.dim_latent,))\n",
    "        self.logvar_diag = self.param(\"logvar_diag\", self.normal_init, (self.dim_latent,))\n",
    "\n",
    "    def sample_proposal(self, key, num_samples):\n",
    "        std = jnp.exp(self.logvar_diag / 2)\n",
    "        eps = jax.random.normal(key, (num_samples, self.dim_latent))\n",
    "        z = self.mu[None, ...] + jnp.einsum(\"d,...d->...d\", std, eps)\n",
    "        return z\n",
    "\n",
    "    def __call__(self, _):\n",
    "        \"\"\"\n",
    "        Input x (_) is a dummy variable\n",
    "        \"\"\"\n",
    "        return self.mu, self.logvar_diag"
   ]
  },
  {
   "cell_type": "markdown",
   "id": "cad12d52-946b-447b-ab61-a236d7ea1526",
   "metadata": {},
   "source": [
    "## Setup"
   ]
  },
  {
   "cell_type": "code",
   "execution_count": 9,
   "id": "0b42b9aa-561c-4062-8d76-f6bdc81fbba0",
   "metadata": {},
   "outputs": [],
   "source": [
    "batch_size = 200\n",
    "key = jax.random.PRNGKey(314)\n",
    "warmup, test = hlax.datasets.load_fashion_mnist(n_train=1000, n_test=100, normalize=False)\n",
    "X_warmup = warmup[0].round()\n",
    "X_test = test[0].round()"
   ]
  },
  {
   "cell_type": "code",
   "execution_count": 12,
   "id": "b4e8f188-fd0e-4a72-a39e-ce5a747ebba1",
   "metadata": {},
   "outputs": [],
   "source": [
    "dim_latent = 50\n",
    "num_obs, *dim_obs = X_warmup.shape"
   ]
  },
  {
   "cell_type": "code",
   "execution_count": 13,
   "id": "cad689e6-e9a4-427c-94e7-32759ba529f3",
   "metadata": {},
   "outputs": [
    {
     "name": "stdout",
     "output_type": "stream",
     "text": [
      "# TOML file for a fashion mnist dataset\n",
      "[setup]\n",
      "dim_latent = 50\n",
      "\n",
      "[train]\n",
      "    num_obs = 10_000\n",
      "    num_epochs = 3000\n",
      "    batch_size = 200\n",
      "    eval_epochs = [2, 10, 100, 250, 500, 1000, 1100, 1200, 1300, 1400, 1500, 1600, 1700, 1800, 1900, 2000, 2500, 3000]\n",
      "    learning_rate = 1e-6 # For VAE and HardEM\n",
      "\n",
      "    [train.vae]\n",
      "        num_is_samples = 10\n",
      "    [train.hard_em]\n",
      "        num_its_latent = 10 # E-step\n",
      "        num_its_params = 5 # M-step\n",
      "\n",
      "[test]\n",
      "    num_obs = 1000\n",
      "    num_epochs = 500\n",
      "    learning_rate = 1e-6\n",
      "    num_is_samples = 10\n"
     ]
    }
   ],
   "source": [
    "path_config = \"../experiments/configs/fmnist-conv01.toml\"\n",
    "with open(path_config, \"rb\") as f:\n",
    "    config_str = f.read().decode(\"utf-8\")\n",
    "    config = tomli.loads(config_str)\n",
    "\n",
    "print(config_str)"
   ]
  },
  {
   "cell_type": "code",
   "execution_count": 14,
   "id": "986c75ad-848b-4ce7-989a-da5faa099849",
   "metadata": {},
   "outputs": [],
   "source": [
    "model_decoder = Decoder(28 ** 2, dim_latent)\n",
    "model_encoder_test = hlax.models.GaussEncoder(dim_latent)\n",
    "config_test = base_vae_hardem.load_test_config(config, model_encoder_test, model_decoder)\n",
    "\n",
    "grad_neg_iwmll_encoder = jax.value_and_grad(neg_iwmll_bern, argnums=1)\n",
    "vmap_neg_iwmll = jax.vmap(neg_iwmll_bern, (0, 0, None, 0, None, None, None))"
   ]
  },
  {
   "cell_type": "markdown",
   "id": "68ea9f0a-c63b-4021-85e0-73dbae9263d7",
   "metadata": {},
   "source": [
    "## Benchmark models"
   ]
  },
  {
   "cell_type": "markdown",
   "id": "29d868cc-b615-4fda-97d8-f255a2f1608b",
   "metadata": {},
   "source": [
    "### VAE"
   ]
  },
  {
   "cell_type": "code",
   "execution_count": 15,
   "id": "4d366722-1f08-4929-836f-052b0b90dcec",
   "metadata": {},
   "outputs": [
    {
     "data": {
      "application/vnd.jupyter.widget-view+json": {
       "model_id": "fa4069db8d084601a8983a7d3e42672b",
       "version_major": 2,
       "version_minor": 0
      },
      "text/plain": [
       "  0%|          | 0/3000 [00:00<?, ?it/s]"
      ]
     },
     "metadata": {},
     "output_type": "display_data"
    },
    {
     "data": {
      "application/vnd.jupyter.widget-view+json": {
       "model_id": "cf628a7bca084cee813fd3004916d2b3",
       "version_major": 2,
       "version_minor": 0
      },
      "text/plain": [
       "  0%|          | 0/18 [00:00<?, ?it/s]"
      ]
     },
     "metadata": {},
     "output_type": "display_data"
    },
    {
     "data": {
      "application/vnd.jupyter.widget-view+json": {
       "model_id": "",
       "version_major": 2,
       "version_minor": 0
      },
      "text/plain": [
       "  0%|          | 0/500 [00:00<?, ?it/s]"
      ]
     },
     "metadata": {},
     "output_type": "display_data"
    },
    {
     "data": {
      "application/vnd.jupyter.widget-view+json": {
       "model_id": "",
       "version_major": 2,
       "version_minor": 0
      },
      "text/plain": [
       "  0%|          | 0/500 [00:00<?, ?it/s]"
      ]
     },
     "metadata": {},
     "output_type": "display_data"
    },
    {
     "data": {
      "application/vnd.jupyter.widget-view+json": {
       "model_id": "",
       "version_major": 2,
       "version_minor": 0
      },
      "text/plain": [
       "  0%|          | 0/500 [00:00<?, ?it/s]"
      ]
     },
     "metadata": {},
     "output_type": "display_data"
    },
    {
     "data": {
      "application/vnd.jupyter.widget-view+json": {
       "model_id": "",
       "version_major": 2,
       "version_minor": 0
      },
      "text/plain": [
       "  0%|          | 0/500 [00:00<?, ?it/s]"
      ]
     },
     "metadata": {},
     "output_type": "display_data"
    },
    {
     "data": {
      "application/vnd.jupyter.widget-view+json": {
       "model_id": "",
       "version_major": 2,
       "version_minor": 0
      },
      "text/plain": [
       "  0%|          | 0/500 [00:00<?, ?it/s]"
      ]
     },
     "metadata": {},
     "output_type": "display_data"
    },
    {
     "data": {
      "application/vnd.jupyter.widget-view+json": {
       "model_id": "",
       "version_major": 2,
       "version_minor": 0
      },
      "text/plain": [
       "  0%|          | 0/500 [00:00<?, ?it/s]"
      ]
     },
     "metadata": {},
     "output_type": "display_data"
    },
    {
     "data": {
      "application/vnd.jupyter.widget-view+json": {
       "model_id": "",
       "version_major": 2,
       "version_minor": 0
      },
      "text/plain": [
       "  0%|          | 0/500 [00:00<?, ?it/s]"
      ]
     },
     "metadata": {},
     "output_type": "display_data"
    },
    {
     "data": {
      "application/vnd.jupyter.widget-view+json": {
       "model_id": "",
       "version_major": 2,
       "version_minor": 0
      },
      "text/plain": [
       "  0%|          | 0/500 [00:00<?, ?it/s]"
      ]
     },
     "metadata": {},
     "output_type": "display_data"
    },
    {
     "data": {
      "application/vnd.jupyter.widget-view+json": {
       "model_id": "",
       "version_major": 2,
       "version_minor": 0
      },
      "text/plain": [
       "  0%|          | 0/500 [00:00<?, ?it/s]"
      ]
     },
     "metadata": {},
     "output_type": "display_data"
    },
    {
     "data": {
      "application/vnd.jupyter.widget-view+json": {
       "model_id": "",
       "version_major": 2,
       "version_minor": 0
      },
      "text/plain": [
       "  0%|          | 0/500 [00:00<?, ?it/s]"
      ]
     },
     "metadata": {},
     "output_type": "display_data"
    },
    {
     "data": {
      "application/vnd.jupyter.widget-view+json": {
       "model_id": "",
       "version_major": 2,
       "version_minor": 0
      },
      "text/plain": [
       "  0%|          | 0/500 [00:00<?, ?it/s]"
      ]
     },
     "metadata": {},
     "output_type": "display_data"
    },
    {
     "data": {
      "application/vnd.jupyter.widget-view+json": {
       "model_id": "",
       "version_major": 2,
       "version_minor": 0
      },
      "text/plain": [
       "  0%|          | 0/500 [00:00<?, ?it/s]"
      ]
     },
     "metadata": {},
     "output_type": "display_data"
    },
    {
     "data": {
      "application/vnd.jupyter.widget-view+json": {
       "model_id": "",
       "version_major": 2,
       "version_minor": 0
      },
      "text/plain": [
       "  0%|          | 0/500 [00:00<?, ?it/s]"
      ]
     },
     "metadata": {},
     "output_type": "display_data"
    },
    {
     "data": {
      "application/vnd.jupyter.widget-view+json": {
       "model_id": "",
       "version_major": 2,
       "version_minor": 0
      },
      "text/plain": [
       "  0%|          | 0/500 [00:00<?, ?it/s]"
      ]
     },
     "metadata": {},
     "output_type": "display_data"
    },
    {
     "data": {
      "application/vnd.jupyter.widget-view+json": {
       "model_id": "",
       "version_major": 2,
       "version_minor": 0
      },
      "text/plain": [
       "  0%|          | 0/500 [00:00<?, ?it/s]"
      ]
     },
     "metadata": {},
     "output_type": "display_data"
    },
    {
     "data": {
      "application/vnd.jupyter.widget-view+json": {
       "model_id": "",
       "version_major": 2,
       "version_minor": 0
      },
      "text/plain": [
       "  0%|          | 0/500 [00:00<?, ?it/s]"
      ]
     },
     "metadata": {},
     "output_type": "display_data"
    },
    {
     "data": {
      "application/vnd.jupyter.widget-view+json": {
       "model_id": "",
       "version_major": 2,
       "version_minor": 0
      },
      "text/plain": [
       "  0%|          | 0/500 [00:00<?, ?it/s]"
      ]
     },
     "metadata": {},
     "output_type": "display_data"
    },
    {
     "data": {
      "application/vnd.jupyter.widget-view+json": {
       "model_id": "",
       "version_major": 2,
       "version_minor": 0
      },
      "text/plain": [
       "  0%|          | 0/500 [00:00<?, ?it/s]"
      ]
     },
     "metadata": {},
     "output_type": "display_data"
    }
   ],
   "source": [
    "model_vae = hlax.models.VAEBern(dim_latent, dim_obs[0], Encoder, Decoder)\n",
    "config_vae = hlax.vae.load_config(config, model_vae)\n",
    "\n",
    "res_vae = base_vae_hardem.train_test(\n",
    "    key,\n",
    "    X_warmup,\n",
    "    X_test,\n",
    "    config_vae,\n",
    "    config_test,\n",
    "    iwae_bern,\n",
    "    vmap_neg_iwmll,\n",
    "    grad_neg_iwmll_encoder,\n",
    "    hlax.vae.train_checkpoints\n",
    ")"
   ]
  },
  {
   "cell_type": "markdown",
   "id": "87b7b00f-c05d-407c-b00a-92948c0ed182",
   "metadata": {},
   "source": [
    "### Hard-EM LVM"
   ]
  },
  {
   "cell_type": "code",
   "execution_count": 16,
   "id": "aa5518c2-8a21-4d9b-a2bc-69ac3daee118",
   "metadata": {},
   "outputs": [
    {
     "data": {
      "application/vnd.jupyter.widget-view+json": {
       "model_id": "41118889ae174ad6bf9526fc4c88dbeb",
       "version_major": 2,
       "version_minor": 0
      },
      "text/plain": [
       "  0%|          | 0/3000 [00:00<?, ?it/s]"
      ]
     },
     "metadata": {},
     "output_type": "display_data"
    },
    {
     "data": {
      "application/vnd.jupyter.widget-view+json": {
       "model_id": "58218e9f8c5f45b5b4aeb2819d555678",
       "version_major": 2,
       "version_minor": 0
      },
      "text/plain": [
       "  0%|          | 0/18 [00:00<?, ?it/s]"
      ]
     },
     "metadata": {},
     "output_type": "display_data"
    },
    {
     "data": {
      "application/vnd.jupyter.widget-view+json": {
       "model_id": "",
       "version_major": 2,
       "version_minor": 0
      },
      "text/plain": [
       "  0%|          | 0/500 [00:00<?, ?it/s]"
      ]
     },
     "metadata": {},
     "output_type": "display_data"
    },
    {
     "data": {
      "application/vnd.jupyter.widget-view+json": {
       "model_id": "",
       "version_major": 2,
       "version_minor": 0
      },
      "text/plain": [
       "  0%|          | 0/500 [00:00<?, ?it/s]"
      ]
     },
     "metadata": {},
     "output_type": "display_data"
    },
    {
     "data": {
      "application/vnd.jupyter.widget-view+json": {
       "model_id": "",
       "version_major": 2,
       "version_minor": 0
      },
      "text/plain": [
       "  0%|          | 0/500 [00:00<?, ?it/s]"
      ]
     },
     "metadata": {},
     "output_type": "display_data"
    },
    {
     "data": {
      "application/vnd.jupyter.widget-view+json": {
       "model_id": "",
       "version_major": 2,
       "version_minor": 0
      },
      "text/plain": [
       "  0%|          | 0/500 [00:00<?, ?it/s]"
      ]
     },
     "metadata": {},
     "output_type": "display_data"
    },
    {
     "data": {
      "application/vnd.jupyter.widget-view+json": {
       "model_id": "",
       "version_major": 2,
       "version_minor": 0
      },
      "text/plain": [
       "  0%|          | 0/500 [00:00<?, ?it/s]"
      ]
     },
     "metadata": {},
     "output_type": "display_data"
    },
    {
     "data": {
      "application/vnd.jupyter.widget-view+json": {
       "model_id": "",
       "version_major": 2,
       "version_minor": 0
      },
      "text/plain": [
       "  0%|          | 0/500 [00:00<?, ?it/s]"
      ]
     },
     "metadata": {},
     "output_type": "display_data"
    },
    {
     "data": {
      "application/vnd.jupyter.widget-view+json": {
       "model_id": "",
       "version_major": 2,
       "version_minor": 0
      },
      "text/plain": [
       "  0%|          | 0/500 [00:00<?, ?it/s]"
      ]
     },
     "metadata": {},
     "output_type": "display_data"
    },
    {
     "data": {
      "application/vnd.jupyter.widget-view+json": {
       "model_id": "",
       "version_major": 2,
       "version_minor": 0
      },
      "text/plain": [
       "  0%|          | 0/500 [00:00<?, ?it/s]"
      ]
     },
     "metadata": {},
     "output_type": "display_data"
    },
    {
     "data": {
      "application/vnd.jupyter.widget-view+json": {
       "model_id": "",
       "version_major": 2,
       "version_minor": 0
      },
      "text/plain": [
       "  0%|          | 0/500 [00:00<?, ?it/s]"
      ]
     },
     "metadata": {},
     "output_type": "display_data"
    },
    {
     "data": {
      "application/vnd.jupyter.widget-view+json": {
       "model_id": "",
       "version_major": 2,
       "version_minor": 0
      },
      "text/plain": [
       "  0%|          | 0/500 [00:00<?, ?it/s]"
      ]
     },
     "metadata": {},
     "output_type": "display_data"
    },
    {
     "data": {
      "application/vnd.jupyter.widget-view+json": {
       "model_id": "",
       "version_major": 2,
       "version_minor": 0
      },
      "text/plain": [
       "  0%|          | 0/500 [00:00<?, ?it/s]"
      ]
     },
     "metadata": {},
     "output_type": "display_data"
    },
    {
     "data": {
      "application/vnd.jupyter.widget-view+json": {
       "model_id": "",
       "version_major": 2,
       "version_minor": 0
      },
      "text/plain": [
       "  0%|          | 0/500 [00:00<?, ?it/s]"
      ]
     },
     "metadata": {},
     "output_type": "display_data"
    },
    {
     "data": {
      "application/vnd.jupyter.widget-view+json": {
       "model_id": "",
       "version_major": 2,
       "version_minor": 0
      },
      "text/plain": [
       "  0%|          | 0/500 [00:00<?, ?it/s]"
      ]
     },
     "metadata": {},
     "output_type": "display_data"
    },
    {
     "data": {
      "application/vnd.jupyter.widget-view+json": {
       "model_id": "",
       "version_major": 2,
       "version_minor": 0
      },
      "text/plain": [
       "  0%|          | 0/500 [00:00<?, ?it/s]"
      ]
     },
     "metadata": {},
     "output_type": "display_data"
    },
    {
     "data": {
      "application/vnd.jupyter.widget-view+json": {
       "model_id": "",
       "version_major": 2,
       "version_minor": 0
      },
      "text/plain": [
       "  0%|          | 0/500 [00:00<?, ?it/s]"
      ]
     },
     "metadata": {},
     "output_type": "display_data"
    },
    {
     "data": {
      "application/vnd.jupyter.widget-view+json": {
       "model_id": "",
       "version_major": 2,
       "version_minor": 0
      },
      "text/plain": [
       "  0%|          | 0/500 [00:00<?, ?it/s]"
      ]
     },
     "metadata": {},
     "output_type": "display_data"
    },
    {
     "data": {
      "application/vnd.jupyter.widget-view+json": {
       "model_id": "",
       "version_major": 2,
       "version_minor": 0
      },
      "text/plain": [
       "  0%|          | 0/500 [00:00<?, ?it/s]"
      ]
     },
     "metadata": {},
     "output_type": "display_data"
    },
    {
     "data": {
      "application/vnd.jupyter.widget-view+json": {
       "model_id": "",
       "version_major": 2,
       "version_minor": 0
      },
      "text/plain": [
       "  0%|          | 0/500 [00:00<?, ?it/s]"
      ]
     },
     "metadata": {},
     "output_type": "display_data"
    }
   ],
   "source": [
    "# Decoder model\n",
    "model_hem = Decoder(28 ** 2, dim_latent)\n",
    "config_hem = hlax.hard_em_lvm.load_config(config, model_hem)\n",
    "\n",
    "res_hem = base_vae_hardem.train_test(\n",
    "    key,\n",
    "    X_warmup,\n",
    "    X_test,\n",
    "    config_hem,\n",
    "    config_test,\n",
    "    hard_nmll_bern,\n",
    "    vmap_neg_iwmll,\n",
    "    grad_neg_iwmll_encoder,\n",
    "    hlax.hard_em_lvm.train_checkpoints\n",
    ")"
   ]
  },
  {
   "cell_type": "markdown",
   "id": "409cd6c3-974f-406d-85e5-9f8e0339ecfa",
   "metadata": {},
   "source": [
    "### Umamortised VAE"
   ]
  },
  {
   "cell_type": "code",
   "execution_count": 32,
   "id": "86c4527e-1570-467d-8345-2d0c0ec97fde",
   "metadata": {},
   "outputs": [
    {
     "data": {
      "application/vnd.jupyter.widget-view+json": {
       "model_id": "e59691c482f842ca868ffca47d742592",
       "version_major": 2,
       "version_minor": 0
      },
      "text/plain": [
       "  0%|          | 0/3000 [00:00<?, ?it/s]"
      ]
     },
     "metadata": {},
     "output_type": "display_data"
    },
    {
     "data": {
      "application/vnd.jupyter.widget-view+json": {
       "model_id": "423953025dfb427ebed8c6c1ed0c24b3",
       "version_major": 2,
       "version_minor": 0
      },
      "text/plain": [
       "  0%|          | 0/18 [00:00<?, ?it/s]"
      ]
     },
     "metadata": {},
     "output_type": "display_data"
    },
    {
     "data": {
      "application/vnd.jupyter.widget-view+json": {
       "model_id": "",
       "version_major": 2,
       "version_minor": 0
      },
      "text/plain": [
       "  0%|          | 0/500 [00:00<?, ?it/s]"
      ]
     },
     "metadata": {},
     "output_type": "display_data"
    },
    {
     "data": {
      "application/vnd.jupyter.widget-view+json": {
       "model_id": "",
       "version_major": 2,
       "version_minor": 0
      },
      "text/plain": [
       "  0%|          | 0/500 [00:00<?, ?it/s]"
      ]
     },
     "metadata": {},
     "output_type": "display_data"
    },
    {
     "data": {
      "application/vnd.jupyter.widget-view+json": {
       "model_id": "",
       "version_major": 2,
       "version_minor": 0
      },
      "text/plain": [
       "  0%|          | 0/500 [00:00<?, ?it/s]"
      ]
     },
     "metadata": {},
     "output_type": "display_data"
    },
    {
     "data": {
      "application/vnd.jupyter.widget-view+json": {
       "model_id": "",
       "version_major": 2,
       "version_minor": 0
      },
      "text/plain": [
       "  0%|          | 0/500 [00:00<?, ?it/s]"
      ]
     },
     "metadata": {},
     "output_type": "display_data"
    },
    {
     "data": {
      "application/vnd.jupyter.widget-view+json": {
       "model_id": "",
       "version_major": 2,
       "version_minor": 0
      },
      "text/plain": [
       "  0%|          | 0/500 [00:00<?, ?it/s]"
      ]
     },
     "metadata": {},
     "output_type": "display_data"
    },
    {
     "data": {
      "application/vnd.jupyter.widget-view+json": {
       "model_id": "",
       "version_major": 2,
       "version_minor": 0
      },
      "text/plain": [
       "  0%|          | 0/500 [00:00<?, ?it/s]"
      ]
     },
     "metadata": {},
     "output_type": "display_data"
    },
    {
     "data": {
      "application/vnd.jupyter.widget-view+json": {
       "model_id": "",
       "version_major": 2,
       "version_minor": 0
      },
      "text/plain": [
       "  0%|          | 0/500 [00:00<?, ?it/s]"
      ]
     },
     "metadata": {},
     "output_type": "display_data"
    },
    {
     "data": {
      "application/vnd.jupyter.widget-view+json": {
       "model_id": "",
       "version_major": 2,
       "version_minor": 0
      },
      "text/plain": [
       "  0%|          | 0/500 [00:00<?, ?it/s]"
      ]
     },
     "metadata": {},
     "output_type": "display_data"
    },
    {
     "data": {
      "application/vnd.jupyter.widget-view+json": {
       "model_id": "",
       "version_major": 2,
       "version_minor": 0
      },
      "text/plain": [
       "  0%|          | 0/500 [00:00<?, ?it/s]"
      ]
     },
     "metadata": {},
     "output_type": "display_data"
    },
    {
     "data": {
      "application/vnd.jupyter.widget-view+json": {
       "model_id": "",
       "version_major": 2,
       "version_minor": 0
      },
      "text/plain": [
       "  0%|          | 0/500 [00:00<?, ?it/s]"
      ]
     },
     "metadata": {},
     "output_type": "display_data"
    },
    {
     "data": {
      "application/vnd.jupyter.widget-view+json": {
       "model_id": "",
       "version_major": 2,
       "version_minor": 0
      },
      "text/plain": [
       "  0%|          | 0/500 [00:00<?, ?it/s]"
      ]
     },
     "metadata": {},
     "output_type": "display_data"
    },
    {
     "data": {
      "application/vnd.jupyter.widget-view+json": {
       "model_id": "",
       "version_major": 2,
       "version_minor": 0
      },
      "text/plain": [
       "  0%|          | 0/500 [00:00<?, ?it/s]"
      ]
     },
     "metadata": {},
     "output_type": "display_data"
    },
    {
     "data": {
      "application/vnd.jupyter.widget-view+json": {
       "model_id": "",
       "version_major": 2,
       "version_minor": 0
      },
      "text/plain": [
       "  0%|          | 0/500 [00:00<?, ?it/s]"
      ]
     },
     "metadata": {},
     "output_type": "display_data"
    },
    {
     "data": {
      "application/vnd.jupyter.widget-view+json": {
       "model_id": "",
       "version_major": 2,
       "version_minor": 0
      },
      "text/plain": [
       "  0%|          | 0/500 [00:00<?, ?it/s]"
      ]
     },
     "metadata": {},
     "output_type": "display_data"
    },
    {
     "data": {
      "application/vnd.jupyter.widget-view+json": {
       "model_id": "",
       "version_major": 2,
       "version_minor": 0
      },
      "text/plain": [
       "  0%|          | 0/500 [00:00<?, ?it/s]"
      ]
     },
     "metadata": {},
     "output_type": "display_data"
    },
    {
     "data": {
      "application/vnd.jupyter.widget-view+json": {
       "model_id": "",
       "version_major": 2,
       "version_minor": 0
      },
      "text/plain": [
       "  0%|          | 0/500 [00:00<?, ?it/s]"
      ]
     },
     "metadata": {},
     "output_type": "display_data"
    },
    {
     "data": {
      "application/vnd.jupyter.widget-view+json": {
       "model_id": "",
       "version_major": 2,
       "version_minor": 0
      },
      "text/plain": [
       "  0%|          | 0/500 [00:00<?, ?it/s]"
      ]
     },
     "metadata": {},
     "output_type": "display_data"
    },
    {
     "data": {
      "application/vnd.jupyter.widget-view+json": {
       "model_id": "",
       "version_major": 2,
       "version_minor": 0
      },
      "text/plain": [
       "  0%|          | 0/500 [00:00<?, ?it/s]"
      ]
     },
     "metadata": {},
     "output_type": "display_data"
    }
   ],
   "source": [
    "model_uvae = hlax.models.UnamortisedVAEBern(dim_latent, dim_obs[0], GaussEncoder, Decoder)\n",
    "config_uvae = hlax.unamortised.load_config(config, model_uvae)\n",
    "\n",
    "res_uvae = base_vae_hardem.train_test(\n",
    "    key,\n",
    "    X_warmup,\n",
    "    X_test,\n",
    "    config_uvae,\n",
    "    config_test,\n",
    "    iwae_bern,\n",
    "    vmap_neg_iwmll,\n",
    "    grad_neg_iwmll_encoder,\n",
    "    hlax.unamortised.train_checkpoints\n",
    ")"
   ]
  },
  {
   "cell_type": "markdown",
   "id": "bd176953-e6d4-4041-ab92-f74ba9bb8ada",
   "metadata": {},
   "source": [
    "## Results"
   ]
  },
  {
   "cell_type": "code",
   "execution_count": 33,
   "id": "d6d868ef-2ee8-4ea7-bbfe-4dab0abd98fd",
   "metadata": {},
   "outputs": [
    {
     "data": {
      "text/plain": [
       "<matplotlib.legend.Legend at 0x7f5556f66cb0>"
      ]
     },
     "execution_count": 33,
     "metadata": {},
     "output_type": "execute_result"
    },
    {
     "data": {
      "image/png": "[encoded data removed]",
      "text/plain": [
       "<Figure size 1000x400 with 1 Axes>"
      ]
     },
     "metadata": {
      "image/png": {
       "height": 419,
       "width": 978
      }
     },
     "output_type": "display_data"
    }
   ],
   "source": [
    "df_uvae = build_mll_summary(res_uvae, \"uvae\")\n",
    "df_vae = build_mll_summary(res_vae, \"vae\")\n",
    "df_hem = build_mll_summary(res_hem, \"hard-em\")\n",
    "\n",
    "df_all = pd.concat([df_hem, df_vae, df_uvae])\n",
    "fig, ax = plt.subplots(figsize=(10, 4))\n",
    "sns.boxenplot(x=\"episode\", y=\"mll\", hue=\"procedure\", data=df_all)\n",
    "plt.title(\"Marginal log-likelihood\")\n",
    "plt.xticks(rotation=45)\n",
    "plt.grid(alpha=0.5)\n",
    "plt.legend(bbox_to_anchor=(1.0, 1.0))"
   ]
  },
  {
   "cell_type": "markdown",
   "id": "752fd860-d18c-436e-9c03-96c81c1c569c",
   "metadata": {},
   "source": [
    "**Q**: We may consider using E/M type training for the unamortised VAE."
   ]
  }
 ],
 "metadata": {
  "kernelspec": {
   "display_name": "Python 3 (ipykernel)",
   "language": "python",
   "name": "python3"
  },
  "language_info": {
   "codemirror_mode": {
    "name": "ipython",
    "version": 3
   },
   "file_extension": ".py",
   "mimetype": "text/x-python",
   "name": "python",
   "nbconvert_exporter": "python",
   "pygments_lexer": "ipython3",
   "version": "3.10.6"
  }
 },
 "nbformat": 4,
 "nbformat_minor": 5
}
